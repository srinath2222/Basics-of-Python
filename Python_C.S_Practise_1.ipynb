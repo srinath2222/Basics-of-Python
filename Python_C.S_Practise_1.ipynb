{
 "cells": [
  {
   "cell_type": "code",
   "execution_count": 5,
   "id": "5a1c5454-f89d-421d-be2f-48d5b7a7e8be",
   "metadata": {},
   "outputs": [
    {
     "name": "stdin",
     "output_type": "stream",
     "text": [
      "Enter a Number : 44\n"
     ]
    },
    {
     "name": "stdout",
     "output_type": "stream",
     "text": [
      "You entered an Even number : 44\n"
     ]
    }
   ],
   "source": [
    "# To check Even and Odd numbers -\n",
    "\n",
    "num=int(input(\"Enter a Number :\"))\n",
    "if num % 2 & num== 0:\n",
    "    print(\"You entered an Even number :\", num)\n",
    "else:\n",
    "    print(\"You entered an Odd number :\", num)"
   ]
  },
  {
   "cell_type": "code",
   "execution_count": 89,
   "id": "08a7ffe6-ae84-47ab-97f5-73d8490cb023",
   "metadata": {},
   "outputs": [
    {
     "name": "stdin",
     "output_type": "stream",
     "text": [
      "Enter first number :  2\n",
      "Enter second number :  1\n",
      "Enter third number :  3\n"
     ]
    },
    {
     "name": "stdout",
     "output_type": "stream",
     "text": [
      "Largest number is :  3\n"
     ]
    }
   ],
   "source": [
    "# To check largest among three numbers -\n",
    "\n",
    "number1=int(input('Enter first number : '))      \n",
    "number2=int(input('Enter second number : '))\n",
    "number3=int(input('Enter third number : '))\n",
    "\n",
    "if number1>number2 and number1>number3 :\n",
    "    large_num=number1\n",
    "elif number2>number1 and number2>number3 :\n",
    "    large_num=number2\n",
    "else :\n",
    "    large_num=number3\n",
    "    \n",
    "print('Largest number is : ',large_num)"
   ]
  },
  {
   "cell_type": "code",
   "execution_count": 71,
   "id": "734f55d9-80c4-4736-b37d-3704588c9243",
   "metadata": {},
   "outputs": [
    {
     "name": "stdin",
     "output_type": "stream",
     "text": [
      "Enter first number :  90\n",
      "Enter second number :  0\n",
      "Enter third number :  1\n"
     ]
    },
    {
     "name": "stdout",
     "output_type": "stream",
     "text": [
      "Smallest number is :  0\n"
     ]
    }
   ],
   "source": [
    "# To check smallest among three numbers -\n",
    "\n",
    "number1=int(input('Enter first number : '))\n",
    "number2=int(input('Enter second number : '))\n",
    "number3=int(input('Enter third number : '))\n",
    "\n",
    "if number1<number2 and number1<number3 :\n",
    "    small_num=number1\n",
    "elif number2<number1 and number2<number3 :\n",
    "    small_num=number2\n",
    "else :\n",
    "    small_num=number3\n",
    "    \n",
    "print('Smallest number is : ',small_num)"
   ]
  },
  {
   "cell_type": "code",
   "execution_count": 67,
   "id": "9a3f65c0-cf51-4def-ab0c-e43237b86399",
   "metadata": {},
   "outputs": [
    {
     "name": "stdin",
     "output_type": "stream",
     "text": [
      "Enter a year :  376\n"
     ]
    },
    {
     "name": "stdout",
     "output_type": "stream",
     "text": [
      "376 is a Leap year\n"
     ]
    }
   ],
   "source": [
    "# To check if year is a leap year or not - (Leap year is divisible by '4')\n",
    "\n",
    "year=int(input('Enter a year : '))\n",
    "\n",
    "if year % 400 == 0 and year % 400 == 0:             #if year % 400 == 0 and year % 400 == 0:  \n",
    "    print(f\"{year} is a Leap year\")                 #    print(f\"{year} is a Leap year\")\n",
    "elif year % 4 == 0 and year % 100 != 0:             #else:\n",
    "    print(f\"{year} is a Leap year\")                 #    print(f\"{year} is not a Leap year\")\n",
    "else:\n",
    "    print(f\"{year} is not a Leap year\")"
   ]
  },
  {
   "cell_type": "code",
   "execution_count": 13,
   "id": "b7d3f06d-fc6c-4076-84ea-e7be60bdc747",
   "metadata": {},
   "outputs": [
    {
     "name": "stdin",
     "output_type": "stream",
     "text": [
      "Enter a string Srinath\n"
     ]
    },
    {
     "name": "stdout",
     "output_type": "stream",
     "text": [
      "Vowels are : ia\n",
      "Consonants are : Srnth\n"
     ]
    }
   ],
   "source": [
    "# To find Vowels and Consonents from user input string\n",
    "\n",
    "name=input('Enter a string')\n",
    "vowels=('a','e','i','o','u','A','E','I','O','U')\n",
    "VOWELS =''\n",
    "CONSONANTS=''\n",
    "\n",
    "for i in name:\n",
    "    if i in vowels:\n",
    "        VOWELS+= i\n",
    "    else:\n",
    "        CONSONANTS+= i\n",
    "        \n",
    "print(f\"Vowels are : {VOWELS}\")\n",
    "print(f\"Consonants are : {CONSONANTS}\")"
   ]
  },
  {
   "cell_type": "code",
   "execution_count": 7,
   "id": "4e06c748-437c-4358-b528-72c2489f165a",
   "metadata": {},
   "outputs": [
    {
     "name": "stdin",
     "output_type": "stream",
     "text": [
      "Enter a string srinath\n"
     ]
    },
    {
     "name": "stdout",
     "output_type": "stream",
     "text": [
      "Vowels count : 2\n",
      "Consonants count : 5\n"
     ]
    }
   ],
   "source": [
    "# To count the vowels and consonants from user input string\n",
    "\n",
    "name=input('Enter a string')\n",
    "vowels=('a','e','i','o','u','A','E','I','O','U')\n",
    "count_vowels =0\n",
    "count_consonants=0\n",
    "\n",
    "for i in name:\n",
    "    if i in vowels:\n",
    "        count_vowels+=1\n",
    "    else:\n",
    "        count_consonants+=1\n",
    "        \n",
    "print(f\"Vowels count : {count_vowels}\")\n",
    "print(f\"Consonants count : {count_consonants}\")"
   ]
  },
  {
   "cell_type": "code",
   "execution_count": 69,
   "id": "4bb0efef-4be9-4bbd-b854-9e9626bc78d8",
   "metadata": {},
   "outputs": [
    {
     "name": "stdin",
     "output_type": "stream",
     "text": [
      " 12344321\n"
     ]
    },
    {
     "name": "stdout",
     "output_type": "stream",
     "text": [
      "12344321\n"
     ]
    }
   ],
   "source": [
    "# Palindrome\n",
    "\n",
    "string = str(input()) [:: -1]\n",
    "print(string)"
   ]
  },
  {
   "cell_type": "code",
   "execution_count": 5,
   "id": "7ecde02a-f7fb-4b32-960e-7f26d54a3fd9",
   "metadata": {},
   "outputs": [
    {
     "name": "stdin",
     "output_type": "stream",
     "text": [
      "Enter temperature in celcius: 34.5\n"
     ]
    },
    {
     "name": "stdout",
     "output_type": "stream",
     "text": [
      "94.1 F\n"
     ]
    }
   ],
   "source": [
    "#To convert celcius to kelvin\n",
    "\n",
    "celcius=float(input(\"Enter temperature in celcius:\"))\n",
    "cel_Frn=(celcius * 9/5) + 32\n",
    "\n",
    "print(cel_Frn,\"F\")"
   ]
  },
  {
   "cell_type": "code",
   "execution_count": 77,
   "id": "32c668d9-4b06-4a6d-9dc9-84e31f70cfdb",
   "metadata": {},
   "outputs": [
    {
     "name": "stdout",
     "output_type": "stream",
     "text": [
      "1.jan,2.feb,3.mar,4.apr,5.may,6.jun,7.jul,8.aug,9.sep,10.oct,11.nov,12.dec :\n"
     ]
    },
    {
     "name": "stdin",
     "output_type": "stream",
     "text": [
      "Choose a month from above : 9\n"
     ]
    },
    {
     "name": "stdout",
     "output_type": "stream",
     "text": [
      "30 Days\n"
     ]
    }
   ],
   "source": [
    "# program t0 print no.of days in a month.\n",
    "\n",
    "print(\"1.jan,2.feb,3.mar,4.apr,5.may,6.jun,7.jul,8.aug,9.sep,10.oct,11.nov,12.dec :\")\n",
    "month=int(input('Choose a month from above :'))\n",
    "\n",
    "if month==1 or month==3 or month==5 or month==7 or month==8 or month==10 or month==12:\n",
    "    print(31, \"Days\")\n",
    "elif month==4 or month==6 or month==9 or month==11:\n",
    "    print(30, \"Days\")\n",
    "elif month==2:\n",
    "    print(28, \"Days\")\n",
    "else:\n",
    "    print('Enter valid month number')"
   ]
  }
 ],
 "metadata": {
  "kernelspec": {
   "display_name": "Python 3 (ipykernel)",
   "language": "python",
   "name": "python3"
  },
  "language_info": {
   "codemirror_mode": {
    "name": "ipython",
    "version": 3
   },
   "file_extension": ".py",
   "mimetype": "text/x-python",
   "name": "python",
   "nbconvert_exporter": "python",
   "pygments_lexer": "ipython3",
   "version": "3.12.4"
  }
 },
 "nbformat": 4,
 "nbformat_minor": 5
}
