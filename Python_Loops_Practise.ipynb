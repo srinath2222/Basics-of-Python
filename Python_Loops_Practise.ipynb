{
 "cells": [
  {
   "cell_type": "code",
   "execution_count": 1,
   "id": "ababf8a0-c735-44a8-9d0e-26a05824376e",
   "metadata": {},
   "outputs": [
    {
     "name": "stdout",
     "output_type": "stream",
     "text": [
      "1 is Odd number.\n",
      "2 is Even number.\n",
      "3 is Odd number.\n",
      "4 is Even number.\n",
      "5 is Odd number.\n",
      "6 is Even number.\n",
      "7 is Odd number.\n",
      "8 is Even number.\n",
      "9 is Odd number.\n",
      "10 is Even number.\n",
      "11 is Odd number.\n",
      "12 is Even number.\n",
      "13 is Odd number.\n",
      "14 is Even number.\n",
      "15 is Odd number.\n",
      "16 is Even number.\n",
      "17 is Odd number.\n",
      "18 is Even number.\n",
      "19 is Odd number.\n"
     ]
    }
   ],
   "source": [
    "# To find even or odd number\n",
    "\n",
    "for number in range(1,20) :\n",
    "\n",
    "    if number%2==0 :\n",
    "        print(number, \"is Even number.\")\n",
    "    else :\n",
    "        print(number, \"is Odd number.\")"
   ]
  },
  {
   "cell_type": "code",
   "execution_count": 1,
   "id": "8966af33-c67d-44e5-99ef-5c74d226a154",
   "metadata": {},
   "outputs": [
    {
     "name": "stdout",
     "output_type": "stream",
     "text": [
      "1700 is leap year\n",
      "1704 is leap year\n",
      "1708 is leap year\n",
      "1712 is leap year\n"
     ]
    }
   ],
   "source": [
    "# To print only leap year\n",
    "\n",
    "for num in range(1700,1715):\n",
    "    if num%4==0 :\n",
    "        print(num, \"is leap year\")"
   ]
  },
  {
   "cell_type": "code",
   "execution_count": 38,
   "id": "f18fe5c1-78ef-4616-b14f-60962176aac0",
   "metadata": {},
   "outputs": [
    {
     "name": "stdin",
     "output_type": "stream",
     "text": [
      "Enter a string : Marella\n"
     ]
    },
    {
     "name": "stdout",
     "output_type": "stream",
     "text": [
      "M is a consonent.\n",
      "a is a vowel.\n",
      "r is a consonent.\n",
      "e is a vowel.\n",
      "l is a consonent.\n",
      "l is a consonent.\n",
      "a is a vowel.\n"
     ]
    }
   ],
   "source": [
    "# To find Vowels and Consonents from user input string\n",
    "\n",
    "name = str(input(\"Enter a string :\"))\n",
    "vowels=(\"aeiouAEIOU\")\n",
    "\n",
    "for i in name:\n",
    "    if i in vowels:\n",
    "        print(i, \"is a vowel.\")\n",
    "    else:\n",
    "        print(i, \"is a consonent.\")"
   ]
  },
  {
   "cell_type": "code",
   "execution_count": 34,
   "id": "9f05350d-88b0-41a7-83b7-09648bb50582",
   "metadata": {},
   "outputs": [
    {
     "name": "stdin",
     "output_type": "stream",
     "text": [
      "Enter a string :  Marella\n"
     ]
    },
    {
     "name": "stdout",
     "output_type": "stream",
     "text": [
      "Vowels are : aea\n",
      "Consonants are : Mrll\n"
     ]
    }
   ],
   "source": [
    "name=input('Enter a string : ')\n",
    "vowels=('aeiouAEIOU')\n",
    "v =''\n",
    "c=''\n",
    "\n",
    "for i in name:\n",
    "    if i in vowels:\n",
    "        v+= i\n",
    "    else:\n",
    "        c+= i\n",
    "        \n",
    "print(f\"Vowels are : {v}\")\n",
    "print(f\"Consonants are : {c}\")"
   ]
  }
 ],
 "metadata": {
  "kernelspec": {
   "display_name": "Python 3 (ipykernel)",
   "language": "python",
   "name": "python3"
  },
  "language_info": {
   "codemirror_mode": {
    "name": "ipython",
    "version": 3
   },
   "file_extension": ".py",
   "mimetype": "text/x-python",
   "name": "python",
   "nbconvert_exporter": "python",
   "pygments_lexer": "ipython3",
   "version": "3.12.4"
  }
 },
 "nbformat": 4,
 "nbformat_minor": 5
}
