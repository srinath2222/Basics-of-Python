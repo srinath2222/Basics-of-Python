{
 "cells": [
  {
   "cell_type": "markdown",
   "id": "663bb71a-8582-483a-94d9-a3d37fff7d65",
   "metadata": {},
   "source": [
    "# Python Loops :"
   ]
  },
  {
   "cell_type": "markdown",
   "id": "a44ceec0-8204-43a3-8617-b0ab1fb1e24f",
   "metadata": {},
   "source": [
    "### While loop -"
   ]
  },
  {
   "cell_type": "code",
   "execution_count": 1,
   "id": "bc6dd5eb-6ef1-4723-81ed-4b4970e1ebb0",
   "metadata": {},
   "outputs": [
    {
     "name": "stdout",
     "output_type": "stream",
     "text": [
      "1\n",
      "2\n",
      "3\n",
      "4\n",
      "5\n"
     ]
    }
   ],
   "source": [
    "# With the while loop we can execute a set of statements as long as a condition is true.\n",
    "\n",
    "i = 1\n",
    "while i < 6:\n",
    "  print(i)\n",
    "  i += 1"
   ]
  },
  {
   "cell_type": "code",
   "execution_count": 7,
   "id": "63e0a4fd-43b9-449e-a1ba-d14160527a8f",
   "metadata": {},
   "outputs": [
    {
     "name": "stdout",
     "output_type": "stream",
     "text": [
      "1\n",
      "2\n",
      "3\n"
     ]
    }
   ],
   "source": [
    "# break Statement\n",
    "# With the break statement we can stop the loop even if the while condition is true:\n",
    "\n",
    "i = 1\n",
    "while i < 6:\n",
    "  print(i)\n",
    "  if i == 3: \n",
    "    break          # Exit the loop when i is 3.\n",
    "  i += 1"
   ]
  },
  {
   "cell_type": "code",
   "execution_count": 9,
   "id": "0c782959-012e-49dc-98f7-d94e08bddd4a",
   "metadata": {},
   "outputs": [
    {
     "name": "stdout",
     "output_type": "stream",
     "text": [
      "1\n",
      "2\n",
      "4\n",
      "5\n",
      "6\n"
     ]
    }
   ],
   "source": [
    "# continue Statement\n",
    "# With the continue statement we can stop the current iteration, and continue with the next:\n",
    "\n",
    "i = 0\n",
    "while i < 6:\n",
    "  i += 1\n",
    "  if i == 3:\n",
    "    continue      # Continue to the next iteration if i is 3.\n",
    "  print(i)"
   ]
  },
  {
   "cell_type": "code",
   "execution_count": 11,
   "id": "00824b14-1ef3-4c68-8cb7-79b71c8f17af",
   "metadata": {},
   "outputs": [
    {
     "name": "stdout",
     "output_type": "stream",
     "text": [
      "1\n",
      "2\n",
      "3\n",
      "4\n",
      "5\n",
      "i is no longer less than 6\n"
     ]
    }
   ],
   "source": [
    "# else Statement\n",
    "# With the else statement we can run a block of code once when the condition no longer is true:\n",
    "\n",
    "i = 1\n",
    "while i < 6:\n",
    "  print(i)\n",
    "  i += 1\n",
    "else:        # Print a message once the condition is false.\n",
    "  print(\"i is no longer less than 6\")"
   ]
  },
  {
   "cell_type": "markdown",
   "id": "8541cb2e-4352-4198-84b3-e8a634be0f83",
   "metadata": {},
   "source": [
    "### For loop -"
   ]
  },
  {
   "cell_type": "code",
   "execution_count": 13,
   "id": "afc6e78d-86a1-4f93-bae9-cd7e7d54c0cc",
   "metadata": {},
   "outputs": [
    {
     "name": "stdout",
     "output_type": "stream",
     "text": [
      "apple\n",
      "banana\n",
      "cherry\n"
     ]
    }
   ],
   "source": [
    "# A for loop is used for iterating over a sequence (that is either a list, a tuple, a dictionary, a set, or a string).\n",
    "# With the for loop we can execute a set of statements, once for each item in a list, tuple, set etc.\n",
    "\n",
    "fruits = [\"apple\", \"banana\", \"cherry\"]\n",
    "for x in fruits:\n",
    "  print(x)"
   ]
  },
  {
   "cell_type": "code",
   "execution_count": 21,
   "id": "4e02da40-cf82-4d55-b305-b01203da8553",
   "metadata": {},
   "outputs": [
    {
     "name": "stdout",
     "output_type": "stream",
     "text": [
      "apple\n",
      "banana\n"
     ]
    }
   ],
   "source": [
    "# break Statement\n",
    "# With the break statement we can stop the loop before it has looped through all the items:\n",
    "\n",
    "fruits = [\"apple\", \"banana\", \"cherry\"]\n",
    "for x in fruits:\n",
    "  print(x)\n",
    "  if x == \"banana\":\n",
    "    break              # Exit the loop when x is \"banana\".\n"
   ]
  },
  {
   "cell_type": "code",
   "execution_count": 19,
   "id": "fa0b6975-99a9-4f46-a2eb-d72fed54f52e",
   "metadata": {},
   "outputs": [
    {
     "name": "stdout",
     "output_type": "stream",
     "text": [
      "apple\n"
     ]
    }
   ],
   "source": [
    "fruits = [\"apple\", \"banana\", \"cherry\"]\n",
    "for x in fruits:\n",
    "  if x == \"banana\":\n",
    "    break                # Exit the loop when x is \"banana\", but this time the break comes before the print.\n",
    "  print(x)"
   ]
  },
  {
   "cell_type": "code",
   "execution_count": 23,
   "id": "e599c672-8ad3-4d05-8376-9a8b20113abe",
   "metadata": {},
   "outputs": [
    {
     "name": "stdout",
     "output_type": "stream",
     "text": [
      "apple\n",
      "cherry\n"
     ]
    }
   ],
   "source": [
    "# continue Statement\n",
    "# With the continue statement we can stop the current iteration of the loop, and continue with the next:\n",
    "\n",
    "fruits = [\"apple\", \"banana\", \"cherry\"]\n",
    "for x in fruits:\n",
    "  if x == \"banana\":\n",
    "    continue          # Do not print banana.\n",
    "  print(x)"
   ]
  },
  {
   "cell_type": "code",
   "execution_count": 27,
   "id": "78ef9dda-e83e-484c-8908-075f5eb99c43",
   "metadata": {},
   "outputs": [
    {
     "name": "stdout",
     "output_type": "stream",
     "text": [
      "0\n",
      "1\n",
      "2\n",
      "3\n",
      "4\n",
      "5\n"
     ]
    }
   ],
   "source": [
    "# range() Function\n",
    "# To loop through a set of code a specified number of times, we can use the range() function,\n",
    "# The range() function returns a sequence of numbers, starting from 0 by default, and increments by 1 (by default), and ends at a specified number.\n",
    "\n",
    "for x in range(6):  # Note that range(6) is not the values of 0 to 6, but the values 0 to 5.\n",
    "  print(x)"
   ]
  },
  {
   "cell_type": "code",
   "execution_count": 29,
   "id": "7d8dc4e6-ac11-459d-b644-9a0cf1e5d3b8",
   "metadata": {},
   "outputs": [
    {
     "name": "stdout",
     "output_type": "stream",
     "text": [
      "2\n",
      "3\n",
      "4\n",
      "5\n"
     ]
    }
   ],
   "source": [
    "# The range() function defaults to 0 as a starting value, however it is possible to specify the starting value by adding a parameter: range(2, 6), which means values from 2 to 6 (but not including 6).\n",
    "\n",
    "for x in range(2, 6):  # Using the start parameter\n",
    "  print(x)"
   ]
  },
  {
   "cell_type": "code",
   "execution_count": 41,
   "id": "e6f8bf8b-e696-4e08-af29-426b082cf0cf",
   "metadata": {},
   "outputs": [
    {
     "name": "stdout",
     "output_type": "stream",
     "text": [
      "2\n",
      "5\n",
      "8\n",
      "11\n",
      "14\n",
      "17\n",
      "20\n",
      "23\n",
      "26\n",
      "29\n"
     ]
    }
   ],
   "source": [
    "# The range() function defaults to increment the sequence by 1, however it is possible to specify the increment value by adding a third parameter: range(2, 30, 3):\n",
    "\n",
    "for x in range(2, 30, 3):   # Increment the sequence with 3 (default is 1).\n",
    "  print(x)"
   ]
  },
  {
   "cell_type": "code",
   "execution_count": 47,
   "id": "5b1983aa-5e88-44d4-81f0-5d2795bc7757",
   "metadata": {},
   "outputs": [
    {
     "name": "stdout",
     "output_type": "stream",
     "text": [
      "0\n",
      "1\n",
      "2\n"
     ]
    }
   ],
   "source": [
    "# The else block will NOT be executed if the loop is stopped by a break statement.\n",
    "\n",
    "for x in range(6):\n",
    "  if x == 3: break  # Break the loop when x is 3, and see what happens with the else block.\n",
    "  print(x)\n",
    "else:           \n",
    "  print(\"Finally finished!\")"
   ]
  },
  {
   "cell_type": "code",
   "execution_count": 7,
   "id": "27effcc2-9b07-4c50-ae0b-8bc0d3cc9597",
   "metadata": {},
   "outputs": [
    {
     "name": "stdout",
     "output_type": "stream",
     "text": [
      "red apple Small\n",
      "red apple Medium\n",
      "red apple Large\n",
      "red banana Small\n",
      "red banana Medium\n",
      "red banana Large\n",
      "red cherry Small\n",
      "red cherry Medium\n",
      "red cherry Large\n",
      "big apple Small\n",
      "big apple Medium\n",
      "big apple Large\n",
      "big banana Small\n",
      "big banana Medium\n",
      "big banana Large\n",
      "big cherry Small\n",
      "big cherry Medium\n",
      "big cherry Large\n",
      "tasty apple Small\n",
      "tasty apple Medium\n",
      "tasty apple Large\n",
      "tasty banana Small\n",
      "tasty banana Medium\n",
      "tasty banana Large\n",
      "tasty cherry Small\n",
      "tasty cherry Medium\n",
      "tasty cherry Large\n"
     ]
    }
   ],
   "source": [
    "# Nested Loops - A nested loop is a loop inside a loop.\n",
    "# The \"inner loop\" will be executed one time for each iteration of the \"outer loop\":\n",
    "\n",
    "# Print each adjective for every fruit:\n",
    "\n",
    "adj = [\"red\", \"big\", \"tasty\"]\n",
    "fruits = [\"apple\", \"banana\", \"cherry\"]\n",
    "size=['Small','Medium','Large']\n",
    "for x in adj:\n",
    "  for y in fruits:\n",
    "      for z in size:\n",
    "          print(x, y, z)"
   ]
  },
  {
   "cell_type": "code",
   "execution_count": null,
   "id": "f83bf4ab-5833-465f-9e80-fecad8f3c2b8",
   "metadata": {},
   "outputs": [],
   "source": [
    "# The pass Statement\n",
    "# 'for' loops cannot be empty, but if you for some reason have a for loop with no content, put in the pass statement to avoid getting an error.\n",
    "\n",
    "for x in [0, 1, 2]:\n",
    "  pass               # pass statement to avoid error. (ther will be no output) and it also works for 'while' loop."
   ]
  }
 ],
 "metadata": {
  "kernelspec": {
   "display_name": "Python 3 (ipykernel)",
   "language": "python",
   "name": "python3"
  },
  "language_info": {
   "codemirror_mode": {
    "name": "ipython",
    "version": 3
   },
   "file_extension": ".py",
   "mimetype": "text/x-python",
   "name": "python",
   "nbconvert_exporter": "python",
   "pygments_lexer": "ipython3",
   "version": "3.12.4"
  }
 },
 "nbformat": 4,
 "nbformat_minor": 5
}
