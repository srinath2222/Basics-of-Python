{
 "cells": [
  {
   "cell_type": "markdown",
   "id": "0987384a-087b-4ea9-a41e-a2ed2e7d6067",
   "metadata": {},
   "source": [
    "# Variables :"
   ]
  },
  {
   "cell_type": "code",
   "execution_count": 14,
   "id": "724f343e-af27-4f4b-8116-728b3378acd7",
   "metadata": {},
   "outputs": [
    {
     "name": "stdout",
     "output_type": "stream",
     "text": [
      "21\n"
     ]
    }
   ],
   "source": [
    "a=21 # Here 'a' is the variable and '21' is the value stored in the variable.\n",
    "print(a)"
   ]
  },
  {
   "cell_type": "markdown",
   "id": "a3e10dc6-4f30-4eb3-a5b8-eed986da3632",
   "metadata": {},
   "source": [
    "### Valid Variables :"
   ]
  },
  {
   "cell_type": "code",
   "execution_count": 67,
   "id": "03966622-9c3a-48f2-9a71-e6f7b08a1df9",
   "metadata": {},
   "outputs": [],
   "source": [
    "# 20 Examples of valid Variables\n",
    "\n",
    "Crypto=\"DOGGO COINS\"\n",
    "cyber_bots=21\n",
    "_Blockchain=\"BANKING\"\n",
    "_age=22\n",
    "_student_percent=75.76\n",
    "container21=212121\n",
    "_1currency=\"Kuwaiti Dinar\"\n",
    "imaginery_Number=21j\n",
    "booleanS=\"True or False\"\n",
    "NAME=\"Sri\"\n",
    "USA_dollar=83.47\n",
    "Total_amount=606\n",
    "is_valid=\"yes\"\n",
    "if_Also_Valid=\"Yes\"\n",
    "else_valid=\"Yes\"\n",
    "keywords=\"Not Valid\"\n",
    "Keywords_using_underscore=\"Valid\"\n",
    "Weight1=70\n",
    "weight_2=65\n",
    "C_o_l_o_r=\"Black\"\n",
    "false=\"good\"\n",
    "true=\"bad\""
   ]
  },
  {
   "cell_type": "markdown",
   "id": "5bac869a-63e2-4a74-89bf-e7f725339f1f",
   "metadata": {},
   "source": [
    "### Invalid Variables :"
   ]
  },
  {
   "cell_type": "code",
   "execution_count": 69,
   "id": "c6f3d624-88e5-4471-8f6d-aca1fabe128a",
   "metadata": {},
   "outputs": [
    {
     "ename": "SyntaxError",
     "evalue": "invalid decimal literal (3229639668.py, line 3)",
     "output_type": "error",
     "traceback": [
      "\u001b[1;36m  Cell \u001b[1;32mIn[69], line 3\u001b[1;36m\u001b[0m\n\u001b[1;33m    21wallet=212121\u001b[0m\n\u001b[1;37m     ^\u001b[0m\n\u001b[1;31mSyntaxError\u001b[0m\u001b[1;31m:\u001b[0m invalid decimal literal\n"
     ]
    }
   ],
   "source": [
    "# 20 Examples of Invalid Variables\n",
    "\n",
    "21wallet=212121\n",
    "2nd_account=\"NILL\"\n",
    "123_start=\"Race\"\n",
    "321_stop=\"End\"\n",
    "1_2_3=4\n",
    "rainy-season=\"JUNE\"\n",
    "@integer=21\n",
    "*float=21.21\n",
    "-Boolean=\"T/F\"\n",
    "+Addition=21\n",
    "/c/data=\"String\"\n",
    "Search_folder_@=\"Not Found\"\n",
    "&year=2024\n",
    "if=\"Not valid\"\n",
    "and=\"Not valid\"\n",
    "else=\"Not valid\"\n",
    "or=\"Not valid\"\n",
    "import=\"Not valid\"\n",
    "2_import=\"Not valid\"\n",
    "False=\"Not valid\""
   ]
  },
  {
   "cell_type": "markdown",
   "id": "ccdfed1e-f32f-4c60-a0dc-11c4392ad202",
   "metadata": {},
   "source": [
    "### Multiple Variables"
   ]
  },
  {
   "cell_type": "code",
   "execution_count": 90,
   "id": "6d63abaa-633e-4c9f-b8f6-6dfbfdb2fddd",
   "metadata": {},
   "outputs": [
    {
     "name": "stdout",
     "output_type": "stream",
     "text": [
      "Marella\n",
      "Srinath\n",
      "Reddy\n",
      "22\n",
      "22\n",
      "22\n"
     ]
    }
   ],
   "source": [
    "# Assigning multiple values to multiple variables\n",
    "\n",
    "name1,name2,name3=\"Marella\",\"Srinath\",\"Reddy\"\n",
    "print(name1)\n",
    "print(name2)\n",
    "print(name3)\n",
    "\n",
    "# Assigning a single value to multiple variables\n",
    "age=Age=age=22\n",
    "print(age)\n",
    "print(Age)\n",
    "print(_age)"
   ]
  },
  {
   "cell_type": "markdown",
   "id": "2ec1c867-836a-44d8-81ae-fce5ccc709cc",
   "metadata": {},
   "source": [
    "### Python Data Types"
   ]
  },
  {
   "cell_type": "code",
   "execution_count": 99,
   "id": "85782195-4ef7-4c78-84dd-e3f7030bc876",
   "metadata": {},
   "outputs": [
    {
     "name": "stdout",
     "output_type": "stream",
     "text": [
      "21 31 41\n",
      "22 32 42\n",
      "23 33 43\n",
      "24 34 44\n",
      "25 35 45\n",
      "26 36 46\n",
      "27 37 47\n"
     ]
    }
   ],
   "source": [
    "# Integer\n",
    "\n",
    "x1=21\n",
    "y1=31\n",
    "z1=41\n",
    "print(x1,y1,z1)\n",
    "\n",
    "x2=22\n",
    "y2=32\n",
    "z2=42\n",
    "print(x2,y2,z2)\n",
    "\n",
    "x3=23\n",
    "y3=33\n",
    "z3=43\n",
    "print(x3,y3,z3)\n",
    "\n",
    "x4=24\n",
    "y4=34\n",
    "z4=44\n",
    "print(x4,y4,z4)\n",
    "\n",
    "x5=25\n",
    "y5=35\n",
    "z5=45\n",
    "print(x5,y5,z5)\n",
    "\n",
    "x6=26\n",
    "y6=36\n",
    "z6=46\n",
    "print(x6,y6,z6)\n",
    "\n",
    "x7=27\n",
    "y7=37\n",
    "z7=47\n",
    "print(x7,y7,z7)"
   ]
  },
  {
   "cell_type": "code",
   "execution_count": 111,
   "id": "5d143c35-527c-4d56-a0c1-5c9b80aee492",
   "metadata": {},
   "outputs": [
    {
     "name": "stdout",
     "output_type": "stream",
     "text": [
      "75.75 76.85 77.95\n",
      "85.75 86.85 87.95\n",
      "95.75 96.85 97.95\n",
      "76.77 77.88 78.99\n",
      "77.77 88.88 99.99\n",
      "71.71 72.87 78.96\n",
      "65.95 76.25 73.15\n"
     ]
    }
   ],
   "source": [
    "# Floats\n",
    "\n",
    "a1=75.75\n",
    "b1=76.85\n",
    "c1=77.95\n",
    "print(a1,b1,c1)\n",
    "\n",
    "a2=85.75\n",
    "b2=86.85\n",
    "c2=87.95\n",
    "print(a2,b2,c2)\n",
    "\n",
    "a3=95.75\n",
    "b3=96.85\n",
    "c3=97.95\n",
    "print(a3,b3,c3)\n",
    "\n",
    "a4=76.77\n",
    "b4=77.88\n",
    "c4=78.99\n",
    "print(a4,b4,c4)\n",
    "\n",
    "a5=77.77\n",
    "b5=88.88\n",
    "c5=99.99\n",
    "print(a5,b5,c5)\n",
    "\n",
    "a6=71.71\n",
    "b6=72.87\n",
    "c6=78.96\n",
    "print(a6,b6,c6)\n",
    "\n",
    "a7=65.95\n",
    "b7=76.25\n",
    "c7=73.15\n",
    "print(a7,b7,c7)"
   ]
  },
  {
   "cell_type": "code",
   "execution_count": 17,
   "id": "2e1b09bc-c68b-4cb5-8607-ff925b9719c4",
   "metadata": {},
   "outputs": [
    {
     "name": "stdout",
     "output_type": "stream",
     "text": [
      "(1+1j) (3+2j) (2+3j)\n",
      "(3+4j) (2+5j) (1+6j)\n",
      "(9+7j) (5+8j) (3+9j)\n",
      "(2+10j) (7+11j) (5+12j)\n",
      "(3+13j) (1+14j) (7+15j)\n",
      "(8+16j) (5+17j) (7+18j)\n",
      "(4+19j) (2+20j) (8+21j)\n"
     ]
    }
   ],
   "source": [
    "# Complex\n",
    "\n",
    "_11=1+1j\n",
    "_12=3+2j\n",
    "_13=2+3j\n",
    "print(_11,_12,_13)\n",
    "\n",
    "_21=3+4j\n",
    "_22=2+5j\n",
    "_23=1+6j\n",
    "print(_21,_22,_23)\n",
    "\n",
    "_31=9+7j\n",
    "_32=5+8j\n",
    "_33=3+9j\n",
    "print(_31,_32,_33)\n",
    "\n",
    "_41=2+10j\n",
    "_42=7+11j\n",
    "_43=5+12j\n",
    "print(_41,_42,_43)\n",
    "\n",
    "_51=3+13j\n",
    "_52=1+14j\n",
    "_53=7+15j\n",
    "print(_51,_52,_53)\n",
    "\n",
    "_61=8+16j\n",
    "_62=5+17j\n",
    "_63=7+18j\n",
    "print(_61,_62,_63)\n",
    "\n",
    "_71=4+19j\n",
    "_72=2+20j\n",
    "_73=8+21j\n",
    "print(_71,_72,_73)"
   ]
  },
  {
   "cell_type": "code",
   "execution_count": 159,
   "id": "09ac5bfe-f4c4-4a19-b7a1-b5373d297cb9",
   "metadata": {},
   "outputs": [
    {
     "name": "stdout",
     "output_type": "stream",
     "text": [
      "True False False True False True False True\n",
      "False\n",
      "True\n"
     ]
    }
   ],
   "source": [
    "# Boolean\n",
    "\n",
    "print(15>10, 15<10, 15==10, 15==15, 10>15, 10<15, 10==15, 10==10)\n",
    "print(bool(0)) \n",
    "print(bool(1))"
   ]
  },
  {
   "cell_type": "code",
   "execution_count": 161,
   "id": "e73dcf83-5dd5-4dee-b6fe-7b3e70ca4c77",
   "metadata": {},
   "outputs": [
    {
     "name": "stdout",
     "output_type": "stream",
     "text": [
      "False True False True\n"
     ]
    }
   ],
   "source": [
    "int_a=21\n",
    "int_b=41\n",
    "print(int_a==int_b, int_a==21, int_a>22, int_b<50)"
   ]
  },
  {
   "cell_type": "code",
   "execution_count": 147,
   "id": "1e010580-081d-424e-b5c9-23b3e6241d5c",
   "metadata": {},
   "outputs": [
    {
     "name": "stdout",
     "output_type": "stream",
     "text": [
      "<class 'int'> <class 'float'> <class 'complex'>\n"
     ]
    }
   ],
   "source": [
    "# type() function\n",
    "\n",
    "ramu=4\n",
    "prabha=5.5\n",
    "sri=6j\n",
    "\n",
    "print(type(ramu),type(prabha),type(sri)) # to find the data type of the stored value in variable we can use this 'type()' function."
   ]
  },
  {
   "cell_type": "markdown",
   "id": "38a86233-6e7d-46d4-9841-d33c603c293d",
   "metadata": {},
   "source": [
    "### Type Conversion"
   ]
  },
  {
   "cell_type": "code",
   "execution_count": 11,
   "id": "cf4f8f55-6d23-489e-ba91-979118e4ea92",
   "metadata": {},
   "outputs": [
    {
     "name": "stdout",
     "output_type": "stream",
     "text": [
      "10.0 11.0 12.0 13.0 14.0\n",
      "(10+0j) (11+0j) (12+0j) (13+0j) (14+0j)\n",
      "15 16 17 18 19\n",
      "(15.1+0j) (16.2+0j) (17.3+0j) (18.4+0j) (19.5+0j)\n"
     ]
    }
   ],
   "source": [
    "# We can convert one data type to another data type. but we cannot convert complex data type into any other data types.\n",
    "\n",
    "x1=10 # Let us declare the integers first\n",
    "x2=11\n",
    "x3=12\n",
    "x4=13\n",
    "x5=14\n",
    "\n",
    "y1=15.1 # declaration of floats\n",
    "y2=16.2\n",
    "y3=17.3\n",
    "y4=18.4\n",
    "y5=19.5\n",
    "\n",
    "a1=float(x1) #conversion from int to floats\n",
    "a2=float(x2)\n",
    "a3=float(x3)\n",
    "a4=float(x4)\n",
    "a5=float(x5)\n",
    "\n",
    "b1=complex(x1) #conversion from int to complex\n",
    "b2=complex(x2)\n",
    "b3=complex(x3)\n",
    "b4=complex(x4)\n",
    "b5=complex(x5)\n",
    "\n",
    "a11=int(y1) #conversion from float to int\n",
    "a12=int(y2)\n",
    "a13=int(y3)\n",
    "a14=int(y4)\n",
    "a15=int(y5)\n",
    "\n",
    "b11=complex(y1) #conversion from float to complex\n",
    "b12=complex(y2)\n",
    "b13=complex(y3)\n",
    "b14=complex(y4)\n",
    "b15=complex(y5)\n",
    "\n",
    "# Conversion is completed, now we can print the converted value.\n",
    "\n",
    "print(a1, a2, a3, a4, a5)\n",
    "print(b1, b2, b3, b4, b5)\n",
    "\n",
    "print(a11, a12, a13, a14, a15)\n",
    "print(b11, b12, b13, b14, b15)"
   ]
  },
  {
   "cell_type": "code",
   "execution_count": 13,
   "id": "a723e080-c4cb-4a5f-b0d3-0f881711ac6f",
   "metadata": {},
   "outputs": [
    {
     "ename": "TypeError",
     "evalue": "float() argument must be a string or a real number, not 'complex'",
     "output_type": "error",
     "traceback": [
      "\u001b[1;31m---------------------------------------------------------------------------\u001b[0m",
      "\u001b[1;31mTypeError\u001b[0m                                 Traceback (most recent call last)",
      "Cell \u001b[1;32mIn[13], line 9\u001b[0m\n\u001b[0;32m      6\u001b[0m z4\u001b[38;5;241m=\u001b[39m\u001b[38;5;241m9\u001b[39m\u001b[38;5;241m+\u001b[39m\u001b[38;5;241m23\u001b[39mj\n\u001b[0;32m      7\u001b[0m z5\u001b[38;5;241m=\u001b[39m\u001b[38;5;241m3\u001b[39m\u001b[38;5;241m+\u001b[39m\u001b[38;5;241m24\u001b[39mj\n\u001b[1;32m----> 9\u001b[0m c1\u001b[38;5;241m=\u001b[39m\u001b[38;5;28mfloat\u001b[39m(z1) \u001b[38;5;66;03m# trying to convert from complex to float\u001b[39;00m\n\u001b[0;32m     10\u001b[0m c2\u001b[38;5;241m=\u001b[39m\u001b[38;5;28mfloat\u001b[39m(z2)\n\u001b[0;32m     11\u001b[0m c3\u001b[38;5;241m=\u001b[39m\u001b[38;5;28mfloat\u001b[39m(z3)\n",
      "\u001b[1;31mTypeError\u001b[0m: float() argument must be a string or a real number, not 'complex'"
     ]
    }
   ],
   "source": [
    "# let's try to convert the complex data type into another data type (we know it's not possible)\n",
    "\n",
    "z1=6+20j # daeclaration of complex type\n",
    "z2=7+21j\n",
    "z3=8+22j\n",
    "z4=9+23j\n",
    "z5=3+24j\n",
    "\n",
    "c1=float(z1) # trying to convert from complex to float\n",
    "c2=float(z2)\n",
    "c3=float(z3)\n",
    "c4=float(z4)\n",
    "c5=float(z5)\n",
    "\n",
    "c11=int(z1) # trying to convert from complex to int\n",
    "c12=int(z2)\n",
    "c13=int(z3)\n",
    "c14=int(z4)\n",
    "c15=int(z5)"
   ]
  }
 ],
 "metadata": {
  "kernelspec": {
   "display_name": "Python 3 (ipykernel)",
   "language": "python",
   "name": "python3"
  },
  "language_info": {
   "codemirror_mode": {
    "name": "ipython",
    "version": 3
   },
   "file_extension": ".py",
   "mimetype": "text/x-python",
   "name": "python",
   "nbconvert_exporter": "python",
   "pygments_lexer": "ipython3",
   "version": "3.12.4"
  }
 },
 "nbformat": 4,
 "nbformat_minor": 5
}
