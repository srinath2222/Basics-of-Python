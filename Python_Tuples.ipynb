{
 "cells": [
  {
   "cell_type": "markdown",
   "id": "b20d7dbe-8d85-4ab6-b576-26cf632a6ae8",
   "metadata": {},
   "source": [
    "# Tuples :"
   ]
  },
  {
   "cell_type": "code",
   "execution_count": 22,
   "id": "eee764df-922f-43a0-bcd4-250a3b896a48",
   "metadata": {},
   "outputs": [
    {
     "name": "stdout",
     "output_type": "stream",
     "text": [
      "()\n",
      "('Hyderabad', 'Chennai', 'Banglore', 'Vizag', 'Trivandrum')\n",
      "<class 'tuple'>\n",
      "(1, 2, 'clean', 4.5, False)\n",
      "<class 'tuple'>\n",
      "('Single Tuple',)\n",
      "<class 'tuple'>\n",
      "Single Tuple\n",
      "<class 'str'>\n"
     ]
    }
   ],
   "source": [
    "# It is a datatype that represents an ordered, immutable sequence of elements. we cannot modify the tuple.\n",
    "\n",
    "#Empty tuple\n",
    "emp_tup=()\n",
    "print(emp_tup)\n",
    "\n",
    "#Tuple with elements\n",
    "cities=(\"Hyderabad\",\"Chennai\",\"Banglore\",\"Vizag\",\"Trivandrum\")\n",
    "print(cities,type(cities),sep='\\n')\n",
    "\n",
    "#Mixed datatypes\n",
    "uncleaned=(1,2,'clean',4.5,False)\n",
    "print(uncleaned,type(uncleaned),sep='\\n')\n",
    "\n",
    "#Tuple with single Element\n",
    "sing_tup=(\"Single Tuple\",) # single element should have comma after the element, if not it will become another datatype not tuple.\n",
    "print(sing_tup, type(sing_tup),sep='\\n')\n",
    "\n",
    "sing_tup=(\"Single Tuple\") # without comma.\n",
    "print(sing_tup, type(sing_tup),sep='\\n')"
   ]
  },
  {
   "cell_type": "markdown",
   "id": "5eae7068-371d-42fd-8785-aa9fc3765390",
   "metadata": {},
   "source": [
    "### Accessing of Tuple -"
   ]
  },
  {
   "cell_type": "code",
   "execution_count": 36,
   "id": "f8a8ae9e-ae9f-4c6a-8242-06d97d9d0631",
   "metadata": {},
   "outputs": [
    {
     "name": "stdout",
     "output_type": "stream",
     "text": [
      "Mollywoood\n",
      "120\n",
      "3.9\n",
      "('Bollywood', 'Tollywood', 'Hollywood', 'Mollywoood', 'Sandalwood')\n",
      "(120, 32, 23)\n",
      "(2.4,)\n"
     ]
    }
   ],
   "source": [
    "# Tuples support indexing and slicing just like list.\n",
    "\n",
    "#Examples  of accessing tuple.\n",
    "playlist=('Hollywood','Bollywood','Tollywood','Hollywood','Mollywoood','Sandalwood')\n",
    "songs_count=(120,32,23,4,1,0)\n",
    "songs_length=(2.8,4.5,3.8,2.4,4.5,3.9)\n",
    "\n",
    "print(playlist[4],songs_count[0],songs_length[5],sep='\\n') # indexing\n",
    "print(playlist[1:6],songs_count[0:3],songs_length[3:4],sep='\\n') # Slicing"
   ]
  },
  {
   "cell_type": "markdown",
   "id": "cf58995a-7503-4467-8244-bdcae1365eab",
   "metadata": {},
   "source": [
    "### Immutability -"
   ]
  },
  {
   "cell_type": "code",
   "execution_count": 110,
   "id": "728c7ce4-a263-4003-9594-d8b162b071b9",
   "metadata": {},
   "outputs": [
    {
     "ename": "TypeError",
     "evalue": "'tuple' object does not support item assignment",
     "output_type": "error",
     "traceback": [
      "\u001b[1;31m---------------------------------------------------------------------------\u001b[0m",
      "\u001b[1;31mTypeError\u001b[0m                                 Traceback (most recent call last)",
      "Cell \u001b[1;32mIn[110], line 5\u001b[0m\n\u001b[0;32m      1\u001b[0m \u001b[38;5;66;03m# Once tuple is created, we cannot change its elements or remove/add elements\u001b[39;00m\n\u001b[0;32m      2\u001b[0m \n\u001b[0;32m      3\u001b[0m \u001b[38;5;66;03m#Examples for immutability\u001b[39;00m\n\u001b[0;32m      4\u001b[0m playlist_languages\u001b[38;5;241m=\u001b[39m(\u001b[38;5;124m'\u001b[39m\u001b[38;5;124mTelugu\u001b[39m\u001b[38;5;124m'\u001b[39m,\u001b[38;5;124m'\u001b[39m\u001b[38;5;124mHindi\u001b[39m\u001b[38;5;124m'\u001b[39m,\u001b[38;5;124m'\u001b[39m\u001b[38;5;124mEnglish\u001b[39m\u001b[38;5;124m'\u001b[39m,\u001b[38;5;124m'\u001b[39m\u001b[38;5;124mTamil\u001b[39m\u001b[38;5;124m'\u001b[39m,\u001b[38;5;124m'\u001b[39m\u001b[38;5;124mMalayalam\u001b[39m\u001b[38;5;124m'\u001b[39m)\n\u001b[1;32m----> 5\u001b[0m playlist_languages[\u001b[38;5;241m3\u001b[39m]\u001b[38;5;241m=\u001b[39m\u001b[38;5;124m'\u001b[39m\u001b[38;5;124mkannada\u001b[39m\u001b[38;5;124m'\u001b[39m\n\u001b[0;32m      7\u001b[0m \u001b[38;5;28mprint\u001b[39m(playlist_languages)\n",
      "\u001b[1;31mTypeError\u001b[0m: 'tuple' object does not support item assignment"
     ]
    }
   ],
   "source": [
    "# Once tuple is created, we cannot change its elements or remove/add elements\n",
    "\n",
    "#Examples for immutability\n",
    "playlist_languages=('Telugu','Hindi','English','Tamil','Malayalam')\n",
    "playlist_languages[3]='kannada'\n",
    "\n",
    "print(playlist_languages) # output will be TypeError."
   ]
  },
  {
   "cell_type": "markdown",
   "id": "30da6b54-7c93-436e-8e64-29f9e22d0476",
   "metadata": {},
   "source": [
    "### Tuple Operations -"
   ]
  },
  {
   "cell_type": "code",
   "execution_count": 52,
   "id": "b1c5947d-2743-4119-ac6e-7748ad966ed1",
   "metadata": {},
   "outputs": [
    {
     "name": "stdout",
     "output_type": "stream",
     "text": [
      "('TCS', 'WIPRO', 'HCL', 'CAP GEMINI', 'ZOHO', 12, 13, 20, 35, 8, 36, 7)\n",
      "('TCS', 'WIPRO', 'HCL', 'CAP GEMINI', 'ZOHO', 12, 13, 20, 35, 8, 36, 7, 2.5, 1.9, 3.5, 4.2, 3.1, 2.7)\n",
      "('TCS', 'WIPRO', 'HCL', 'CAP GEMINI', 'ZOHO', 12, 13, 20, 35, 8, 36, 7, 'TCS', 'WIPRO', 'HCL', 'CAP GEMINI', 'ZOHO', 12, 13, 20, 35, 8, 36, 7, 'TCS', 'WIPRO', 'HCL', 'CAP GEMINI', 'ZOHO', 12, 13, 20, 35, 8, 36, 7, 'TCS', 'WIPRO', 'HCL', 'CAP GEMINI', 'ZOHO', 12, 13, 20, 35, 8, 36, 7, 'TCS', 'WIPRO', 'HCL', 'CAP GEMINI', 'ZOHO', 12, 13, 20, 35, 8, 36, 7, 'TCS', 'WIPRO', 'HCL', 'CAP GEMINI', 'ZOHO', 12, 13, 20, 35, 8, 36, 7, 'TCS', 'WIPRO', 'HCL', 'CAP GEMINI', 'ZOHO', 12, 13, 20, 35, 8, 36, 7, 'TCS', 'WIPRO', 'HCL', 'CAP GEMINI', 'ZOHO', 12, 13, 20, 35, 8, 36, 7, 'TCS', 'WIPRO', 'HCL', 'CAP GEMINI', 'ZOHO', 12, 13, 20, 35, 8, 36, 7, 'TCS', 'WIPRO', 'HCL', 'CAP GEMINI', 'ZOHO', 12, 13, 20, 35, 8, 36, 7)\n",
      "('TCS', 'WIPRO', 'HCL', 'CAP GEMINI', 'ZOHO', 12, 13, 20, 35, 8, 36, 7, 2.5, 1.9, 3.5, 4.2, 3.1, 2.7, 'TCS', 'WIPRO', 'HCL', 'CAP GEMINI', 'ZOHO', 12, 13, 20, 35, 8, 36, 7, 2.5, 1.9, 3.5, 4.2, 3.1, 2.7, 'TCS', 'WIPRO', 'HCL', 'CAP GEMINI', 'ZOHO', 12, 13, 20, 35, 8, 36, 7, 2.5, 1.9, 3.5, 4.2, 3.1, 2.7, 'TCS', 'WIPRO', 'HCL', 'CAP GEMINI', 'ZOHO', 12, 13, 20, 35, 8, 36, 7, 2.5, 1.9, 3.5, 4.2, 3.1, 2.7, 'TCS', 'WIPRO', 'HCL', 'CAP GEMINI', 'ZOHO', 12, 13, 20, 35, 8, 36, 7, 2.5, 1.9, 3.5, 4.2, 3.1, 2.7, 'TCS', 'WIPRO', 'HCL', 'CAP GEMINI', 'ZOHO', 12, 13, 20, 35, 8, 36, 7, 2.5, 1.9, 3.5, 4.2, 3.1, 2.7)\n"
     ]
    }
   ],
   "source": [
    "# 1.Concatination - Combines two or more tuples.\n",
    "\n",
    "#Examples for concatination\n",
    "company=('TCS','WIPRO','HCL','CAP GEMINI','ZOHO')\n",
    "salary=(12,13,20,35,8,36,7) # (in LPA)\n",
    "hike=(2.5,1.9,3.5,4.2,3.1,2.7)\n",
    "\n",
    "combine=company+salary\n",
    "combine2=combine+hike\n",
    "print(combine,combine2,sep='\\n')\n",
    "\n",
    "# 2.Repetition - repeats the tuple no.of time\n",
    "\n",
    "#Examples for repetition\n",
    "rep=combine*10\n",
    "rep2=combine2*6\n",
    "\n",
    "print(rep,rep2,sep='\\n')"
   ]
  },
  {
   "cell_type": "markdown",
   "id": "ec548022-d313-4fc4-a30f-dce5cb24f363",
   "metadata": {},
   "source": [
    "### Tuple Methods -"
   ]
  },
  {
   "cell_type": "code",
   "execution_count": 108,
   "id": "42dc59b4-7212-489a-bcb4-7deb9a3e0d44",
   "metadata": {},
   "outputs": [
    {
     "name": "stdout",
     "output_type": "stream",
     "text": [
      "2, 2, 3\n",
      "1, 3, 5\n"
     ]
    }
   ],
   "source": [
    "# Tuples dont have many methods because of the immutability of elements in tuple.Following are the main methods for tuple.\n",
    "\n",
    "# 1.Count() - returns the no.of occurance of a sepcified value.\n",
    "\n",
    "#Examples for count() method\n",
    "cool_drinks=('Pepsi','mazza','limca','Pepsi','Sprite','String','Cola','pepsi')\n",
    "no_of_bottles=(123,465,333,423,321,333,240,324)\n",
    "no_of_shops=(12,23,5,32,13,13,14,13)\n",
    "\n",
    "print(cool_drinks.count('Pepsi'),no_of_bottles.count(333),no_of_shops.count(13),sep=', ')\n",
    "\n",
    "# 2.index() - returns the index number of a specified value.\n",
    "\n",
    "#Examples for index() method\n",
    "bike_brand=('YAMAHA','TVS','ROYAL ENFIELD','SUZUKI','KTM','BMW')\n",
    "bike_milage=(30,25,34,22,18,20)\n",
    "bike_price=(1.6,1.7,1.5,1.3,4.5,3.7)\n",
    "\n",
    "bike_brand.index('TVS')\n",
    "bike_milage.index(22)\n",
    "bike_price.index(3.7)\n",
    "\n",
    "print(bike_brand.index('TVS'),bike_milage.index(22),bike_price.index(3.7),sep=', ')"
   ]
  }
 ],
 "metadata": {
  "kernelspec": {
   "display_name": "Python 3 (ipykernel)",
   "language": "python",
   "name": "python3"
  },
  "language_info": {
   "codemirror_mode": {
    "name": "ipython",
    "version": 3
   },
   "file_extension": ".py",
   "mimetype": "text/x-python",
   "name": "python",
   "nbconvert_exporter": "python",
   "pygments_lexer": "ipython3",
   "version": "3.12.4"
  }
 },
 "nbformat": 4,
 "nbformat_minor": 5
}
