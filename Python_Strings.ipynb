{
 "cells": [
  {
   "cell_type": "markdown",
   "id": "c00dda15-c485-436b-80ee-059167871f47",
   "metadata": {},
   "source": [
    "### Strings :"
   ]
  },
  {
   "cell_type": "code",
   "execution_count": 10,
   "id": "11ef590d-efee-4350-a97d-b2a622e2a93d",
   "metadata": {},
   "outputs": [
    {
     "name": "stdout",
     "output_type": "stream",
     "text": [
      "Python\n",
      "   SQL\n",
      "python is can be used for data science,web developement, app development etc..\n",
      "Python,SQL,Tableu,power bi,deep learing,machine learing\n"
     ]
    }
   ],
   "source": [
    "# A string is a sequence of characters. we use single,double and triple quotes to represent a string in python.\n",
    "\n",
    "#Examples for string.\n",
    "string1=\"Python\"\n",
    "string2='   SQL'\n",
    "string3=\"\"\"python is can be used for data science,web developement, app development etc..\"\"\" # multiline\n",
    "string4='''Python,SQL,Tableu,power bi,deep learing,machine learing''' # multiline\n",
    "\n",
    "print(string1, string2, string3, string4, sep='\\n')"
   ]
  },
  {
   "cell_type": "markdown",
   "id": "b9997f54-1fb0-49fb-a890-580e3251c770",
   "metadata": {},
   "source": [
    "### String operations :"
   ]
  },
  {
   "cell_type": "code",
   "execution_count": 63,
   "id": "6e678304-0832-4a3d-8236-8a57c2329577",
   "metadata": {},
   "outputs": [
    {
     "name": "stdout",
     "output_type": "stream",
     "text": [
      "Eat five-star & Do nothing.\n",
      "One step ahead with cadbury.\n"
     ]
    }
   ],
   "source": [
    "# 1.Concatination - combines two or more strings.\n",
    "\n",
    "#Examples for concatination\n",
    "five_star1='Eat five-star'\n",
    "five_star2='Do nothing.'\n",
    "dairymilk=\"One step ahead\"\n",
    "dairymilkk=\"with cadbury.\"\n",
    "\n",
    "concatt_FS=five_star1+' & '+five_star2\n",
    "concatt_DM=dairymilk+' '+dairymilkk\n",
    "\n",
    "print(concatt_FS, concatt_DM, sep='\\n')"
   ]
  },
  {
   "cell_type": "code",
   "execution_count": 71,
   "id": "4e8ffc01-e43a-49f3-8396-8f60f1c46555",
   "metadata": {},
   "outputs": [
    {
     "name": "stdout",
     "output_type": "stream",
     "text": [
      "Marella Srinath Reddy,Marella Srinath Reddy,Marella Srinath Reddy,Marella Srinath Reddy,Marella Srinath Reddy,Marella Srinath Reddy,Marella Srinath Reddy,Marella Srinath Reddy,\n",
      "22,22,22,22,22,22,22,22,22,22,\n",
      "Data Science,Data Science,Data Science,Data Science,Data Science,Data Science,Data Science,Data Science,Data Science,Data Science,Data Science,Data Science,\n"
     ]
    }
   ],
   "source": [
    "# 2.Repetition - repeats the string no.of times\n",
    "\n",
    "#Example for repetition\n",
    "my_name=\"Marella Srinath Reddy\"\n",
    "age=\"22\"\n",
    "pursue=\"Data Science\"\n",
    "\n",
    "print((my_name+',')*8,(age+',')*10,(pursue+',')*12,sep='\\n')"
   ]
  },
  {
   "cell_type": "code",
   "execution_count": 77,
   "id": "b5cae7d9-391e-4d26-9d12-1ac8b20038ab",
   "metadata": {},
   "outputs": [
    {
     "name": "stdout",
     "output_type": "stream",
     "text": [
      "M\n",
      "s\n",
      "G\n"
     ]
    }
   ],
   "source": [
    "# 3.Indexing - accessing individual character in the string\n",
    "\n",
    "#Example for indexing\n",
    "chocolate=\"MILKY BAR\"\n",
    "chips=\"Takis and Nachoes\"\n",
    "biscuit=\"Mario Gold\"\n",
    "\n",
    "print(chocolate[0],chips[4],biscuit[6], sep='\\n')"
   ]
  },
  {
   "cell_type": "code",
   "execution_count": 85,
   "id": "57ed708e-a495-4eb5-bcb5-88d1f5d08bbc",
   "metadata": {},
   "outputs": [
    {
     "name": "stdout",
     "output_type": "stream",
     "text": [
      "Yamaha, Du\n",
      ", Kia, Mah\n",
      "At\n",
      "Swaraj, Mahindra, Jo\n",
      "A, Volvo, Force\n",
      "isher\n"
     ]
    }
   ],
   "source": [
    "# 4.Slicing - Extracting a sub-string from a string\n",
    "\n",
    "#Examples for slicing\n",
    "bikes='Yamaha, Duke, Suzuki, Kawasaki, Tvs, Hero'\n",
    "cars='TATA, Kia, Mahindra, Suzuki, Skoda'\n",
    "cycles='Hero, Atlas, Hericulus, Avon, SK bikes'\n",
    "tractors='Swaraj, Mahindra, John deer, Kabuto, SDF'\n",
    "buses='TATA, Volvo, Force, Ashok leyland'\n",
    "aeroplanes='Kingfisher, Indigo, Airindia, Fly Emirades, Simha Airlines'\n",
    "\n",
    "print(bikes[0:10],cars[4:14],cycles[6:8],tractors[0:20],buses[3:18],aeroplanes[5:10],sep='\\n')"
   ]
  },
  {
   "cell_type": "markdown",
   "id": "78a8fd11-e7c6-433e-abc3-3d0bca3be22c",
   "metadata": {},
   "source": [
    "### Python-Format-Strings -"
   ]
  },
  {
   "cell_type": "code",
   "execution_count": 20,
   "id": "6efab540-9c65-47d6-ae53-ca009230e4ec",
   "metadata": {},
   "outputs": [
    {
     "name": "stdout",
     "output_type": "stream",
     "text": [
      "My name is Marella Srinath Reddy and i am 22 years old and currently i am learning Data Science.\n",
      "My name is Gundla Durga Rao and i am 21 years old and currently i am learning Python Full Stack.\n",
      "My name is Kasimalla Narasinha and i am 21 years old and currently i am learning Java Full Stack.\n"
     ]
    }
   ],
   "source": [
    "# 1.old style formating (% operator) - uses the % operator and placeholders.\n",
    "\n",
    "#Examples for old style formatting.\n",
    "Namee='Marella Srinath Reddy'\n",
    "agee=22\n",
    "course='Data Science'\n",
    "sentence=\"My name is %s and i am %d years old and currently i am learning %s.\" % (Namee,agee,course)\n",
    "print(sentence)\n",
    "\n",
    "# 2.Format method (modified method) - uses format() method with placeholder.\n",
    "\n",
    "#Examples for Format method.\n",
    "Namee='Gundla Durga Rao'\n",
    "agee=21\n",
    "course='Python Full Stack'\n",
    "sentence=\"My name is {} and i am {} years old and currently i am learning {}.\".format(Namee,agee,course)\n",
    "print(sentence)\n",
    "\n",
    "# 3.String Interpolation (f-string-python 3.6 and later) - uses f-string, where expressions inside curly braces '{}' are evaluated and replaced.\n",
    "\n",
    "#Examples for String Interpolation.\n",
    "Namee='Kasimalla Narasinha'\n",
    "agee=21\n",
    "course='Java Full Stack'\n",
    "sentence=f\"My name is {Namee} and i am {agee} years old and currently i am learning {course}.\"\n",
    "print(sentence)"
   ]
  },
  {
   "cell_type": "markdown",
   "id": "de36e9f0-9f2f-4c13-96b9-746cefeaa3b9",
   "metadata": {},
   "source": [
    "### String Methods -"
   ]
  },
  {
   "cell_type": "code",
   "execution_count": 60,
   "id": "dfc82d6e-a883-4e01-96f0-2d0a66237b10",
   "metadata": {},
   "outputs": [
    {
     "name": "stdout",
     "output_type": "stream",
     "text": [
      "14\n",
      "python is life\n",
      "PYTHON IS LIFE\n",
      "Python are life\n",
      "Python is life\n",
      "['Python', 'is', 'life']\n",
      "Python is life\n",
      "             python is life             \n",
      "3\n",
      "('python ', 'is', ' life')\n"
     ]
    }
   ],
   "source": [
    "# 1.len() - returns the length of the string. \n",
    "\n",
    "#Examples for len()\n",
    "my_string='Python is life'\n",
    "length=len(my_string)\n",
    "\n",
    "print(length)\n",
    "\n",
    "# 2.lower() - converts the string to lower and lowercase.\n",
    "\n",
    "#Examples for lower()\n",
    "my_string='Python IS life'\n",
    "print(my_string.lower())\n",
    "\n",
    "# 3.upper() - converts the string to uppercase\n",
    "\n",
    "#Examples for upper()\n",
    "my_string='Python is life'\n",
    "print(my_string.upper())\n",
    "\n",
    "# 4.replace()\n",
    "\n",
    "#Examples for replace()\n",
    "my_string='Python is life'\n",
    "print(my_string.replace('is','are'))\n",
    "\n",
    "# 5.Strip() \n",
    "\n",
    "#Examples for strip()\n",
    "my_string='       Python is life        '\n",
    "print(my_string.strip())\n",
    "\n",
    "# 6.split\n",
    "\n",
    "#Examples for split()\n",
    "my_string='Python is life'\n",
    "print(my_string.split())\n",
    "\n",
    "# 7.capitalize()\n",
    "\n",
    "#Examples for capitalize()\n",
    "my_string='python is life'\n",
    "print(my_string.capitalize())\n",
    "\n",
    "# 8.center()\n",
    "\n",
    "#Examples for center()\n",
    "my_string='python is life'\n",
    "print(my_string.center(40))\n",
    "\n",
    "# 9.count()\n",
    "\n",
    "#Examples for count()\n",
    "my_string='python is is is  life'\n",
    "print(my_string.count('is'))\n",
    "\n",
    "# 10.partition()\n",
    "\n",
    "#Examples for partition()\n",
    "my_string='python is life'\n",
    "print(my_string.partition('is'))"
   ]
  },
  {
   "cell_type": "code",
   "execution_count": null,
   "id": "cc6dcee6-9f02-4775-a5cf-b5ef02393a95",
   "metadata": {},
   "outputs": [],
   "source": []
  }
 ],
 "metadata": {
  "kernelspec": {
   "display_name": "Python 3 (ipykernel)",
   "language": "python",
   "name": "python3"
  },
  "language_info": {
   "codemirror_mode": {
    "name": "ipython",
    "version": 3
   },
   "file_extension": ".py",
   "mimetype": "text/x-python",
   "name": "python",
   "nbconvert_exporter": "python",
   "pygments_lexer": "ipython3",
   "version": "3.12.4"
  }
 },
 "nbformat": 4,
 "nbformat_minor": 5
}
