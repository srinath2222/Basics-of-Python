{
 "cells": [
  {
   "cell_type": "markdown",
   "id": "b0fa5647-8f12-4b12-bc6f-c3399a1f1c03",
   "metadata": {},
   "source": [
    "# Operators :"
   ]
  },
  {
   "cell_type": "markdown",
   "id": "1341829a-c6e4-43af-ac86-e3fa40bfe143",
   "metadata": {},
   "source": [
    "### 1. Arithmetic operators -"
   ]
  },
  {
   "cell_type": "code",
   "execution_count": 33,
   "id": "ae4195de-ab1d-4b7a-877f-911c73d1cec8",
   "metadata": {},
   "outputs": [
    {
     "name": "stdout",
     "output_type": "stream",
     "text": [
      "23\n",
      "19\n",
      "42\n",
      "10.5\n",
      "1\n",
      "2\n",
      "441\n",
      "2097152\n",
      "10\n",
      "0\n"
     ]
    }
   ],
   "source": [
    "# These operators are used to perform an operation b/w variables and values.\n",
    "\n",
    "num1=21 \n",
    "num2=2\n",
    "\n",
    "sum=num1+num2 # Addition operator (+).\n",
    "sub=num1-num2 # Subraction opertor (-).\n",
    "multi=num1*num2 # Multiplication operator (*/asterisk).\n",
    "divi=num1/num2 # Division operator (/).Gives quotient as output.\n",
    "modul=num1%num2  # Modulus operator (%).Gives remainder as output.\n",
    "modul2=num2%num1 # Another example of modulus operator\n",
    "expo=num1**num2 # Exponential operator (**). num1^num2 - 21^22 (21 power of 22)\n",
    "expo2=num2**num1 # Another example of Exponential operator\n",
    "floor_divi=num1//num2 # Floor/Float division operator (//).Gives the output in int data type by removing the decimal values.\n",
    "floor_divi2=num2//num1 # Another example of floor division\n",
    "\n",
    "print(sum,sub,multi,divi,modul,modul2,expo,expo2,floor_divi,floor_divi2,sep='\\n')"
   ]
  },
  {
   "cell_type": "markdown",
   "id": "529dbee2-7e79-4c0e-b3ef-7646e59f16eb",
   "metadata": {},
   "source": [
    "### 2. Assignment operators -"
   ]
  },
  {
   "cell_type": "code",
   "execution_count": 23,
   "id": "88d6b4af-d536-4a9e-b82e-db36f46944b0",
   "metadata": {},
   "outputs": [
    {
     "name": "stdout",
     "output_type": "stream",
     "text": [
      "2\n",
      "7\n",
      "-1\n",
      "56\n",
      "0.9\n",
      "0.9166666666666666\n",
      "13\n",
      "6568408355712890625\n",
      "14063084452067724991009\n"
     ]
    }
   ],
   "source": [
    "# These operators are used to assign a value to a variable\n",
    "\n",
    "var1,var2,var3,var4,var5,var6,var7,var8,var9,var10,var11,var12,var13,var14,var15,var16,var17,var18=1,2,3,4,5,6,7,8,9,10,11,12,13,14,15,16,17,18\n",
    "\n",
    "var1=var2 # Assignment operator (=)\n",
    "var3+=var4 # Addition assignment operator (+=)\n",
    "var5-=var6 # Subraction assignment operator (-=)\n",
    "var7*=var8 # Multiplication assignment operator (*=)\n",
    "var9/=var10 # Division assignment operator (/=)\n",
    "var11/=var12 # another example of division assignment operator (/=)\n",
    "var13%=var14 # Modulus assignment operator (%=)\n",
    "var15**=var16 # Exponential assignment operator (**=)\n",
    "var17**=var18 # another example of exponential assignment operator (**=)\n",
    "\n",
    "print(var1,var3,var5,var7,var9,var11,var13,var15,var17,sep='\\n')"
   ]
  },
  {
   "cell_type": "markdown",
   "id": "cd54afba-3159-4425-a2a3-cb9dc11312a9",
   "metadata": {},
   "source": [
    "### 3. Comparision operators -"
   ]
  },
  {
   "cell_type": "code",
   "execution_count": 3,
   "id": "662d87e4-8e45-4e9f-a5fc-95b4104f50df",
   "metadata": {},
   "outputs": [
    {
     "data": {
      "text/plain": [
       "False"
      ]
     },
     "execution_count": 3,
     "metadata": {},
     "output_type": "execute_result"
    }
   ],
   "source": [
    "# These operators are used to compare the values in a variable and gives output as True or False (boolean) \n",
    "\n",
    "coin1,coin2=21,12\n",
    "\n",
    "coin1==coin2 # equals to equals to (i.e. really equals to) "
   ]
  },
  {
   "cell_type": "code",
   "execution_count": 5,
   "id": "2db63920-97d4-408f-b8ed-163243f63700",
   "metadata": {},
   "outputs": [
    {
     "data": {
      "text/plain": [
       "True"
      ]
     },
     "execution_count": 5,
     "metadata": {},
     "output_type": "execute_result"
    }
   ],
   "source": [
    "coin1>coin2 # Greater than"
   ]
  },
  {
   "cell_type": "code",
   "execution_count": 7,
   "id": "df38087a-153b-43d2-8f07-c8a4312465b6",
   "metadata": {},
   "outputs": [
    {
     "data": {
      "text/plain": [
       "False"
      ]
     },
     "execution_count": 7,
     "metadata": {},
     "output_type": "execute_result"
    }
   ],
   "source": [
    "coin1<coin2 # Less than"
   ]
  },
  {
   "cell_type": "code",
   "execution_count": 9,
   "id": "8fd62eff-9149-480e-a351-8d2a05692fa4",
   "metadata": {},
   "outputs": [
    {
     "data": {
      "text/plain": [
       "True"
      ]
     },
     "execution_count": 9,
     "metadata": {},
     "output_type": "execute_result"
    }
   ],
   "source": [
    "coin2!=coin1 # not equals to "
   ]
  },
  {
   "cell_type": "code",
   "execution_count": 11,
   "id": "489763db-92f0-48d3-8e1d-4a80e15cd0a9",
   "metadata": {},
   "outputs": [
    {
     "data": {
      "text/plain": [
       "True"
      ]
     },
     "execution_count": 11,
     "metadata": {},
     "output_type": "execute_result"
    }
   ],
   "source": [
    "coin1>=coin2 # Greater than & equals to"
   ]
  },
  {
   "cell_type": "code",
   "execution_count": 13,
   "id": "2716ce47-8d7e-46a6-a668-6fbe325f11ef",
   "metadata": {},
   "outputs": [
    {
     "data": {
      "text/plain": [
       "True"
      ]
     },
     "execution_count": 13,
     "metadata": {},
     "output_type": "execute_result"
    }
   ],
   "source": [
    "coin2<=coin1 # less than & equals to"
   ]
  },
  {
   "cell_type": "markdown",
   "id": "930c7a9f-d436-4208-b073-7d84f673a36c",
   "metadata": {},
   "source": [
    "### 4. Logical operators -"
   ]
  },
  {
   "cell_type": "code",
   "execution_count": 16,
   "id": "a03501e6-7242-4598-bf66-dbbf5f6ff628",
   "metadata": {},
   "outputs": [
    {
     "name": "stdout",
     "output_type": "stream",
     "text": [
      "True,False,True\n",
      "False,True,False\n",
      "True,True,False\n",
      "True,False,False\n",
      "True,True,True,False\n"
     ]
    }
   ],
   "source": [
    "# Logical operators are used to check whether an expression is true or false.\n",
    "\n",
    "#Examples for 'and' operator (returns True if both operands are True)\n",
    "a,b,c=5,7,9\n",
    "x,y,z=1,8,12\n",
    "print(a>x and x<a, b==y and b!=y, c<z and z>c, sep=',')\n",
    "\n",
    "#Examples for 'or' operator (returns True if any one operand is True)\n",
    "a2,b2,c2=1,8,12\n",
    "x2,y2,z2=5,7,9\n",
    "print(a2>x2 or x2<a2, b2==y2 or b2!=y2, c2<z2 or z2>c2, sep=',')\n",
    "\n",
    "#Examples for 'not' operator (returns True if it is False and vice-versa)\n",
    "a3,b3,c3=11,18,22\n",
    "x3,y3,z3=15,17,19\n",
    "print(not(a3>x3 and x3<a3), not(b3==y3 and b3!=y3), not(c3>z3 and z3<c3), sep=',')\n",
    "print(not(a3>x3 or x3<a3), not(b3==y3 or b3!=y3), not(c3>z3 or z3<c3), sep=',')\n",
    "\n",
    "one=5\n",
    "two=4\n",
    "print(not one<two, not one<two, not two>one, not two<one, sep=',')"
   ]
  },
  {
   "cell_type": "code",
   "execution_count": 18,
   "id": "0e89f8cc-40f0-4e3b-a1d9-31f3fec91fe9",
   "metadata": {},
   "outputs": [
    {
     "name": "stdout",
     "output_type": "stream",
     "text": [
      "False,True,False\n"
     ]
    }
   ],
   "source": [
    "int1=5\n",
    "int2=4\n",
    "int3=7\n",
    "print(not(int1>int2 and int2<int3 and int3>int1), not(int1<int2 or int2>int3 or int3<int1), not(int1>int2 and int2<int3 or int3>int1), sep=',')"
   ]
  },
  {
   "cell_type": "markdown",
   "id": "1c09b41e-6c62-45e1-9fc6-25d42406ed26",
   "metadata": {},
   "source": [
    "### 5. Identity operators -"
   ]
  },
  {
   "cell_type": "code",
   "execution_count": 21,
   "id": "251a233b-3f3a-4d75-9df1-c5eb98b66721",
   "metadata": {},
   "outputs": [
    {
     "name": "stdout",
     "output_type": "stream",
     "text": [
      "False-True-False-False-True\n",
      "True-True-False-True-False\n"
     ]
    }
   ],
   "source": [
    "# Identity operators are used to identify whether the value is present or not. ('is' 'is not')\n",
    "\n",
    "#Examples for 'is' identity operator.\n",
    "token_num1,token_num2,token_num3,token_num4,token_num5,token_num6,token_num7,token_num8,token_num9,token_num10=21,24,23,24,21,25,26,27,26,28\n",
    "print(token_num1 is token_num2, token_num2 is token_num4, token_num3 is token_num5, token_num7 is token_num8, token_num9 is token_num7, sep='-')\n",
    "\n",
    "#Examples for 'is not' identity operator.\n",
    "acct_holder1,acct_holder2,acct_holder3,acct_holder4,acct_holder5,acct_holder6,acct_holder7,acct_holder8,acct_holder9,acct_holder10=\"sri\",\"sai\",\"renu\",\"babu\",\"giri\",\"srinu\",\"sri\",\"manas\",\"giri\",\"boby\"\n",
    "print(acct_holder2 is not acct_holder3, acct_holder3 is not acct_holder5, acct_holder5 is not acct_holder9, acct_holder2 is not acct_holder3, acct_holder7 is not acct_holder1, sep='-')"
   ]
  },
  {
   "cell_type": "markdown",
   "id": "16f6ad3d-f41f-414c-9c6c-e0c946f891c1",
   "metadata": {},
   "source": [
    "### 6. Membership operators -"
   ]
  },
  {
   "cell_type": "code",
   "execution_count": 24,
   "id": "57967b1b-a3e8-4873-923e-cac8bcae5648",
   "metadata": {},
   "outputs": [
    {
     "name": "stdout",
     "output_type": "stream",
     "text": [
      "False,True,False,True,True\n",
      "False,True,True,False,False\n"
     ]
    }
   ],
   "source": [
    "# Menbership operators are used to find if the value/variable is found or not found in the sequence. ('in' 'not in')\n",
    "\n",
    "Bots_count=[3,4,7,2,5,6,8,9,1]\n",
    "Bot_name='Uniex Trading Bot'\n",
    "\n",
    "#Examples for 'in' membership operator.\n",
    "print(0 in Bots_count, 9 in Bots_count, 11 in Bots_count, 6 in Bots_count, 3 in Bots_count, sep=',')\n",
    "\n",
    "#Examples for 'not in' membership operator.\n",
    "print('Uniex' not in Bot_name, 'uniex' not in Bot_name, 'trading' not in Bot_name, 'Trading' not in Bot_name, 'Bot' not in Bot_name, sep=',')"
   ]
  },
  {
   "cell_type": "markdown",
   "id": "66657fd1-1ecf-4036-87c8-6ea8a982701d",
   "metadata": {},
   "source": [
    "### 7. Bitwise operators -"
   ]
  },
  {
   "cell_type": "code",
   "execution_count": 27,
   "id": "0fed0f63-a339-4069-a038-7b576592e7ba",
   "metadata": {},
   "outputs": [
    {
     "name": "stdout",
     "output_type": "stream",
     "text": [
      "8,15,7\n",
      "430,447,17\n",
      "1,335,334\n",
      "449,2015,1566\n",
      "-122,-257,-576\n",
      "38256,28764,2560,378\n"
     ]
    }
   ],
   "source": [
    "#Bitwise operators are used to perform bitwise calculations on integers. The integers are first converted into binary and the operations are performed on each pair of bits. \n",
    "\n",
    "#Examples for 'and' 'or' 'xor' bitwise operators \n",
    "print(9&14, 9|14, 9^14, sep=',')\n",
    "print(447&430, 447|430, 447^430, sep=',')\n",
    "print(333&3, 333|3, 333^3, sep=',')\n",
    "print(971&1493, 971|1493, 971^1493, sep=',')\n",
    "\n",
    "#Examples for 'and' bitwise operator (inverse)\n",
    "print(~121, ~256, ~575, sep=',')\n",
    "\n",
    "# Examples for left and right swifts ('<<' '>>')\n",
    "print(2391<<4, 7191<<2, 5121>>1, 3029>>3, sep=',')"
   ]
  },
  {
   "cell_type": "markdown",
   "id": "bb860320-5ff0-438b-87c6-f0875f875881",
   "metadata": {},
   "source": [
    "### Precedence -"
   ]
  },
  {
   "cell_type": "code",
   "execution_count": 30,
   "id": "00c60906-44ff-42b9-9c54-96cfc5944e1d",
   "metadata": {},
   "outputs": [
    {
     "name": "stdout",
     "output_type": "stream",
     "text": [
      "-37\n",
      "-101396\n"
     ]
    }
   ],
   "source": [
    "# Operator precedence describes the order in which operations are performed in an arthmetic expression.\n",
    "pre1=2+9-4*(5+1)*2\n",
    "pre2=2991+31-11602*9\n",
    "\n",
    "print(pre1, pre2, sep='\\n')"
   ]
  }
 ],
 "metadata": {
  "kernelspec": {
   "display_name": "Python 3 (ipykernel)",
   "language": "python",
   "name": "python3"
  },
  "language_info": {
   "codemirror_mode": {
    "name": "ipython",
    "version": 3
   },
   "file_extension": ".py",
   "mimetype": "text/x-python",
   "name": "python",
   "nbconvert_exporter": "python",
   "pygments_lexer": "ipython3",
   "version": "3.12.4"
  }
 },
 "nbformat": 4,
 "nbformat_minor": 5
}
