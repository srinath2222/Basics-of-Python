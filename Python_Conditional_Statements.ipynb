{
 "cells": [
  {
   "cell_type": "markdown",
   "id": "7718784f-103b-4b50-8f33-0ba0ffe3bfa3",
   "metadata": {},
   "source": [
    "### Conditional Statements :"
   ]
  },
  {
   "cell_type": "code",
   "execution_count": 33,
   "id": "a93199b8-acca-4260-9cfa-717172460c51",
   "metadata": {},
   "outputs": [
    {
     "name": "stdout",
     "output_type": "stream",
     "text": [
      "X is Greater than 120.\n"
     ]
    }
   ],
   "source": [
    "# Conditional statements are used to control the flow of a program based on certain conditions.\n",
    "#conditional statement keywords - 1. if, 2. elif, 3. else\n",
    "\n",
    "#1. if - if statement executes the block of code only if the specified condition is true/satisfied.\n",
    "#Example of if statement\n",
    "\n",
    "x=120\n",
    "if x==120:\n",
    "    print(\"X is Greater than 120.\")"
   ]
  },
  {
   "cell_type": "code",
   "execution_count": 35,
   "id": "017f7af9-00ca-4e6a-9671-0c2206dd1c5e",
   "metadata": {},
   "outputs": [
    {
     "name": "stdout",
     "output_type": "stream",
     "text": [
      "a and b are equal.\n"
     ]
    }
   ],
   "source": [
    "#2. elif - if a code has more than two conditions, in this case, we can use elif.\n",
    "# If the first condition is not true then the interpreter will step into the elif block (we can use elif 'n' number of times in code.)\n",
    "\n",
    "#Example of elif statement\n",
    "a=21\n",
    "b=21\n",
    "if b>a:\n",
    "    print(\"b is greater than a.\")\n",
    "elif a==b:\n",
    "    print(\"a and b are equal.\")"
   ]
  },
  {
   "cell_type": "code",
   "execution_count": 39,
   "id": "978a0f50-ac63-4c03-95fc-012086d24f7d",
   "metadata": {},
   "outputs": [
    {
     "name": "stdout",
     "output_type": "stream",
     "text": [
      "a is less than b.\n"
     ]
    }
   ],
   "source": [
    "#3. else - The else keyword will execute the code when the 'if' and 'elif' conditions are not true/not satisfied.\n",
    "#Example of else statement\n",
    "a=120\n",
    "b=121\n",
    "if a>b:\n",
    "    print(\"a is greater than b.\")\n",
    "elif a==b:\n",
    "    print(\"a and b are equal.\")\n",
    "else:  # 'else' does not need any condition to execute the code, if the above conditions are not satisfied, this else block will be executed.\n",
    "    print(\"a is less than b.\")"
   ]
  },
  {
   "cell_type": "code",
   "execution_count": 43,
   "id": "ff3114bb-452b-4ae9-9cc6-bfcd3b29dde7",
   "metadata": {},
   "outputs": [
    {
     "name": "stdout",
     "output_type": "stream",
     "text": [
      "a is greater than 30\n",
      "but not greater than 60\n"
     ]
    }
   ],
   "source": [
    "#4. nested 'if' - we can have if statements inside the if statement, this is called nested if statements.\n",
    "#Example of nested if \n",
    "a=56\n",
    "if a>30:\n",
    "    print(\"a is greater than 30\")\n",
    "    if a>60:\n",
    "        print(\"a is greater than 60\")\n",
    "    else:\n",
    "        print(\"but not greater than 60\")"
   ]
  },
  {
   "cell_type": "code",
   "execution_count": 65,
   "id": "63a23899-8b05-4257-a767-23c5a40b7fa2",
   "metadata": {},
   "outputs": [
    {
     "name": "stdout",
     "output_type": "stream",
     "text": [
      "Please enter your age.\n"
     ]
    },
    {
     "name": "stdin",
     "output_type": "stream",
     "text": [
      " 60\n"
     ]
    },
    {
     "name": "stdout",
     "output_type": "stream",
     "text": [
      "YOU SHOULD RETIRE\n"
     ]
    }
   ],
   "source": [
    "# input() - this 'input()' method is useful to get input from the user.\n",
    "#Example of input() method\n",
    "print(\"Please enter your age.\")\n",
    "age=int(input())\n",
    "\n",
    "if age>=0 and age<4:\n",
    "    print('YOU SHOULD STAY IN HOME WITH MOM')\n",
    "elif age>=4 and age<=16:\n",
    "    print('YOU SHOULD GO TO SCHOOL')\n",
    "elif age>16 and age<=24:\n",
    "        print('YOU SHOULD GO TO COLLEGE')\n",
    "elif age>24 and age<60:\n",
    "        print('YOU SHOULD GO TO WORK')\n",
    "else:\n",
    "        print('YOU SHOULD RETIRE')"
   ]
  },
  {
   "cell_type": "code",
   "execution_count": 197,
   "id": "45457585-aa2e-4d00-90ce-7c7c339be87f",
   "metadata": {},
   "outputs": [
    {
     "name": "stdin",
     "output_type": "stream",
     "text": [
      "Enter your score: 56\n"
     ]
    },
    {
     "name": "stdout",
     "output_type": "stream",
     "text": [
      "your grade is: 'B'\n"
     ]
    }
   ],
   "source": [
    "# Tasks on conditional statements -\n",
    "# Task - 1 (Grading System)\n",
    "\n",
    "Score=int(input(\"Enter your score:\"))\n",
    "\n",
    "if Score>100 or Score<0:\n",
    "    print(\"Please check your score and Re-enter valid score\")\n",
    "elif Score >90:\n",
    "    print(\"your grade is :'O'\")\n",
    "elif Score >80:\n",
    "    print(\"your grade is: 'A+'\")\n",
    "elif Score >70:\n",
    "    print(\"your grade is: 'A'\")\n",
    "elif Score >60:\n",
    "    print(\"your grade is: 'B+'\")\n",
    "elif Score >50:\n",
    "    print(\"your grade is: 'B'\")    \n",
    "elif Score >=40:\n",
    "    print(\"your grade is: 'C'\")\n",
    "else:\n",
    "    print(\"your grade is: 'RA'\")"
   ]
  },
  {
   "cell_type": "code",
   "execution_count": 194,
   "id": "5f8ab72e-d781-44da-9552-ffdd33d0f196",
   "metadata": {},
   "outputs": [
    {
     "name": "stdout",
     "output_type": "stream",
     "text": [
      "Welcome To Uniq Restaurant \n",
      "For Vegetarian choose : 1\n",
      "For Non-vegetarian choose : 2\n"
     ]
    },
    {
     "name": "stdin",
     "output_type": "stream",
     "text": [
      " 2\n"
     ]
    },
    {
     "name": "stdout",
     "output_type": "stream",
     "text": [
      " 1 - Chicken Pulav, 2 - Mutton Pulav, 3 - Chicken Mandi, 4 - Chicken Tikka Masala, 5 - Chicken Manchurian\n"
     ]
    },
    {
     "name": "stdin",
     "output_type": "stream",
     "text": [
      " 2\n"
     ]
    },
    {
     "name": "stdout",
     "output_type": "stream",
     "text": [
      "Your dish 'Chicken Pulav' is getting prepared. Please be patient till your order gets ready.\n",
      "Thank You For Choosing our Restaurant\n"
     ]
    }
   ],
   "source": [
    "# Task - 2 (Restaurant order)\n",
    "\n",
    "print(\"Welcome To Uniq Restaurant \", \"For Vegetarian choose : 1\", \"For Non-vegetarian choose : 2\",sep='\\n')\n",
    "order_type=int(input())\n",
    "Vegetarian_dishes=\" 1 - Veg Pulav, 2 - Kaju Pulav, 3 - Curd Rice, 4 - Veg Meals, 5 - Palak Paneer \"\n",
    "Non_vegetarian_dishes=\" 1 - Chicken Pulav, 2 - Mutton Pulav, 3 - Chicken Mandi, 4 - Chicken Tikka Masala, 5 - Chicken Manchurian\"\n",
    "\n",
    "if order_type==1:\n",
    "    print(Vegetarian_dishes)\n",
    "    veg_dishes=int(input())\n",
    "    if veg_dishes==1:\n",
    "        print(\"Your dish 'Veg Pulav' is getting prepared. Please be patient till your order gets ready.\", \"Thank You For Choosing our Restaurant\",sep='\\n')\n",
    "    elif veg_dishes==2:\n",
    "        print(\"Your dish 'Kaju Pulav' is getting prepared. Please be patient till your order gets ready.\", \"Thank You For Choosing our Restaurant\",sep='\\n')\n",
    "    elif veg_dishes==3:\n",
    "        print(\"Your dish 'Curd Rice' is getting prepared. Please be patient till your order gets ready.\", \"Thank You For Choosing our Restaurant\",sep='\\n')\n",
    "    elif veg_dishes==4:\n",
    "        print(\"Your dish 'Veg Meals' is getting prepared. Please be patient till your order gets ready.\", \"Thank You For Choosing our Restaurant\",sep='\\n')\n",
    "    elif veg_dishes==5:\n",
    "        print(\"Your dish 'Palak Paneer' is getting prepared. Please be patient till your order gets ready.\", \"Thank You For Choosing our Restaurant\",sep='\\n')\n",
    "    else:\n",
    "        print(\"Please select items given in the list\")\n",
    "\n",
    "elif order_type==2:\n",
    "    print(Non_vegetarian_dishes)\n",
    "    Non_veg_dishes=int(input())\n",
    "    if veg_dishes==1:\n",
    "        print(\"Your dish 'Chicken Pulav' is getting prepared. Please be patient till your order gets ready.\", \"Thank You For Choosing our Restaurant\",sep='\\n')\n",
    "    elif veg_dishes==2:\n",
    "        print(\"Your dish 'Mutton Pulav' is getting prepared. Please be patient till your order gets ready.\", \"Thank You For Choosing our Restaurant\",sep='\\n')\n",
    "    elif veg_dishes==3:\n",
    "        print(\"Your dish 'Chicken Mandi' is getting prepared. Please be patient till your order gets ready.\", \"Thank You For Choosing our Restaurant\",sep='\\n')\n",
    "    elif veg_dishes==4:\n",
    "        print(\"Your dish 'Chicken Tikka Masala' is getting prepared. Please be patient till your order gets ready.\", \"Thank You For Choosing our Restaurant\",sep='\\n')\n",
    "    elif veg_dishes==5:\n",
    "        print(\"Your dish 'Chicken Manchurian' is getting prepared. Please be patient till your order gets ready.\", \"Thank You For Choosing our Restaurant\",sep='\\n')\n",
    "    else:\n",
    "        print(\"Please select items given in the list\")\n",
    "else:\n",
    "    print(\"Choose Your Order Type Correctly\")"
   ]
  },
  {
   "cell_type": "code",
   "execution_count": 217,
   "id": "6b829c2f-3168-44e4-95d0-b81f2b2b429b",
   "metadata": {},
   "outputs": [
    {
     "name": "stdout",
     "output_type": "stream",
     "text": [
      "Eligible ages:  [18, 21, 34, 104, 100]\n",
      "Non Eligible ages:  [0, 17]\n"
     ]
    }
   ],
   "source": [
    "# Task - 3 (Age Separation for Vote eligibility and non_eligibility)\n",
    "\n",
    "ages = [18,0,21,34,104,100,17]\n",
    "eligible_ages = []\n",
    "non_eligible_ages = []\n",
    "if ages[0] >= 18:\n",
    "    eligible_ages.append(ages[0])\n",
    "else:\n",
    "    non_eligible_ages.append(ages[0])\n",
    "if ages[1] >= 18:\n",
    "    eligible_ages.append(ages[1])\n",
    "else:\n",
    "    non_eligible_ages.append(ages[1])\n",
    "if ages[2] >= 18:\n",
    "    eligible_ages.append(ages[2])\n",
    "else:\n",
    "    non_eligible_ages.append(ages[2])\n",
    "if ages[3] >= 18:\n",
    "    eligible_ages.append(ages[3])\n",
    "else:\n",
    "    non_eligible_ages.append(ages[3])\n",
    "if ages[4] >= 18:\n",
    "    eligible_ages.append(ages[4])\n",
    "else:\n",
    "    non_eligible_ages.append(ages[4])\n",
    "if ages[5] >= 18:\n",
    "    eligible_ages.append(ages[5])\n",
    "else:\n",
    "    non_eligible_ages.append(ages[5])\n",
    "if ages[6] >= 18:\n",
    "    eligible_ages.append(ages[6])\n",
    "else:\n",
    "    non_eligible_ages.append(ages[6])\n",
    "\n",
    "print(\"Eligible ages: \",eligible_ages)\n",
    "print(\"Non Eligible ages: \",non_eligible_ages) # We can use looping Statements to optimize the code (code in fewer lines)."
   ]
  },
  {
   "cell_type": "code",
   "execution_count": null,
   "id": "60ea32ef-783f-4039-9631-08366e76a175",
   "metadata": {},
   "outputs": [],
   "source": []
  }
 ],
 "metadata": {
  "kernelspec": {
   "display_name": "Python 3 (ipykernel)",
   "language": "python",
   "name": "python3"
  },
  "language_info": {
   "codemirror_mode": {
    "name": "ipython",
    "version": 3
   },
   "file_extension": ".py",
   "mimetype": "text/x-python",
   "name": "python",
   "nbconvert_exporter": "python",
   "pygments_lexer": "ipython3",
   "version": "3.12.4"
  }
 },
 "nbformat": 4,
 "nbformat_minor": 5
}
