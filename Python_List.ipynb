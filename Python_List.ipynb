{
 "cells": [
  {
   "cell_type": "markdown",
   "id": "b867c28c-48c3-4dad-a56f-6d1a021086aa",
   "metadata": {},
   "source": [
    "# List :"
   ]
  },
  {
   "cell_type": "code",
   "execution_count": 47,
   "id": "1beebb8f-0cee-46ce-a977-e334fd32b6a5",
   "metadata": {},
   "outputs": [
    {
     "name": "stdout",
     "output_type": "stream",
     "text": [
      "<class 'list'> <class 'list'> <class 'list'>\n",
      "[21, 22, 34, 56, 27, 18]\n",
      "[2.5, 3.6, 1.7, 2.6, 3.1, 4.3]\n",
      "['Srinath', 'Harry', 'Sundar', 'Durga', 'Pavan', 'Giri']\n",
      "([1, 2, 3, 4, 5, 6], [4.5, 4.6, 4.7, 4.8, 4.9], [False, False], ['ed', 'hgfd', 'hgf'], [1, 2.2, 'jhgfd', True, False, 41])\n"
     ]
    }
   ],
   "source": [
    "# List is commonly a data type, which is in order,mutable and iterable sequence over a data. list contains elements.\n",
    "# index numbers plays a crucial role in list.\n",
    "\n",
    "#Examples for list.\n",
    "acct_holder_age=[21,22,34,56,27,18,] # int\n",
    "interest=[2.5,3.6,1.7,2.6,3.1,4.3] # float (in percentage)\n",
    "acct_holders=['Srinath','Harry','Sundar','Durga','Pavan','Giri'] # string\n",
    "a=[1,2,3,4,5,6,], [4.5,4.6,4.7,4.8,4.9], [22>33, False], ['ed','hgfd','hgf'], [1,2.2,'jhgfd', True, 44==33, 44^5]\n",
    "\n",
    "print(type(acct_holder_age), type(interest), type(acct_holders))\n",
    "print(acct_holder_age, interest, acct_holders, a, sep='\\n')"
   ]
  },
  {
   "cell_type": "markdown",
   "id": "20430f33-5b52-4917-b3a7-99e9850964d7",
   "metadata": {},
   "source": [
    "### Access list elements -"
   ]
  },
  {
   "cell_type": "code",
   "execution_count": 50,
   "id": "39572e1a-80d1-4f9c-8492-7dc823864f55",
   "metadata": {},
   "outputs": [
    {
     "name": "stdout",
     "output_type": "stream",
     "text": [
      "Dhoni, Rohit, Dawan\n",
      "72, 32, 14\n",
      "32.55, 16.75, 15.45\n",
      "Pandya, Rohit, Dawan\n",
      "72, 14, 72\n",
      "16.75, 12.3, 32.55\n"
     ]
    }
   ],
   "source": [
    "# lists contain elements. Each element is associated with a number called 'index'.we can access any element in list by using the index of element.\n",
    "# positive index - 0,1,2,.... (n-1)\n",
    "# negative index - -1,-2,-3,.... (n+1)\n",
    "\n",
    "#Examples for accessing list elements using positive index.\n",
    "cric_players=['Dhoni','Kohli','Rohit','Pandya','Dawan','Sachin'] # Strings\n",
    "score=[68,72,56,32,40,14] # int\n",
    "play_time=[12.30,15.45,53.45,8.5,16.75,32.55] # float (in minutes)\n",
    "\n",
    "print(cric_players[0], cric_players[2], cric_players[4], sep=', ')\n",
    "print(score[1], score[3], score[5], sep=', ')\n",
    "print(play_time[5], play_time[4], play_time[1], sep=', ')\n",
    "\n",
    "#Examples for accessing list elements using negative index.\n",
    "print(cric_players[-3], cric_players[-4], cric_players[-2], sep=', ')\n",
    "print(score[-5], score[-1], score[-5], sep=', ')\n",
    "print(play_time[-2], play_time[-6], play_time[-1], sep=', ')"
   ]
  },
  {
   "cell_type": "markdown",
   "id": "6debe351-28d9-407f-9c82-ab0102e52083",
   "metadata": {},
   "source": [
    "### Slicing of List -"
   ]
  },
  {
   "cell_type": "code",
   "execution_count": 53,
   "id": "0a668275-c4a3-461b-938c-c3d36ba69dda",
   "metadata": {},
   "outputs": [
    {
     "name": "stdout",
     "output_type": "stream",
     "text": [
      "['beetroot', 'beans', 'cabbage']-['carrot', 'beetroot', 'beans']-['beans', 'cabbage', 'bitter guard']\n",
      "['0.5']-['0.5', '3.5', '2.5']-['2.5', '1.5', '0.5', '3.5', '2.5']\n",
      "[85, 60]-[60]-[30, 20, 85, 60]\n",
      "[]-[]-[]\n",
      "[]-[]-[]\n",
      "[]-[]-[]\n"
     ]
    }
   ],
   "source": [
    "# In python, it is possible to access a portion of a list using the slicing operator. ':'\n",
    "\n",
    "#Examples for slicing using positive index .\n",
    "vegetables=['carrot','beetroot','beans','cabbage','bitter guard','sour guard'] # string\n",
    "quantity=['2.5','1.5','0.5','3.5','2.5','4.5'] # float (in kilograms)\n",
    "price=[95,30,20,85,60,100] # int\n",
    "\n",
    "print(vegetables[1:4], vegetables[0:3], vegetables[2:5], sep='-')\n",
    "print(quantity[2:3], quantity[2:5], quantity[0:5], sep='-')\n",
    "print(price[3:5], price[4:5], price[1:5], sep='-')\n",
    "\n",
    "#Examples for slicing using negative index.\n",
    "fruits=['apple','orange','banana','grape','lichi','guava'] # string\n",
    "quantity=['1.5','2.5','3.5','2.5','0.5','1.5'] # float (in kilograms)\n",
    "price=[150,70,200,65,40,100] # int\n",
    "\n",
    "print(fruits[-1:-4], fruits[-1:-3], fruits[-2:-5], sep='-')\n",
    "print(quantity[-2:-3], quantity[-2:-5], quantity[-1:-5], sep='-')\n",
    "print(price[-3:-5], price[-4:-5], price[-1:-5], sep='-')"
   ]
  },
  {
   "cell_type": "code",
   "execution_count": 55,
   "id": "a489c299-18a1-4329-bc57-90b90b6b1c74",
   "metadata": {},
   "outputs": [
    {
     "name": "stdout",
     "output_type": "stream",
     "text": [
      "[]\n"
     ]
    }
   ],
   "source": [
    "x=[1,2,3,4,5,6]\n",
    "print(x[-1:-4])"
   ]
  },
  {
   "cell_type": "markdown",
   "id": "f70a4260-2783-4283-8e0c-b396274efb80",
   "metadata": {},
   "source": [
    "### List Operations -"
   ]
  },
  {
   "cell_type": "code",
   "execution_count": 58,
   "id": "896c1ca2-094e-4dcf-aa34-cbf994612314",
   "metadata": {},
   "outputs": [
    {
     "name": "stdout",
     "output_type": "stream",
     "text": [
      "[11, 22, 33, 44, 55, 66, 77, 88, 99]\n",
      "['ball', 'bat', 'bird', 'beat', 'ben', 'cat', 'call', 'car', 'cut']\n",
      "[2.3, 4.2, 3.5, 6.6, 9.3, 9.2, 2.4, 5.6, 7.1]\n",
      "[66, 77, 88, 99, 11, 22, 33, 44, 55, 'ball', 'bat', 'bird', 'beat', 'ben', 'cat', 'call', 'car', 'cut', 2.3, 4.2, 3.5, 6.6, 9.3, 9.2, 2.4, 5.6, 7.1]\n",
      "[11, 22, 33, 44, 55]\n",
      "['ball', 'bat', 'bird', 'beat', 'ben', 'ball', 'bat', 'bird', 'beat', 'ben']\n",
      "[2.3, 4.2, 3.5, 6.6, 9.3, 2.3, 4.2, 3.5, 6.6, 9.3, 2.3, 4.2, 3.5, 6.6, 9.3]\n",
      "[11, 22, 33, 44, 55, 66, 77, 88, 99, 11, 22, 33, 44, 55, 66, 77, 88, 99, 11, 22, 33, 44, 55, 66, 77, 88, 99]\n",
      "['ball', 'bat', 'bird', 'beat', 'ben', 'cat', 'call', 'car', 'cut', 'ball', 'bat', 'bird', 'beat', 'ben', 'cat', 'call', 'car', 'cut', 'ball', 'bat', 'bird', 'beat', 'ben', 'cat', 'call', 'car', 'cut', 'ball', 'bat', 'bird', 'beat', 'ben', 'cat', 'call', 'car', 'cut']\n",
      "[2.3, 4.2, 3.5, 6.6, 9.3, 9.2, 2.4, 5.6, 7.1]\n",
      "[11, 22, 33, 44, 55, 66, 77, 88, 99, 'ball', 'bat', 'bird', 'beat', 'ben', 'cat', 'call', 'car', 'cut', 2.3, 4.2, 3.5, 6.6, 9.3, 9.2, 2.4, 5.6, 7.1, 11, 22, 33, 44, 55, 66, 77, 88, 99, 'ball', 'bat', 'bird', 'beat', 'ben', 'cat', 'call', 'car', 'cut', 2.3, 4.2, 3.5, 6.6, 9.3, 9.2, 2.4, 5.6, 7.1]\n"
     ]
    }
   ],
   "source": [
    "# The two operations to perform on list are 1.Concatination 2.Repetition.\n",
    "# Concatination is used to add two or more lists to a single list (it won't perform addition on list) (+).\n",
    "# Repetition is used to repeat the same list for no.of times.(*).\n",
    "\n",
    "#Examples for concatination.\n",
    "numbers1=[11,22,33,44,55] # int\n",
    "numbers2=[66,77,88,99] # int\n",
    "strings1=['ball','bat','bird','beat','ben'] # string\n",
    "strings2=['cat','call','car','cut'] # string\n",
    "floats1=[2.3,4.2,3.5,6.6,9.3] # float\n",
    "floats2=[9.2,2.4,5.6,7.1] # float\n",
    "\n",
    "concat1=numbers1+numbers2\n",
    "concat2=strings1+strings2\n",
    "concat3=floats1+floats2\n",
    "concat=numbers2+numbers1+strings1+strings2+floats1+floats2\n",
    "print(concat1, concat2, concat3, concat, sep='\\n')\n",
    "\n",
    "#Examples for repetition\n",
    "rep1=numbers1*1\n",
    "rep2=strings1*2\n",
    "rep3=floats1*3\n",
    "rep4=(numbers1+numbers2)*3\n",
    "rep5=(strings1+strings2)*4\n",
    "rep6=(floats1+floats2)*1\n",
    "rep=(numbers1+numbers2+strings1+strings2+floats1+floats2)*2\n",
    "print(rep1, rep2, rep3, rep4, rep5, rep6, rep, sep='\\n')"
   ]
  },
  {
   "cell_type": "markdown",
   "id": "421fb112-987b-4a71-aeb9-f06dd4bc27f8",
   "metadata": {},
   "source": [
    "### Change list items -"
   ]
  },
  {
   "cell_type": "code",
   "execution_count": 61,
   "id": "d4232987-2012-449b-9709-1d66890a068c",
   "metadata": {},
   "outputs": [
    {
     "name": "stdout",
     "output_type": "stream",
     "text": [
      "[1, 2, 3, 10, 5, 6, 7, 8]\n",
      "[2.2, 3.3, 4.4, 5.5, 10.66]\n",
      "['abc', 'def', 'xyz', 'jkl', 'mno']\n",
      "[1, 22, 33, 44, 5, 6, 7, 8]\n",
      "[2.2, 3.3, 10.66, 2.2, 4.6, 55.55, 4.56]\n",
      "['abc', 'def', 'xyz', 'xyz', 'xxyyzz']\n"
     ]
    }
   ],
   "source": [
    "# To change or replace the value of a specified item with the reference of index number.\n",
    "\n",
    "#Examples for replacing only a single value/element in a list.\n",
    "items_num=[1,2,3,4,5,6,7,8] # int\n",
    "items_float=[2.2,3.3,4.4,5.5,6.6] # float\n",
    "items_string=['abc','def','ghi','jkl','mno'] # string\n",
    "\n",
    "items_num[3]=10\n",
    "items_float[4]=10.66\n",
    "items_string[2]='xyz'\n",
    "\n",
    "print(items_num, items_float, items_string, sep='\\n')\n",
    "\n",
    "#Examples for replacing more than one elements in a list using slicing.\n",
    "items_num[1:4]=22,33,44\n",
    "items_float[2:7]=10.66,2.2,4.6,55.55,4.56\n",
    "items_string[3:5]='xyz','xxyyzz'\n",
    "\n",
    "print(items_num, items_float, items_string, sep='\\n')"
   ]
  },
  {
   "cell_type": "code",
   "execution_count": 63,
   "id": "28e84361-58df-447a-8d05-83f64c53f84a",
   "metadata": {},
   "outputs": [
    {
     "name": "stdout",
     "output_type": "stream",
     "text": [
      "[1, 22, 44, 44, 4, 4]\n"
     ]
    }
   ],
   "source": [
    "items_num[1:]=22,44,44,4,4\n",
    "print(items_num)"
   ]
  },
  {
   "cell_type": "markdown",
   "id": "6f1f5f63-fab0-4509-9825-ff6fd67938a0",
   "metadata": {},
   "source": [
    "###  List Methods -"
   ]
  },
  {
   "cell_type": "code",
   "execution_count": 66,
   "id": "6d64595a-f94a-412b-b08b-0194aabf4f47",
   "metadata": {},
   "outputs": [
    {
     "name": "stdout",
     "output_type": "stream",
     "text": [
      "[1, 2, 3, 4, 5, 44]\n",
      "[2.2, 4.4, 5.5, 6.6, 7.7]\n",
      "['Bot', 'Trade', 'Wallet', 'Binary']\n"
     ]
    }
   ],
   "source": [
    "# These are the methods use too alter or control the list in python.\n",
    "#Examples for list methods.\n",
    "\n",
    "# 1.append() - adds an element to the end of the  list.\n",
    "int=[1,2,3,4,5]\n",
    "float=[2.2,4.4,5.5,6.6]\n",
    "string=['Bot', 'Trade', 'Wallet']\n",
    "\n",
    "int.append(44), float.append(7.7), string.append('Binary')\n",
    "\n",
    "print(int,float,string, sep='\\n')"
   ]
  },
  {
   "cell_type": "code",
   "execution_count": 68,
   "id": "92797dc4-b9da-4afd-bad0-bf42ba6473dc",
   "metadata": {},
   "outputs": [
    {
     "name": "stdout",
     "output_type": "stream",
     "text": [
      "[1, 2, 3, 4, 5, 6, 7, 8, 9, 10]\n",
      "[2.2, 4.4, 5.5, 6.6, 7.7, 8.8, 9.9]\n",
      "['Bot', 'Trade', 'Wallet', 'profile', 'Count', 'Coins']\n",
      "[1, 2, 3, 4, 4.4, 5.5, 6.6]\n",
      "['asd', 'sd', 'd', 4.4, 5.5, 6.6]\n"
     ]
    }
   ],
   "source": [
    "# 2.extend() - adds more than one element to the end of the list.\n",
    "int1=[1,2,3,4,5]\n",
    "float1=[2.2,4.4,5.5,6.6]\n",
    "string1=['Bot', 'Trade', 'Wallet']\n",
    "\n",
    "int2=[6,7,8,9,10]\n",
    "float2=[7.7,8.8,9.9]\n",
    "string2=['profile', 'Count', 'Coins']\n",
    "\n",
    "int1.extend(int2), float1.extend(float2), string1.extend(string2)\n",
    "\n",
    "print(int1,float1,string1, sep='\\n')\n",
    "\n",
    "a=[1,2,3,4] # another example of extend\n",
    "b=[4.4,5.5,6.6]\n",
    "c=['asd', 'sd', 'd']\n",
    "\n",
    "a.extend(b), c.extend(b)\n",
    "\n",
    "print(a,c,sep='\\n')"
   ]
  },
  {
   "cell_type": "code",
   "execution_count": 70,
   "id": "40680e85-88df-410b-bf26-60daca9e83eb",
   "metadata": {},
   "outputs": [
    {
     "name": "stdout",
     "output_type": "stream",
     "text": [
      "['Ramesh', 'abhi', 'Suresh', 'Pranesh', 'Viswesh', 'Rupesh']\n",
      "[22, 34, 56, 7, 3, 76]\n",
      "[92.56, 88.88, 81.78, 89.99, 96.01, 75.57]\n"
     ]
    }
   ],
   "source": [
    "# 3.insert() - inserts an element at specified position (it will insert an element without removig the existed elements at any index.)\n",
    "\n",
    "#Examples for insert() method\n",
    "student_name=['Ramesh','Suresh','Pranesh','Viswesh','Rupesh'] # String\n",
    "ranks=[22,34,56,7,76] # int\n",
    "percent=[92.56,88.88,81.78,96.01,75.57] # float\n",
    "\n",
    "student_name.insert(1,'abhi'), ranks.insert(4,3), percent.insert(3,89.99) # (4,3) here '4' is index and '3' is element that will be inserted in list\n",
    "\n",
    "print(student_name,ranks,percent, sep='\\n')"
   ]
  },
  {
   "cell_type": "code",
   "execution_count": 72,
   "id": "0e1e8e88-cc3e-4b67-98ea-a3380ed9ff7a",
   "metadata": {},
   "outputs": [
    {
     "name": "stdout",
     "output_type": "stream",
     "text": [
      "['Bollywood', 'Tollywood', 'Hollywood', 'Mollywoood', 'Sandalwood']\n",
      "[120, 23, 4, 1, 0]\n",
      "[2.8, 3.8, 2.4, 4.5]\n"
     ]
    }
   ],
   "source": [
    "# 4.remove() - removes the first occurence of a value and also removes number if there is no repeated number.\n",
    "\n",
    "#Examples for remove() method\n",
    "playlist=['Hollywood','Bollywood','Tollywood','Hollywood','Mollywoood','Sandalwood'] # string\n",
    "songs_count=[120,32,23,4,1,0]  # int\n",
    "songs_length=[2.8,4.5,3.8,2.4,4.5,3.9] # float (in minutes)\n",
    "\n",
    "playlist.remove('Hollywood'), songs_count.remove(32), songs_length.remove(4.5), songs_length.remove(3.9) \n",
    "\n",
    "print(playlist,songs_count,songs_length,sep='\\n')"
   ]
  },
  {
   "cell_type": "code",
   "execution_count": 74,
   "id": "af2bbe71-8ff5-4f0e-9938-3e1fae60bf14",
   "metadata": {},
   "outputs": [
    {
     "name": "stdout",
     "output_type": "stream",
     "text": [
      "[1, 2, 4, 5, 6]\n",
      "[55.4, 66.5, 77.6, 88.7, 99.8]\n",
      "['first', 'second', 'third', 'fourth', 'sixth']\n",
      "3\n",
      "44.3\n",
      "fifth\n"
     ]
    }
   ],
   "source": [
    "# 5.pop() - removes and returns the value at a specified index.\n",
    "\n",
    "#Examples for pop() method\n",
    "_1=[1,2,3,4,5,6]\n",
    "_2=[44.3,55.4,66.5,77.6,88.7,99.8]\n",
    "_3=['first','second','third','fourth','fifth','sixth']\n",
    "\n",
    "\n",
    "one=_1.pop(2)\n",
    "two=_2.pop(0)\n",
    "three=_3.pop(4)\n",
    "\n",
    "print(_1,_2,_3,one,two,three,sep='\\n')"
   ]
  },
  {
   "cell_type": "code",
   "execution_count": 76,
   "id": "86b01656-51b8-485b-8ed6-4f9ab4ec3d61",
   "metadata": {},
   "outputs": [
    {
     "name": "stdout",
     "output_type": "stream",
     "text": [
      "3,0,2\n",
      "2,7,0\n"
     ]
    }
   ],
   "source": [
    "# 6.index() - returns the index of the first occurance value\n",
    "\n",
    "#Examples for index() method\n",
    "num1=[33,55,77,99,22,33,66,88] # int\n",
    "flo1=[11.2,22.3,33.4,44.5,55.6,66.7,77.8,88.9] # float\n",
    "str1=['abc','def','ghi','jkl','mno','pqr','stu','vwx'] # string\n",
    "\n",
    "num2=num1.index(99)\n",
    "flo2=flo1.index(11.2)\n",
    "str2=str1.index('ghi')\n",
    "\n",
    "print(num2,flo2,str2,sep=',')\n",
    "print(num1.index(77),flo1.index(88.9),str1.index('abc'),sep=',') # Another method"
   ]
  },
  {
   "cell_type": "code",
   "execution_count": 78,
   "id": "a3f77ab9-db16-4a04-bed0-f579720f89c7",
   "metadata": {},
   "outputs": [
    {
     "name": "stdout",
     "output_type": "stream",
     "text": [
      "4,0,2\n",
      "2,2,1\n"
     ]
    }
   ],
   "source": [
    "# 7.count() - returns the no.of occurance of a value (it will shows how many times an element is repeated in a list)\n",
    "\n",
    "#Examples for count() method\n",
    "num_count=[2,3,4,6,5,3,2,3,2,4,2]\n",
    "flo_count=[2.2,3.3,7.7,2.2,8.8,2,2.6]\n",
    "str_count=['apple','banana','apple','orange','grape','grapefruit']\n",
    "\n",
    "count1=num_count.count(2)\n",
    "count2=flo_count.count(1.12)\n",
    "count3=str_count.count('apple')\n",
    "\n",
    "print(count1,count2,count3,sep=',')\n",
    "print(num_count.count(4),flo_count.count(2.2),str_count.count('orange'),sep=',') ## another method"
   ]
  },
  {
   "cell_type": "code",
   "execution_count": 80,
   "id": "0a77bbce-1676-43c3-8592-22ac6bc49216",
   "metadata": {},
   "outputs": [
    {
     "name": "stdout",
     "output_type": "stream",
     "text": [
      "['General', 'Senior citizen', 'Vikalp', 'premium tatkal', 'tatkal']\n",
      "[0, 25, 50, 87, 221]\n",
      "[67.0, 78.0, 87.0, 89.0, 98.0]\n",
      "['tatkal', 'premium tatkal', 'Vikalp', 'Senior citizen', 'General']\n",
      "[221, 87, 50, 25, 0]\n",
      "[98.0, 89.0, 87.0, 78.0, 67.0]\n"
     ]
    }
   ],
   "source": [
    "# 8.sort() - sorts the list in ascending and descending order \n",
    "\n",
    "#Examples for sort() method - ascending order\n",
    "ticket_quota=['tatkal','General','premium tatkal','Vikalp','Senior citizen'] # string\n",
    "tickets_available=[221,0,87,25,50] # int\n",
    "confirm_possibility=[87.0,67.0,98.0,78.0,89.0] # float\n",
    "\n",
    "ticket_quota.sort(),tickets_available.sort(),confirm_possibility.sort()\n",
    "\n",
    "print(ticket_quota,tickets_available,confirm_possibility,sep='\\n')\n",
    "\n",
    "##Examples for sort() method - descending order\n",
    "ticket_quota.sort(reverse=True),tickets_available.sort(reverse=True),confirm_possibility.sort(reverse=True)\n",
    "\n",
    "print(ticket_quota,tickets_available,confirm_possibility,sep='\\n')"
   ]
  },
  {
   "cell_type": "code",
   "execution_count": 82,
   "id": "4b7dae12-33cb-4cb6-af19-26360fedda85",
   "metadata": {},
   "outputs": [
    {
     "name": "stdout",
     "output_type": "stream",
     "text": [
      "['RRR', 'Hanuman', 'Salaar', 'Kong X Godzilla', 'Maharaju', 'Kalki', 'Saaho']\n",
      "[500, 240, 300, 180, 200, 450, 150]\n",
      "[9.6, 9.2, 9.5, 7.9, 8.2, 9.8, 8.5]\n"
     ]
    }
   ],
   "source": [
    "# 9.reverse() - it will reverse the list\n",
    "\n",
    "#Examples for reverse() method\n",
    "movies=['Saaho','Kalki','Maharaju','Kong X Godzilla','Salaar','Hanuman','RRR'] # string\n",
    "price=[150,450,200,180,300,240,500] # int\n",
    "rating=[8.5,9.8,8.2,7.9,9.5,9.2,9.6] # float\n",
    "\n",
    "movies.reverse(),price.reverse(),rating.reverse()\n",
    "\n",
    "print(movies,price,rating,sep='\\n')"
   ]
  },
  {
   "cell_type": "code",
   "execution_count": 83,
   "id": "128d592d-51a9-45cc-8e7d-a1d6188a9e69",
   "metadata": {},
   "outputs": [
    {
     "name": "stdout",
     "output_type": "stream",
     "text": [
      "[1, 3, 5, 7, 9]\n",
      "[2.2, 3.3, 4.4, 5.5]\n",
      "['STRING1', 'STRING2', 'STRING3']\n"
     ]
    }
   ],
   "source": [
    "# 10.copy() - copies the list into an another list\n",
    "\n",
    "#Examples for copy() method\n",
    "int_orginals=[1,3,5,7,9]\n",
    "float_orginals=[2.2,3.3,4.4,5.5]\n",
    "string_orginals=['STRING1','STRING2','STRING3']\n",
    "\n",
    "int_copy=int_orginals.copy()\n",
    "float_copy=float_orginals.copy()\n",
    "string_copy=string_orginals.copy()\n",
    "\n",
    "print(int_copy,float_copy,string_copy,sep='\\n')"
   ]
  },
  {
   "cell_type": "code",
   "execution_count": 85,
   "id": "ed484989-c634-47bb-9258-ea3e4224b0bc",
   "metadata": {},
   "outputs": [
    {
     "name": "stdout",
     "output_type": "stream",
     "text": [
      "[],[],[]\n"
     ]
    }
   ],
   "source": [
    "# 11.clear() - removes all the elements from the list\n",
    "\n",
    "#Examples for clear() method\n",
    "a1=[1,2,3,4,5,6,7,8,9]\n",
    "b1=[2.2,4.4,6.6,8.8,0.5]\n",
    "c1=['abc','def','ghi','jkl']\n",
    "\n",
    "a1.clear(),b1.clear(),c1.clear()\n",
    "\n",
    "print(a1,b1,c1,sep=',')"
   ]
  },
  {
   "cell_type": "code",
   "execution_count": 87,
   "id": "d6fc06a7-3739-4a48-a55a-80caaaddb712",
   "metadata": {},
   "outputs": [
    {
     "name": "stdout",
     "output_type": "stream",
     "text": [
      "0,1.0,Cola\n",
      "78,8.6,sprite\n"
     ]
    }
   ],
   "source": [
    "# 12.min() - calculates/shows the minimum of all the elements in list.\n",
    "\n",
    "#Examples for min() method.\n",
    "list_int=[1,2,3,4,5,6,10,3,4,5,78,0]\n",
    "list_float=[2.2,8.6,5.6,1.0,7.7,3.5]\n",
    "list_string=['Pepsi','Cola','sprite','limca']\n",
    "\n",
    "print(min(list_int),min(list_float),min(list_string),sep=',')\n",
    "\n",
    "# 13.max() - calculates/shows the maximum of all the elements in list.\n",
    "\n",
    "print(max(list_int),max(list_float),max(list_string),sep=',')"
   ]
  },
  {
   "cell_type": "code",
   "execution_count": 90,
   "id": "240bd07e-f93d-4fda-8e98-6d2b8f94b75a",
   "metadata": {},
   "outputs": [
    {
     "name": "stdout",
     "output_type": "stream",
     "text": [
      "5\n",
      "7\n",
      "6\n"
     ]
    }
   ],
   "source": [
    "# 14.len() - calculates the total length of the list\n",
    "\n",
    "#Examples for len() method.\n",
    "company=['TCS','WIPRO','HCL','CAP GEMINI','ZOHO'] # string\n",
    "salary=[12,13,20,35,8,36,7] # int (in LPA)\n",
    "hike=[2.5,1.9,3.5,4.2,3.1,2.7] # float\n",
    "\n",
    "print(len(company),len(salary),len(hike),sep='\\n')"
   ]
  },
  {
   "cell_type": "code",
   "execution_count": 92,
   "id": "4719f71a-815b-4526-9b75-6419a80d4976",
   "metadata": {},
   "outputs": [
    {
     "name": "stdout",
     "output_type": "stream",
     "text": [
      "105\n",
      "177.08\n"
     ]
    }
   ],
   "source": [
    "# 15.sum() - calculates the sum of all elements of the list\n",
    "\n",
    "#Examples for sum() method\n",
    "list_items_1=[1,44,5,3,6,7,19,20] # int\n",
    "list_items_2=[22.2,44.5,66.7,11.34,32.34] # float\n",
    "\n",
    "print(sum(list_items_1),sum(list_items_2),sep='\\n')"
   ]
  },
  {
   "cell_type": "code",
   "execution_count": 96,
   "id": "0f6f7fe6-fc08-42c2-9662-e13b3de3d0aa",
   "metadata": {},
   "outputs": [
    {
     "name": "stdout",
     "output_type": "stream",
     "text": [
      "['TATA', 'MAHINDRA', 'HUNDAI', 'BMW', 'SKODA']\n",
      "[24, 10, 26, 15, 17]\n",
      "[8.6, 10.7, 14.5, 18.3, 45.7]\n",
      "['ROYAL ENFIELD', 'SUZUKI', 'KTM', 'BMW']\n",
      "[30, 25, 34]\n",
      "[]\n"
     ]
    }
   ],
   "source": [
    "# 16.del() - deletes an element from the list using it's index \n",
    "\n",
    "#Examples for del() method (to delete a single element in list).\n",
    "car_brand=['TATA','MAHINDRA','KIA','HUNDAI','BMW','SKODA'] # string\n",
    "car_milage=[22,24,10,26,15,17] # int\n",
    "car_price=[8.6,10.7,14.5,18.3,45.7,37.8] # float\n",
    "\n",
    "del car_brand[2]\n",
    "del car_milage[0]\n",
    "del car_price[5]\n",
    "\n",
    "print(car_brand,car_milage,car_price,sep='\\n')\n",
    "\n",
    "#Examples for del() method (to delete multiple elements in list using slicing).\n",
    "bike_brand=['YAMAHA','TVS','ROYAL ENFIELD','SUZUKI','KTM','BMW'] # string\n",
    "bike_milage=[30,25,34,22,18,20] # int\n",
    "bike_price=[1.6,1.7,1.5,1.3,4.5,3.7] # float\n",
    "\n",
    "del bike_brand[0:2]\n",
    "del bike_milage[3:6]\n",
    "del bike_price[0:6]\n",
    "\n",
    "print(bike_brand,bike_milage,bike_price,sep='\\n')"
   ]
  }
 ],
 "metadata": {
  "kernelspec": {
   "display_name": "Python 3 (ipykernel)",
   "language": "python",
   "name": "python3"
  },
  "language_info": {
   "codemirror_mode": {
    "name": "ipython",
    "version": 3
   },
   "file_extension": ".py",
   "mimetype": "text/x-python",
   "name": "python",
   "nbconvert_exporter": "python",
   "pygments_lexer": "ipython3",
   "version": "3.12.4"
  }
 },
 "nbformat": 4,
 "nbformat_minor": 5
}
