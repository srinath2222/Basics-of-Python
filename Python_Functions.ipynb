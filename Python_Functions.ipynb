{
 "cells": [
  {
   "cell_type": "markdown",
   "id": "21876e14-4a9f-44e6-8c88-f9e5cfb9b650",
   "metadata": {},
   "source": [
    "# Functions :"
   ]
  },
  {
   "cell_type": "code",
   "execution_count": 9,
   "id": "11c950dd-2d1b-4284-a1d4-50edbbec7280",
   "metadata": {},
   "outputs": [
    {
     "name": "stdout",
     "output_type": "stream",
     "text": [
      "Hii i am Sri.\n",
      "Hii i am Sree.\n",
      "Hii i am Shree.\n"
     ]
    }
   ],
   "source": [
    "# A function is a block of code which runs only when it is called.\n",
    "# Functions are two types - i. Standard/built-in functions,  ii. user-defined function\n",
    "\n",
    "def functionn(name):\n",
    "    print(f\"Hii i am {name}.\")\n",
    "functionn('Sri')\n",
    "functionn('Sree')\n",
    "functionn('Shree')"
   ]
  },
  {
   "cell_type": "markdown",
   "id": "d36fc1de-eed3-4fd8-b403-15a12d387e1e",
   "metadata": {},
   "source": [
    "### Programs using function -"
   ]
  },
  {
   "cell_type": "code",
   "execution_count": 228,
   "id": "33bbe266-3f30-49c1-a65e-c9fa986ea2c1",
   "metadata": {},
   "outputs": [
    {
     "name": "stdout",
     "output_type": "stream",
     "text": [
      "19 is less than 20.\n",
      "20 is equals to 20.\n",
      "21 is greater than 20.\n"
     ]
    },
    {
     "data": {
      "text/plain": [
       "(21, 20)"
      ]
     },
     "execution_count": 228,
     "metadata": {},
     "output_type": "execute_result"
    }
   ],
   "source": [
    "# To check whether the number is greater or not.\n",
    "\n",
    "def greater_or_less(x,y):\n",
    "    \n",
    "    if x<y:\n",
    "        print(f\"{x} is less than {y}.\")\n",
    "    elif x==y:\n",
    "        print(f\"{x} is equals to {y}.\")\n",
    "    else:\n",
    "        print(f\"{x} is greater than {y}.\")\n",
    "    return x,y # only returns the last input data\n",
    "    \n",
    "greater_or_less(19,20)\n",
    "greater_or_less(20,20)\n",
    "greater_or_less(21,20)"
   ]
  },
  {
   "cell_type": "code",
   "execution_count": 121,
   "id": "5fb3614a-967c-4502-945d-458cf54f314a",
   "metadata": {},
   "outputs": [
    {
     "name": "stdout",
     "output_type": "stream",
     "text": [
      "YOU SHOULD STAY IN HOME WITH MOM\n",
      "YOU SHOULD GO TO SCHOOL\n",
      "YOU SHOULD GO TO COLLEGE\n",
      "YOU SHOULD GO TO WORK\n",
      "YOU SHOULD RETIRE\n"
     ]
    }
   ],
   "source": [
    "def suggestion(age):\n",
    "\n",
    "    if age>=0 and age<4:\n",
    "        print('YOU SHOULD STAY IN HOME WITH MOM')\n",
    "    elif age>=4 and age<16:\n",
    "        print('YOU SHOULD GO TO SCHOOL')\n",
    "    elif age>=16 and age<24:\n",
    "        print('YOU SHOULD GO TO COLLEGE')\n",
    "    elif age>=24 and age<60:\n",
    "        print('YOU SHOULD GO TO WORK')\n",
    "    else:\n",
    "        print('YOU SHOULD RETIRE')\n",
    "    # return age\n",
    "    \n",
    "suggestion(3)\n",
    "suggestion(13)\n",
    "suggestion(20)\n",
    "suggestion(56)\n",
    "suggestion(100)"
   ]
  },
  {
   "cell_type": "code",
   "execution_count": 226,
   "id": "a33b515a-ec0f-48d2-bff4-8f38d9252de2",
   "metadata": {},
   "outputs": [
    {
     "name": "stdout",
     "output_type": "stream",
     "text": [
      "your grade is: 'A+'\n"
     ]
    },
    {
     "data": {
      "text/plain": [
       "86.9"
      ]
     },
     "execution_count": 226,
     "metadata": {},
     "output_type": "execute_result"
    }
   ],
   "source": [
    "# Grading System for given score.\n",
    "\n",
    "def grading_system(Score):\n",
    "    \n",
    "    if Score>100 or Score<0:\n",
    "        print(\"Please check your score and Re-enter valid score\")\n",
    "    elif Score >90:\n",
    "        print(\"your grade is :'O'\")\n",
    "    elif Score >80:\n",
    "        print(\"your grade is: 'A+'\")\n",
    "    elif Score >70:\n",
    "        print(\"your grade is: 'A'\")\n",
    "    elif Score >60:\n",
    "        print(\"your grade is: 'B+'\")\n",
    "    elif Score >50:\n",
    "        print(\"your grade is: 'B'\")    \n",
    "    elif Score >=40:\n",
    "        print(\"your grade is: 'C'\")\n",
    "    else:\n",
    "        print(\"your grade is: 'RA'\")\n",
    "    return Score\n",
    "\n",
    "grading_system(86.9)"
   ]
  },
  {
   "cell_type": "code",
   "execution_count": 224,
   "id": "a9243a3f-85c0-4669-bd91-97324a26fb8a",
   "metadata": {},
   "outputs": [
    {
     "name": "stdout",
     "output_type": "stream",
     "text": [
      "'17' is Not-eligible for vote.\n",
      "'25' is eligible for vote.\n",
      "'101' is eligible for vote.\n"
     ]
    }
   ],
   "source": [
    "# To check the eligibility to vote.\n",
    "\n",
    "def eligibility(age):\n",
    "    \n",
    "    if age>=18 and age<150:\n",
    "        print(f\"'{age}' is eligible for vote.\")\n",
    "    else:\n",
    "        print(f\"'{age}' is Not-eligible for vote.\")\n",
    "        \n",
    "eligibility(17)\n",
    "eligibility(25)\n",
    "eligibility(101)"
   ]
  },
  {
   "cell_type": "code",
   "execution_count": 222,
   "id": "05536fe5-2793-4c6e-b535-d25641a28b0b",
   "metadata": {},
   "outputs": [
    {
     "name": "stdout",
     "output_type": "stream",
     "text": [
      "'3' is Odd.\n",
      "'6' is Even.\n"
     ]
    }
   ],
   "source": [
    "# To check the number is even or odd.\n",
    "\n",
    "def even_odd(num):\n",
    "    if num%2==0:\n",
    "        print(f\"'{num}' is Even.\")\n",
    "    else:\n",
    "        print(f\"'{num}' is Odd.\")\n",
    "even_odd(3)\n",
    "even_odd(6)"
   ]
  },
  {
   "cell_type": "code",
   "execution_count": 160,
   "id": "43340154-9b72-4942-83d9-4ed3c99d2dca",
   "metadata": {},
   "outputs": [
    {
     "name": "stdout",
     "output_type": "stream",
     "text": [
      "2\n",
      "3\n",
      "4\n",
      "5\n"
     ]
    }
   ],
   "source": [
    "def whilee(num):\n",
    "    \n",
    "    while num < 6:\n",
    "      print(num)\n",
    "      num += 1\n",
    "        \n",
    "whilee(2)"
   ]
  },
  {
   "cell_type": "code",
   "execution_count": 180,
   "id": "2cfb4c68-8d45-417e-acbb-805c8f04f922",
   "metadata": {},
   "outputs": [
    {
     "name": "stdout",
     "output_type": "stream",
     "text": [
      "Red Apple\n",
      "Red Banana\n",
      "Red Guava\n",
      "Big Apple\n",
      "Big Banana\n",
      "Big Guava\n",
      "Tasty Apple\n",
      "Tasty Banana\n",
      "Tasty Guava\n"
     ]
    }
   ],
   "source": [
    "def fruit_colour(colours,fruits):\n",
    "    \n",
    "    for x in colours:\n",
    "      for y in fruits:\n",
    "              print(x, y)\n",
    "fruit_colour([\"Red\", \"Big\", \"Tasty\"] , [\"Apple\", \"Banana\", \"Guava\"])"
   ]
  },
  {
   "cell_type": "code",
   "execution_count": 220,
   "id": "d80cf99a-cf8b-4d03-bb55-52c6f7c9a701",
   "metadata": {},
   "outputs": [
    {
     "name": "stdout",
     "output_type": "stream",
     "text": [
      "1900 is leap year\n",
      "1901 is not leap year\n",
      "2024 is leap year\n",
      "769 is not leap year\n"
     ]
    }
   ],
   "source": [
    "# To check the leap year.\n",
    "\n",
    "def leap_year(year):\n",
    "    \n",
    "    if year%4==0 :\n",
    "        print(year, \"is leap year\")\n",
    "    else:\n",
    "        print(year, \"is not leap year\")\n",
    "        \n",
    "leap_year(1900)\n",
    "leap_year(1901)\n",
    "leap_year(2024)\n",
    "leap_year(769)"
   ]
  },
  {
   "cell_type": "code",
   "execution_count": 5,
   "id": "7d931560-a6ca-48d5-a46b-3fd29e16f05e",
   "metadata": {},
   "outputs": [
    {
     "name": "stdout",
     "output_type": "stream",
     "text": [
      "'S' is a consonent\n",
      "'r' is a consonent\n",
      "'i' is a vowel\n",
      "'n' is a consonent\n",
      "'a' is a vowel\n",
      "'t' is a consonent\n",
      "'h' is a consonent\n"
     ]
    }
   ],
   "source": [
    "# To find Vowels and Consonents from user input string.\n",
    "\n",
    "def vowel_consonent(name):\n",
    "\n",
    "    vowels=\"aeiouAEIOU\"\n",
    "    for i in name:\n",
    "        if i in vowels:\n",
    "            print(f\"'{i}' is a vowel\")\n",
    "        else:\n",
    "            print(f\"'{i}' is a consonent\")\n",
    "            \n",
    "vowel_consonent('Srinath')"
   ]
  },
  {
   "cell_type": "code",
   "execution_count": 19,
   "id": "67128cc5-29db-4fc5-8198-12e2561d8f32",
   "metadata": {},
   "outputs": [
    {
     "name": "stdout",
     "output_type": "stream",
     "text": [
      "Consonants are : Mrll Srnth Rddy\n",
      "Vowels are : aeaiae\n"
     ]
    }
   ],
   "source": [
    "# To store the vowels and consonents in a seperate variables and print them\n",
    "\n",
    "def vowels_consonents(string):\n",
    "\n",
    "    vowels=('aeiouAEIOU')\n",
    "    v =''\n",
    "    c=''  \n",
    "    for i in string:\n",
    "        if i in vowels:\n",
    "            v+= i\n",
    "        else:\n",
    "            c+= i        \n",
    "    print(f\"Consonants are : {c}\")\n",
    "    print(f\"Vowels are : {v}\")\n",
    "    \n",
    "vowels_consonents('Marella Srinath Reddy')"
   ]
  },
  {
   "cell_type": "code",
   "execution_count": 25,
   "id": "fcddcd5a-6151-450f-bb52-491a79ab73a2",
   "metadata": {},
   "outputs": [
    {
     "name": "stdout",
     "output_type": "stream",
     "text": [
      "[0, 1, 2, 3, 4, 5, 6, 7, 8, 9]\n"
     ]
    }
   ],
   "source": [
    "# Write a Python program to remove duplicates from a list.\n",
    "\n",
    "def duplicates(listt):\n",
    "\n",
    "    sett = set(listt)\n",
    "    list2 = list(sett)\n",
    "    print(list2)\n",
    "\n",
    "duplicates([2,3,4,5,6,5,3,4,5,6,7,8,9,5,3,4,5,6,8,0,1,1])"
   ]
  },
  {
   "cell_type": "code",
   "execution_count": 43,
   "id": "d985151b-f7a7-4467-98ff-22eb01bed727",
   "metadata": {},
   "outputs": [
    {
     "name": "stdout",
     "output_type": "stream",
     "text": [
      "MADAM is a palindrome\n",
      "Madam is not a palindrome\n"
     ]
    }
   ],
   "source": [
    "# Write a Python program to check if a string is a palindrome.\n",
    "\n",
    "def palindrome(name):\n",
    "    \n",
    "    reversed_str = name[::-1]\n",
    "    \n",
    "    if reversed_str == name:\n",
    "        print(f\"{name} is a palindrome\")\n",
    "    else :\n",
    "        print(f\"{name} is not a palindrome\")\n",
    "\n",
    "palindrome('MADAM')\n",
    "palindrome('Madam')"
   ]
  },
  {
   "cell_type": "code",
   "execution_count": 105,
   "id": "7ab24df4-6df9-4d5f-8ee5-e7f3170f3996",
   "metadata": {},
   "outputs": [
    {
     "name": "stdout",
     "output_type": "stream",
     "text": [
      "yddeR htanirS\n",
      "\n",
      "['Reddy', 'Srinath', 'Marella']\n",
      "['yddeR', 'htanirS', 'alleraM']\n",
      "alleraM\n",
      "htanirS\n",
      "yddeR\n"
     ]
    }
   ],
   "source": [
    "# Write a Python program to reverse a string.\n",
    "\n",
    "def reverse_string(name):\n",
    "    string_rev = name[::-1]\n",
    "    print(string_rev)\n",
    "reverse_string('\\nSrinath Reddy')\n",
    "\n",
    "def reverse_words(name): # To reverse the words\n",
    "    splitt = name.split()\n",
    "    name_rev=splitt[::-1]\n",
    "    print(name_rev)\n",
    "reverse_words('Marella Srinath Reddy')\n",
    "\n",
    "def reverse_words_values(name): # To reverse the words and the letters in the words\n",
    "    name_rev=name[::-1]\n",
    "    splitt=name_rev.split()\n",
    "    print(splitt)\n",
    "reverse_words_values('Marella Srinath Reddy')\n",
    "\n",
    "def abc(defg): # To reverse the string using for loop\n",
    "    splitttt=defg.split()\n",
    "    for i in splitttt:\n",
    "        rev=i [::-1] \n",
    "        print(rev)\n",
    "abc('Marella Srinath Reddy')"
   ]
  },
  {
   "cell_type": "code",
   "execution_count": 150,
   "id": "247d78e5-9e11-4839-933f-78e4f5e54823",
   "metadata": {},
   "outputs": [
    {
     "name": "stdout",
     "output_type": "stream",
     "text": [
      "The factorial of 6 is 2160\n"
     ]
    }
   ],
   "source": [
    "# Write a Python program to find the factorial of a number. \n",
    "\n",
    "def factorial_num(factorial, number) :\n",
    "\n",
    "    if number < 0:\n",
    "        print(\"Enter a postive number\")\n",
    "    else:\n",
    "     for i in range(1, number + 1):\n",
    "        factorial *= i\n",
    "     print(\"The factorial of\", number, \"is\", factorial)\n",
    "\n",
    "factorial_num(3,6)\n"
   ]
  },
  {
   "cell_type": "code",
   "execution_count": 252,
   "id": "55d82d2d-0621-40a9-b5ff-0e1dff22c74f",
   "metadata": {},
   "outputs": [
    {
     "name": "stdout",
     "output_type": "stream",
     "text": [
      "The largest value in the list is: 7\n",
      "The largest value in the list is: 7\n"
     ]
    }
   ],
   "source": [
    "# To find the largest number in the list.\n",
    "\n",
    "def largest_number(list):\n",
    "    largest = list1[0]\n",
    "    for x in list1:\n",
    "        if x > largest:\n",
    "            largest = x\n",
    "    print(\"The largest value in the list is:\", largest)\n",
    "largest_number([1, 2, 3, 9, 4, 5, 7])\n",
    "\n",
    "def large_num(List): # another method using max() method\n",
    "    large=max(List)\n",
    "    print(\"The largest value in the list is:\", large)\n",
    "large_num([1, 2, 3, 4, 5, 7])"
   ]
  },
  {
   "cell_type": "code",
   "execution_count": 254,
   "id": "36318a64-0c9b-401f-84f8-f6bdff2b199c",
   "metadata": {},
   "outputs": [
    {
     "name": "stdout",
     "output_type": "stream",
     "text": [
      "'2' appears 2 times\n",
      "'1' appears 1 times\n",
      "'3' appears 4 times\n",
      "'4' appears 3 times\n",
      "'8' appears 1 times\n",
      "'9' appears 2 times\n",
      "'6' appears 1 times\n",
      "'0' appears 2 times\n"
     ]
    }
   ],
   "source": [
    "# Write a Python program to count the frequency of each element in a list.\n",
    "\n",
    "def frequency_of_elements(list1):\n",
    "    frequency = {}\n",
    "    for element in list1:\n",
    "        if element in frequency:\n",
    "            frequency[element] += 1\n",
    "        else:\n",
    "            frequency[element] = 1\n",
    "    for element, count in frequency.items():\n",
    "        print(f\"'{element}' appears {count} times\")\n",
    "\n",
    "frequency_of_elements([2,1,3,4,8,3,9,3,4,6,9,0,2,3,4,0])"
   ]
  }
 ],
 "metadata": {
  "kernelspec": {
   "display_name": "Python 3 (ipykernel)",
   "language": "python",
   "name": "python3"
  },
  "language_info": {
   "codemirror_mode": {
    "name": "ipython",
    "version": 3
   },
   "file_extension": ".py",
   "mimetype": "text/x-python",
   "name": "python",
   "nbconvert_exporter": "python",
   "pygments_lexer": "ipython3",
   "version": "3.12.4"
  }
 },
 "nbformat": 4,
 "nbformat_minor": 5
}
