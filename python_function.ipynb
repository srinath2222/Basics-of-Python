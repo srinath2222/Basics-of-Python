{
 "cells": [
  {
   "cell_type": "markdown",
   "id": "b2367ef5-7d47-4e69-8a35-c173b1756dac",
   "metadata": {},
   "source": [
    "# Functions :"
   ]
  },
  {
   "cell_type": "code",
   "execution_count": 8,
   "id": "1afccc23-3349-49d3-9551-2316d84fc169",
   "metadata": {},
   "outputs": [],
   "source": [
    "# A function is a block of code which only runs when it is called.\n",
    "# You can pass data, known as parameters, into a function.\n",
    "# A function can return data as a result.\n",
    "\n",
    "# Creating a Function\n",
    "# In Python a function is defined using the def keyword:\n",
    "\n",
    "def my_function():\n",
    "  print(\"Hello from a function\")\n"
   ]
  },
  {
   "cell_type": "code",
   "execution_count": 20,
   "id": "03075425-f97f-47db-aff5-6a3cb7a2696d",
   "metadata": {},
   "outputs": [
    {
     "name": "stdout",
     "output_type": "stream",
     "text": [
      "Hello from a function\n"
     ]
    }
   ],
   "source": [
    "# Calling a Function\n",
    "# To call a function, use the function name followed by parenthesis:\n",
    "\n",
    "def my_function():\n",
    "    print(\"Hello from a function\")\n",
    "\n",
    "my_function()"
   ]
  },
  {
   "cell_type": "markdown",
   "id": "f86367e0-7d19-4363-85ec-f65b24b4ef7c",
   "metadata": {},
   "source": [
    "### Arguments -"
   ]
  },
  {
   "cell_type": "code",
   "execution_count": 23,
   "id": "500620fa-9b94-468d-9035-9be48d488f0c",
   "metadata": {},
   "outputs": [
    {
     "name": "stdout",
     "output_type": "stream",
     "text": [
      "Emil Refsnes\n",
      "Tobias Refsnes\n",
      "Linus Refsnes\n"
     ]
    }
   ],
   "source": [
    "# Information can be passed into functions as arguments.\n",
    "# Arguments are specified after the function name, inside the parentheses. You can add as many arguments as you want, just separate them with a comma.\n",
    "# The following example has a function with one argument (fname). When the function is called, we pass along a first name, which is used inside the function to print the full name:\n",
    "\n",
    "def my_function(fname):\n",
    "  print(fname + \" Refsnes\")\n",
    "\n",
    "my_function(\"Emil\")\n",
    "my_function(\"Tobias\")\n",
    "my_function(\"Linus\")"
   ]
  },
  {
   "cell_type": "markdown",
   "id": "a404be0e-be29-44bc-8d43-4f7c0a7e8636",
   "metadata": {},
   "source": [
    "### Parameters or Arguments -"
   ]
  },
  {
   "cell_type": "code",
   "execution_count": null,
   "id": "998551b3-4857-4099-98c4-f9410f4bed5c",
   "metadata": {},
   "outputs": [],
   "source": [
    "# The terms parameter and argument can be used for the same thing: information that are passed into a function.\n",
    "# From a function's perspective:\n",
    "# A parameter is the variable listed inside the parentheses in the function definition.\n",
    "# An argument is the value that is sent to the function when it is called."
   ]
  },
  {
   "cell_type": "code",
   "execution_count": 26,
   "id": "7db47bb8-d63d-409f-91f0-e24f18eff590",
   "metadata": {},
   "outputs": [
    {
     "name": "stdout",
     "output_type": "stream",
     "text": [
      "Emil Refsnes\n"
     ]
    }
   ],
   "source": [
    "# giving more than '1' arguments.\n",
    "\n",
    "def my_function(fname, lname):\n",
    "  print(fname + \" \" + lname)\n",
    "\n",
    "my_function(\"Emil\", \"Refsnes\")"
   ]
  },
  {
   "cell_type": "code",
   "execution_count": null,
   "id": "c700edbc-0dcf-43fc-b382-13ae20746c2a",
   "metadata": {},
   "outputs": [],
   "source": [
    "# If you try to call the function with 1 or 3 arguments, you will get an error:\n",
    "# This function expects 2 arguments, but gets only 1:\n",
    "\n",
    "def my_function(fname, lname):\n",
    "  print(fname + \" \" + lname)\n",
    "\n",
    "my_function(\"Emil\")  # Error will rise"
   ]
  },
  {
   "cell_type": "markdown",
   "id": "56f38d19-d600-4296-958b-1c3eca8833b1",
   "metadata": {},
   "source": [
    "### Arbitrary Arguments, *args -"
   ]
  },
  {
   "cell_type": "code",
   "execution_count": 33,
   "id": "c4c80bc2-a71f-493a-b433-6bf82eb8cc5b",
   "metadata": {},
   "outputs": [
    {
     "name": "stdout",
     "output_type": "stream",
     "text": [
      "The youngest child is Linus\n"
     ]
    }
   ],
   "source": [
    "# If you do not know how many arguments that will be passed into your function, add a * before the parameter name in the function definition.\n",
    "# This way the function will receive a tuple of arguments, and can access the items accordingly:\n",
    "# If the number of arguments is unknown, add a * before the parameter name:\n",
    "\n",
    "def my_function(*kids):\n",
    "  print(\"The youngest child is \" + kids[2])\n",
    "\n",
    "my_function(\"Emil\", \"Tobias\", \"Linus\")"
   ]
  },
  {
   "cell_type": "markdown",
   "id": "0d71a817-e337-4af4-af1e-22883e2c6e53",
   "metadata": {},
   "source": [
    "### Keyword Arguments - "
   ]
  },
  {
   "cell_type": "code",
   "execution_count": 36,
   "id": "ffb632f0-b5d7-4c9f-bb42-0e9165d85bef",
   "metadata": {},
   "outputs": [
    {
     "name": "stdout",
     "output_type": "stream",
     "text": [
      "The youngest child is Linus\n"
     ]
    }
   ],
   "source": [
    "# You can also send arguments with the key = value syntax.\n",
    "# This way the order of the arguments does not matter.\n",
    "\n",
    "def my_function(child3, child2, child1):\n",
    "  print(\"The youngest child is \" + child3)\n",
    "\n",
    "my_function(child1 = \"Emil\", child2 = \"Tobias\", child3 = \"Linus\")"
   ]
  },
  {
   "cell_type": "markdown",
   "id": "b51dc22e-5fed-4d21-a24d-7663eaa034cf",
   "metadata": {},
   "source": [
    "### Arbitrary Keyword Arguments, **kwargs -"
   ]
  },
  {
   "cell_type": "code",
   "execution_count": 39,
   "id": "75d3bf06-1748-4a17-828d-878751f9dba0",
   "metadata": {},
   "outputs": [
    {
     "name": "stdout",
     "output_type": "stream",
     "text": [
      "His last name is Refsnes\n"
     ]
    }
   ],
   "source": [
    "# If you do not know how many keyword arguments that will be passed into your function, add two asterisk: ** before the parameter name in the function definition.\n",
    "# This way the function will receive a dictionary of arguments, and can access the items accordingly:\n",
    "# If the number of keyword arguments is unknown, add a double ** before the parameter name:\n",
    "\n",
    "def my_function(**kid):\n",
    "  print(\"His last name is \" + kid[\"lname\"])\n",
    "\n",
    "my_function(fname = \"Tobias\", lname = \"Refsnes\")\n"
   ]
  },
  {
   "cell_type": "markdown",
   "id": "b89787b1-6088-4d19-b303-50051ca442b3",
   "metadata": {},
   "source": [
    "### Default Parameter Value -"
   ]
  },
  {
   "cell_type": "code",
   "execution_count": 44,
   "id": "956355a1-08f7-4104-8722-a862586af021",
   "metadata": {},
   "outputs": [
    {
     "name": "stdout",
     "output_type": "stream",
     "text": [
      "I am from Sweden\n",
      "I am from India\n",
      "I am from Norway\n",
      "I am from Brazil\n",
      "I am from Norway\n"
     ]
    }
   ],
   "source": [
    "# The following example shows how to use a default parameter value.\n",
    "# If we call the function without argument, it uses the default value:\n",
    "\n",
    "def my_function(country = \"Norway\"):\n",
    "  print(\"I am from \" + country)\n",
    "\n",
    "my_function(\"Sweden\")\n",
    "my_function(\"India\")\n",
    "my_function()\n",
    "my_function(\"Brazil\")\n",
    "my_function()"
   ]
  },
  {
   "cell_type": "markdown",
   "id": "df7c0b6f-e2d4-4a7f-9387-aac3a3138bc6",
   "metadata": {},
   "source": [
    "### Passing a List as an Argument -"
   ]
  },
  {
   "cell_type": "code",
   "execution_count": 47,
   "id": "414c8ba9-100d-42d5-ba1b-a5e599caa361",
   "metadata": {},
   "outputs": [
    {
     "name": "stdout",
     "output_type": "stream",
     "text": [
      "apple\n",
      "banana\n",
      "cherry\n"
     ]
    }
   ],
   "source": [
    "# You can send any data types of argument to a function (string, number, list, dictionary etc.), \n",
    "# and it will be treated as the same data type inside the function.\n",
    "# if you send a List as an argument, it will still be a List when it reaches the function:\n",
    "\n",
    "def my_function(food):\n",
    "  for x in food:\n",
    "    print(x)\n",
    "\n",
    "fruits = [\"apple\", \"banana\", \"cherry\"]\n",
    "\n",
    "my_function(fruits)"
   ]
  },
  {
   "cell_type": "markdown",
   "id": "3c0b4f92-d772-4091-914f-cddaed8bc497",
   "metadata": {},
   "source": [
    "### Return Values -"
   ]
  },
  {
   "cell_type": "code",
   "execution_count": 54,
   "id": "00f9b432-152b-4735-8da0-3ee181bb4d4f",
   "metadata": {},
   "outputs": [
    {
     "name": "stdout",
     "output_type": "stream",
     "text": [
      "15\n",
      "25\n",
      "45\n"
     ]
    }
   ],
   "source": [
    "# To let a function return a value, use the return statement:\n",
    "\n",
    "def my_function(x):\n",
    "  return 5 * x\n",
    "\n",
    "print(my_function(3))\n",
    "print(my_function(5))\n",
    "print(my_function(9))"
   ]
  },
  {
   "cell_type": "markdown",
   "id": "984c566d-9996-4dd0-8dc3-9d2144b7cd7d",
   "metadata": {},
   "source": [
    "### The pass Statement -"
   ]
  },
  {
   "cell_type": "code",
   "execution_count": 59,
   "id": "4ca56aa8-9e4f-463b-a2bf-9d2004d672d7",
   "metadata": {},
   "outputs": [],
   "source": [
    "# put the pass statement to avoid getting an error.\n",
    "\n",
    "def myfunction():\n",
    "  pass"
   ]
  },
  {
   "cell_type": "markdown",
   "id": "c1d0e7da-98a7-4025-9bac-1f0cc29e3d39",
   "metadata": {},
   "source": [
    "### Positional-Only Arguments -"
   ]
  },
  {
   "cell_type": "code",
   "execution_count": 66,
   "id": "a703bc01-fd71-4a43-90db-a30b6a766cab",
   "metadata": {},
   "outputs": [
    {
     "name": "stdout",
     "output_type": "stream",
     "text": [
      "3\n"
     ]
    }
   ],
   "source": [
    "# You can specify that a function can have ONLY positional arguments, or ONLY keyword arguments.\n",
    "# To specify that a function can have only positional arguments, add , / after the arguments:\n",
    "\n",
    "def my_function(x, /):\n",
    "  print(x)\n",
    "\n",
    "my_function(3)"
   ]
  },
  {
   "cell_type": "markdown",
   "id": "ddb6be1f-11d6-4c7c-b672-3c65ce32e580",
   "metadata": {},
   "source": [
    "### Recursion -"
   ]
  },
  {
   "cell_type": "code",
   "execution_count": 3,
   "id": "f07994af-b4f0-4420-a29c-5c412a70c608",
   "metadata": {},
   "outputs": [
    {
     "name": "stdout",
     "output_type": "stream",
     "text": [
      "\n",
      "Recursion Example Results\n",
      "1\n",
      "3\n",
      "6\n",
      "10\n",
      "15\n",
      "21\n",
      "28\n",
      "36\n"
     ]
    },
    {
     "data": {
      "text/plain": [
       "36"
      ]
     },
     "execution_count": 3,
     "metadata": {},
     "output_type": "execute_result"
    }
   ],
   "source": [
    "'''\n",
    "Python also accepts function recursion, which means a defined function can call itself.\n",
    "Recursion is a common mathematical and programming concept. It means that a function calls itself. \n",
    "This has the benefit of meaning that you can loop through data to reach a result.\n",
    "The developer should be very careful with recursion as it can be quite easy to slip into writing a function which never terminates, or one that uses excess amounts of memory or processor power. \n",
    "However, when written correctly recursion can be a very efficient and mathematically-elegant approach to programming.\n",
    "In this example, tri_recursion() is a function that we have defined to call itself (\"recurse\"). \n",
    "We use the k variable as the data, which decrements (-1) every time we recurse. \n",
    "The recursion ends when the condition is not greater than 0 (i.e. when it is 0).\n",
    "To a new developer it can take some time to work out how exactly this works, best way to find out is by testing and modifying it.\n",
    "\n",
    "'''\n",
    "\n",
    "def tri_recursion(k):\n",
    "  if(k > 0):\n",
    "    result = k + tri_recursion(k - 1)\n",
    "    print(result)\n",
    "  else:\n",
    "    result = 0\n",
    "  return result\n",
    "\n",
    "print(\"\\nRecursion Example Results\")\n",
    "tri_recursion(8)"
   ]
  }
 ],
 "metadata": {
  "kernelspec": {
   "display_name": "Python 3 (ipykernel)",
   "language": "python",
   "name": "python3"
  },
  "language_info": {
   "codemirror_mode": {
    "name": "ipython",
    "version": 3
   },
   "file_extension": ".py",
   "mimetype": "text/x-python",
   "name": "python",
   "nbconvert_exporter": "python",
   "pygments_lexer": "ipython3",
   "version": "3.12.4"
  }
 },
 "nbformat": 4,
 "nbformat_minor": 5
}
