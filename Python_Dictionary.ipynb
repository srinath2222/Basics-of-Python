{
 "cells": [
  {
   "cell_type": "markdown",
   "id": "d832ad8d-a54e-483d-b945-d511b2089ecd",
   "metadata": {},
   "source": [
    "# Dictionary -"
   ]
  },
  {
   "cell_type": "code",
   "execution_count": 23,
   "id": "12400a7d-59c5-4c48-9037-e1d7ef3080c4",
   "metadata": {},
   "outputs": [
    {
     "name": "stdout",
     "output_type": "stream",
     "text": [
      "{}\n",
      "{'name': 'Marella Srinath Reddy', 'age': 22, 'percent': 85}\n",
      "<class 'dict'>\n",
      "{'name': 'Marella Srinath Reddy', 'age': 22, 'percents': [97, 83.84, 85]}\n",
      "<class 'dict'>\n"
     ]
    }
   ],
   "source": [
    "# A dictionary is a data structure that allows you to store and retrieve data in a key-value pair format. curly '{}' braces are used to represent the dictionary.\n",
    "\n",
    "#Examples for dictionary\n",
    "emt_dict={} # Empty dictionary\n",
    "My_dict={'name':'Marella Srinath Reddy','age':22,'percent':85} # name - key & Marella Srinath Reddy - value (key:value = item)\n",
    "print(emt_dict,My_dict,type(My_dict),sep='\\n')\n",
    "\n",
    "#Examples for mixed datatype\n",
    "Mixed_dict={'name':'Marella Srinath Reddy','age':22,'percents':[97,83.84,85]} # here '[97,83.84,85]' is a list datatype.\n",
    "print(Mixed_dict,type(Mixed_dict),sep='\\n')"
   ]
  },
  {
   "cell_type": "markdown",
   "id": "2fb3df86-605a-47a3-b881-0cc999cfea72",
   "metadata": {},
   "source": [
    "### Accessing dictionary -"
   ]
  },
  {
   "cell_type": "code",
   "execution_count": 25,
   "id": "ce1488b9-0a35-40fb-87f7-a131b03b26c0",
   "metadata": {},
   "outputs": [
    {
     "name": "stdout",
     "output_type": "stream",
     "text": [
      "red\n",
      "green\n",
      "John\n",
      "25\n",
      "IT\n"
     ]
    }
   ],
   "source": [
    "# We can access the value in a dictionary using the keys.\n",
    "\n",
    "#Examples for accessing dictionary and nested dictionary\n",
    "\n",
    "fruits_colours = {\n",
    "    \"apple\": 'red',\n",
    "    \"guava\": 'green',\n",
    "    \"grape\": 'green'\n",
    "}\n",
    "\n",
    "employees = {\n",
    "    \"emp1\": {\"name\": \"John\", \"age\": 30, \"department\": \"HR\"},\n",
    "    \"emp2\": {\"name\": \"Jane\", \"age\": 25, \"department\": \"Finance\"},\n",
    "    \"emp3\": {\"name\": \"Jake\", \"age\": 35, \"department\": \"IT\"}\n",
    "}\n",
    "\n",
    "#Accessing a dictionary\n",
    "print(fruits_colours[\"apple\"],fruits_colours[\"grape\"],sep='\\n')\n",
    "\n",
    "# Accessing nested dictionary values\n",
    "print(employees[\"emp1\"][\"name\"],employees[\"emp2\"][\"age\"],employees[\"emp3\"][\"department\"],sep='\\n')"
   ]
  },
  {
   "cell_type": "markdown",
   "id": "809f4a56-579c-4662-a300-f46d1e2e9800",
   "metadata": {},
   "source": [
    "### Modifying an adding entries -"
   ]
  },
  {
   "cell_type": "code",
   "execution_count": 44,
   "id": "03f3de63-a94d-4cf9-9f5d-b90e303d6a77",
   "metadata": {},
   "outputs": [
    {
     "name": "stdout",
     "output_type": "stream",
     "text": [
      "{'apple': 'green', 'guava': 'green', 'grape': 'green', 'Orange': 'orange'}\n",
      "{'emp1': {'name': 'John', 'age': 30, 'department': 'HR'}, 'emp2': {'name': 'Jane', 'age': 25, 'department': 'Marketing'}, 'emp3': {'name': 'Jake', 'age': 35, 'department': 'IT'}, 'emp4': {'name': 'Jonathan', 'age': 29, 'department': 'Sales'}}\n"
     ]
    }
   ],
   "source": [
    "# Updating a value in a dictionary\n",
    "fruits_colours[\"apple\"]=\"green\"\n",
    "# Adding a new value in a dictionary\n",
    "fruits_colours[\"Orange\"]=\"orange\"\n",
    "\n",
    "print(fruits_colours)\n",
    "\n",
    "# Updating a value in a nested dictionary\n",
    "employees[\"emp2\"][\"department\"]=\"Marketing\"\n",
    "# Adding a new employee\n",
    "employees[\"emp4\"] = {\"name\": \"Jonathan\", \"age\": 29, \"department\": \"Sales\"}\n",
    "\n",
    "print(employees)"
   ]
  },
  {
   "cell_type": "markdown",
   "id": "449e2018-2e3e-47da-b762-e7c1d7c2bcb7",
   "metadata": {},
   "source": [
    "### Dictionary Methods -"
   ]
  },
  {
   "cell_type": "code",
   "execution_count": 65,
   "id": "fe04d1c5-0826-4e11-9653-36fe9a93578a",
   "metadata": {},
   "outputs": [
    {
     "name": "stdout",
     "output_type": "stream",
     "text": [
      "None\n",
      "26\n",
      "50K\n"
     ]
    }
   ],
   "source": [
    "# 1. get() - returns the value for a specific key.\n",
    "\n",
    "#Examples for get() method\n",
    "Teks_academy_tutors={\n",
    "    \"Vamsi\":{\"Course\": \"Data Science\", \"age\":25, \"salary\": \"35K\"},\n",
    "    \"Swayam\":{\"Course\":\"Python Full Stack\",\"age\":26,\"salary\":\"34K\"},\n",
    "    \"Unknown\":{\"Course\":\"Java Full Stack\",\"age\":30,\"salary\":\"50K\"}\n",
    "}\n",
    "\n",
    "print(Teks_academy_tutors[\"Vamsi\"].get(\" Course\"),Teks_academy_tutors[\"Swayam\"].get(\"age\"),Teks_academy_tutors[\"Unknown\"].get(\"salary\"),sep='\\n')"
   ]
  },
  {
   "cell_type": "code",
   "execution_count": 79,
   "id": "78284a79-289c-4f7c-9abc-d0285d61463c",
   "metadata": {},
   "outputs": [
    {
     "name": "stdout",
     "output_type": "stream",
     "text": [
      "dict_keys(['Vamsi', 'Swayam', 'Unknown'])\n",
      "dict_keys(['Course', 'age', 'salary'])\n",
      "dict_keys(['Course', 'age', 'salary'])\n",
      "dict_keys(['Course', 'age', 'salary'])\n"
     ]
    }
   ],
   "source": [
    "# 2. keys() - returns a view of all the keys in the dictionary.\n",
    "\n",
    "#Examples for keys() method\n",
    "print(Teks_academy_tutors.keys())\n",
    "print(Teks_academy_tutors[\"Vamsi\"].keys(), Teks_academy_tutors[\"Swayam\"].keys(), Teks_academy_tutors[\"Unknown\"].keys(),sep='\\n')"
   ]
  },
  {
   "cell_type": "code",
   "execution_count": 81,
   "id": "47cea3d6-ff37-4f9c-881f-6f62ccf6701d",
   "metadata": {},
   "outputs": [
    {
     "name": "stdout",
     "output_type": "stream",
     "text": [
      "dict_values([{'Course': 'Data Science', 'age': 25, 'salary': '35K'}, {'Course': 'Python Full Stack', 'age': 26, 'salary': '34K'}, {'Course': 'Java Full Stack', 'age': 30, 'salary': '50K'}])\n",
      "dict_values(['Data Science', 25, '35K'])\n",
      "dict_values(['Python Full Stack', 26, '34K'])\n",
      "dict_values(['Java Full Stack', 30, '50K'])\n"
     ]
    }
   ],
   "source": [
    "# 3. values() - returns a view of all the values in the dictionary.\n",
    "\n",
    "#Examples for values() method\n",
    "print(Teks_academy_tutors.values())\n",
    "print(Teks_academy_tutors[\"Vamsi\"].values(), Teks_academy_tutors[\"Swayam\"].values(), Teks_academy_tutors[\"Unknown\"].values(),sep='\\n')"
   ]
  },
  {
   "cell_type": "code",
   "execution_count": 87,
   "id": "ac45671f-4d6b-4951-ab7d-686ef3f90cf4",
   "metadata": {},
   "outputs": [
    {
     "name": "stdout",
     "output_type": "stream",
     "text": [
      "dict_items([('Vamsi', {'Course': 'Data Science', 'age': 25, 'salary': '35K'}), ('Swayam', {'Course': 'Python Full Stack', 'age': 26, 'salary': '34K'}), ('Unknown', {'Course': 'Java Full Stack', 'age': 30, 'salary': '50K'})])\n",
      "dict_items([('Course', 'Data Science'), ('age', 25), ('salary', '35K')])\n",
      "dict_items([('Course', 'Python Full Stack'), ('age', 26), ('salary', '34K')])\n",
      "dict_items([('Course', 'Java Full Stack'), ('age', 30), ('salary', '50K')])\n"
     ]
    }
   ],
   "source": [
    "# 4.items() - returns a view of all the items in the dictionary.\n",
    "\n",
    "#Examples for items() method\n",
    "print(Teks_academy_tutors.items())\n",
    "print(Teks_academy_tutors[\"Vamsi\"].items(), Teks_academy_tutors[\"Swayam\"].items(), Teks_academy_tutors[\"Unknown\"].items(),sep='\\n')"
   ]
  },
  {
   "cell_type": "code",
   "execution_count": 43,
   "id": "636f04f9-c241-4c3e-bc63-a0ec572a46e2",
   "metadata": {},
   "outputs": [
    {
     "name": "stdout",
     "output_type": "stream",
     "text": [
      "{'age': 25, 'salary': '35K', 'shift': 'Morning'}\n",
      "Evening\n",
      "50K\n",
      "{'Rani': {'age': 26, 'salary': '34K'}, 'Ravi': {'age': 30, 'shift': 'Afternoon'}}\n"
     ]
    }
   ],
   "source": [
    "# 5.pop() - removes and returns the value for a specified key\n",
    "\n",
    "#Examples for pop() method\n",
    "Teks_academy_counsellors={\n",
    "    \"Radha\":{\"age\":25, \"salary\": \"35K\",\"shift\":\"Morning\"},\n",
    "    \"Rani\":{\"age\":26,\"salary\":\"34K\",\"shift\":\"Evening\"},\n",
    "    \"Ravi\":{\"age\":30,\"salary\":\"50K\",\"shift\":\"Afternoon\"}\n",
    "}\n",
    "\n",
    "print(Teks_academy_counsellors.pop(\"Radha\"))\n",
    "print(Teks_academy_counsellors[\"Rani\"].pop(\"shift\"))\n",
    "print(Teks_academy_counsellors[\"Ravi\"].pop(\"salary\"))\n",
    "\n",
    "print(Teks_academy_counsellors)"
   ]
  },
  {
   "cell_type": "code",
   "execution_count": 49,
   "id": "cc2cbdd5-3d29-4129-a6d2-0f0c7be63c7b",
   "metadata": {},
   "outputs": [
    {
     "name": "stdout",
     "output_type": "stream",
     "text": [
      "('Praksah', {'age': 32, 'salary': '50K', 'shift': 'Afternoon'})\n",
      "('shift', 'Morning')\n",
      "('shift', 'Afternoon')\n",
      "{'Srinath': {'age': 26, 'salary': '55K'}, 'Ajay': {'age': 28, 'salary': '45K'}}\n"
     ]
    }
   ],
   "source": [
    "# 6.popitems() - removes and returns the last inserted key-value pair.\n",
    "Teks_academy_counsellors1={\n",
    "    \"Srinath\":{\"age\":26, \"salary\": \"55K\",\"shift\":\"Afternoon\"},\n",
    "    \"Ajay\":{\"age\":28,\"salary\":\"45K\",\"shift\":\"Morning\"},\n",
    "    \"Praksah\":{\"age\":32,\"salary\":\"50K\",\"shift\":\"Afternoon\"}\n",
    "}\n",
    "\n",
    "#Examples for popitems() method\n",
    "print(Teks_academy_counsellors1.popitem())\n",
    "print(Teks_academy_counsellors1[\"Ajay\"].popitem())\n",
    "print(Teks_academy_counsellors1[\"Srinath\"].popitem())\n",
    "\n",
    "print(Teks_academy_counsellors1)"
   ]
  },
  {
   "cell_type": "code",
   "execution_count": 75,
   "id": "eb633816-18c2-4f5d-a35d-2a672dd9358e",
   "metadata": {},
   "outputs": [
    {
     "name": "stdout",
     "output_type": "stream",
     "text": [
      "{'Srinath': {'age': 26, 'salary': '55K'}, 'Ajay': {'age': 28, 'salary': '45K'}, 'Mahesh': {'age': 26, 'salary': '55K', 'shift': 'Afternoon'}, 'Ganesh': {'age': 26, 'salary': '55K', 'shift': 'Afternoon'}}\n"
     ]
    }
   ],
   "source": [
    "# 7.update() - updates the dictionary with elements from another dictionary or from an iterable  of key-value pairs.\n",
    "\n",
    "#Examples for update() method\n",
    "new_counsellors={\n",
    "    \"Mahesh\":{\"age\":26, \"salary\": \"55K\",\"shift\":\"Afternoon\"},\n",
    "    \"Ganesh\":{\"age\":26, \"salary\": \"55K\",\"shift\":\"Afternoon\"}\n",
    "}\n",
    "\n",
    "Teks_academy_counsellors1.update(new_counsellors)\n",
    "print(Teks_academy_counsellors1)"
   ]
  },
  {
   "cell_type": "code",
   "execution_count": 94,
   "id": "397d6a0a-13c9-4dbb-a8a5-438af78cc502",
   "metadata": {},
   "outputs": [
    {
     "name": "stdout",
     "output_type": "stream",
     "text": [
      "{}\n"
     ]
    }
   ],
   "source": [
    "# 8.clear() - clear/removes everything in dictionary\n",
    "\n",
    "#Examples for clear() method\n",
    "new_employee={\n",
    "    \"Branch\":\"Hi-Tech City\",\n",
    "    \"Name\":\"Sudha raman\",\n",
    "    \"Joining Date\":\"10-08-2024\"\n",
    "}\n",
    "\n",
    "new_employee.clear() #makes set empty\n",
    "print(new_employee)"
   ]
  },
  {
   "cell_type": "code",
   "execution_count": 106,
   "id": "9cde0202-b750-4507-903e-7ae8181ba582",
   "metadata": {},
   "outputs": [
    {
     "name": "stdout",
     "output_type": "stream",
     "text": [
      "{'Bike': 'GT 650', 'Car': 'Morris Garages(MG)', 'Bus': 'Volvo'}\n",
      "{'Bike': 'GT 650', 'Car': 'Morris Garages(MG)', 'Bus': 'Volvo'}\n"
     ]
    }
   ],
   "source": [
    "# 9.copy() - copies the set into another set.\n",
    "\n",
    "#Examples for copy() method\n",
    "Auto_mobiles={\n",
    "    \"Bike\":\"GT 650\",\n",
    "    \"Car\":\"Morris Garages(MG)\",\n",
    "    \"Bus\":\"Volvo\"\n",
    "}\n",
    "b=20\n",
    "Vehicles=Auto_mobiles.copy()\n",
    "print(Vehicles,Auto_mobiles,sep='\\n')"
   ]
  },
  {
   "cell_type": "code",
   "execution_count": 150,
   "id": "e2f7b4f1-569f-49ae-af1b-1a4055965784",
   "metadata": {},
   "outputs": [
    {
     "name": "stdout",
     "output_type": "stream",
     "text": [
      "{2: 22, 3: 22, 4: 22, 5: 22, 6: 22}\n",
      "{'one': 'NO DATA', 'two': 'NO DATA', 'three': 'NO DATA', 'four': 'NO DATA', 'five': 'NO DATA'}\n",
      "{2.6: {'floats', 'float'}, 3.7: {'floats', 'float'}, 4.7: {'floats', 'float'}, 5.4: {'floats', 'float'}, 6.9: {'floats', 'float'}}\n",
      "{'Bike': None, 'Car': None, 'Bus': None}\n",
      "{'Bike': {'Bike': 'GT 650', 'Car': 'Morris Garages(MG)', 'Bus': 'Volvo'}, 'Car': {'Bike': 'GT 650', 'Car': 'Morris Garages(MG)', 'Bus': 'Volvo'}, 'Bus': {'Bike': 'GT 650', 'Car': 'Morris Garages(MG)', 'Bus': 'Volvo'}}\n"
     ]
    }
   ],
   "source": [
    "# 10.fromkeys() - returns a dictionary with the specified keys and the specified value\n",
    "\n",
    "#Examples for fromkeys() method from tuple to dictionary \n",
    "not_dictionary=(2,3,4,5,6)\n",
    "value=22\n",
    "print(dict.fromkeys(not_dictionary,value))\n",
    "\n",
    "#Examples for fromkeys() method from list to dictionary \n",
    "not_dictionary1=[\"one\",\"two\",\"three\",\"four\",\"five\"]\n",
    "value1= \"NO DATA\"\n",
    "print(dict.fromkeys(not_dictionary1,value1))\n",
    "\n",
    "#Examples for fromkeys() method from dictionary to dictionary \n",
    "not_dictionary2={2.6,3.7,4.7,5.4,6.9}\n",
    "value2={\"float\",\"floats\"}\n",
    "print(dict.fromkeys(not_dictionary2,value2))\n",
    "\n",
    "#Another example \n",
    "print(dict.fromkeys(Auto_mobiles))\n",
    "print(dict.fromkeys(Auto_mobiles,b))"
   ]
  },
  {
   "cell_type": "code",
   "execution_count": 166,
   "id": "ab20e752-294c-4372-b978-9fc679f215c1",
   "metadata": {},
   "outputs": [
    {
     "name": "stdout",
     "output_type": "stream",
     "text": [
      "Bharat-Benz\n",
      "{'Bike': 'GT 650', 'Car': 'Morris Garages(MG)', 'Bus': 'Volvo', 'Heavy-duty Lorry': 'Bharat-Benz'}\n",
      "GT 650\n",
      "{'Bike': 'GT 650', 'Car': 'Morris Garages(MG)', 'Bus': 'Volvo', 'Heavy-duty Lorry': 'Bharat-Benz'}\n"
     ]
    }
   ],
   "source": [
    "# 11. setdefault() - returns the value of the item with the specified key. If the key does not exists, inserts the key with the specified value.\n",
    "\n",
    "#Examples for setdefault() method\n",
    "Auto_mobiless={\n",
    "    \"Bike\": \"GT 650\",\n",
    "    \"Car\": \"Morris Garages(MG)\",\n",
    "    \"Bus\": \"Volvo\"\n",
    "}\n",
    "\n",
    "default=Auto_mobiless.setdefault(\"Heavy-duty Lorry\",\"Bharat-Benz\")\n",
    "print(default)\n",
    "print(Auto_mobiless)\n",
    "\n",
    "default1=Auto_mobiless.setdefault(\"Bike\", \"GT 650\")\n",
    "print(default1)\n",
    "print(Auto_mobiless)"
   ]
  }
 ],
 "metadata": {
  "kernelspec": {
   "display_name": "Python 3 (ipykernel)",
   "language": "python",
   "name": "python3"
  },
  "language_info": {
   "codemirror_mode": {
    "name": "ipython",
    "version": 3
   },
   "file_extension": ".py",
   "mimetype": "text/x-python",
   "name": "python",
   "nbconvert_exporter": "python",
   "pygments_lexer": "ipython3",
   "version": "3.12.4"
  }
 },
 "nbformat": 4,
 "nbformat_minor": 5
}
