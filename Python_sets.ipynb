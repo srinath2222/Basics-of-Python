{
 "cells": [
  {
   "cell_type": "markdown",
   "id": "ee5111a6-2af7-4b70-8f69-d4a1ecda3e64",
   "metadata": {},
   "source": [
    "# Sets -"
   ]
  },
  {
   "cell_type": "code",
   "execution_count": 174,
   "id": "79f9e5a8-1737-4b04-9b56-e427a5582c47",
   "metadata": {},
   "outputs": [
    {
     "ename": "NameError",
     "evalue": "name 'sett' is not defined",
     "output_type": "error",
     "traceback": [
      "\u001b[1;31m---------------------------------------------------------------------------\u001b[0m",
      "\u001b[1;31mNameError\u001b[0m                                 Traceback (most recent call last)",
      "Cell \u001b[1;32mIn[174], line 5\u001b[0m\n\u001b[0;32m      1\u001b[0m \u001b[38;5;66;03m# A set is a collection of unique elements. The set is unordered, immutable, and does not allow duplicate elements. set does not work on index numbers.\u001b[39;00m\n\u001b[0;32m      2\u001b[0m \n\u001b[0;32m      3\u001b[0m \u001b[38;5;66;03m#Creating a set\u001b[39;00m\n\u001b[0;32m      4\u001b[0m my_sett\u001b[38;5;241m=\u001b[39m{\u001b[38;5;124m'\u001b[39m\u001b[38;5;124melement1\u001b[39m\u001b[38;5;124m'\u001b[39m,\u001b[38;5;124m'\u001b[39m\u001b[38;5;124melement2\u001b[39m\u001b[38;5;124m'\u001b[39m,\u001b[38;5;124m'\u001b[39m\u001b[38;5;124melement3\u001b[39m\u001b[38;5;124m'\u001b[39m,\u001b[38;5;124m'\u001b[39m\u001b[38;5;124melement4\u001b[39m\u001b[38;5;124m'\u001b[39m}\n\u001b[1;32m----> 5\u001b[0m \u001b[38;5;28mprint\u001b[39m(sett,\u001b[38;5;28mtype\u001b[39m(my_sett),sep\u001b[38;5;241m=\u001b[39m\u001b[38;5;124m'\u001b[39m\u001b[38;5;130;01m\\n\u001b[39;00m\u001b[38;5;124m'\u001b[39m)\n\u001b[0;32m      7\u001b[0m \u001b[38;5;66;03m#converting a list into a set\u001b[39;00m\n\u001b[0;32m      8\u001b[0m \u001b[38;5;66;03m#list_to_set=set([1,2,3,4,5])\u001b[39;00m\n\u001b[0;32m      9\u001b[0m \u001b[38;5;66;03m#print(list_to_set)\u001b[39;00m\n\u001b[0;32m     10\u001b[0m \n\u001b[0;32m     11\u001b[0m \u001b[38;5;66;03m#Duplicate items in a set\u001b[39;00m\n\u001b[0;32m     12\u001b[0m num_set\u001b[38;5;241m=\u001b[39m{\u001b[38;5;241m4\u001b[39m,\u001b[38;5;241m2\u001b[39m,\u001b[38;5;241m6\u001b[39m,\u001b[38;5;241m7\u001b[39m,\u001b[38;5;241m3\u001b[39m,\u001b[38;5;241m4\u001b[39m,\u001b[38;5;241m3\u001b[39m,\u001b[38;5;241m6\u001b[39m,\u001b[38;5;241m8\u001b[39m,\u001b[38;5;241m4\u001b[39m,\u001b[38;5;241m1\u001b[39m,\u001b[38;5;241m2\u001b[39m,\u001b[38;5;241m4\u001b[39m,\u001b[38;5;241m8\u001b[39m,\u001b[38;5;241m9\u001b[39m}\n",
      "\u001b[1;31mNameError\u001b[0m: name 'sett' is not defined"
     ]
    }
   ],
   "source": [
    "# A set is a collection of unique elements. The set is unordered, immutable, and does not allow duplicate elements. set does not work on index numbers.\n",
    "\n",
    "#Creating a set\n",
    "my_sett={'element1','element2','element3','element4'}\n",
    "print(sett,type(my_sett),sep='\\n')\n",
    "\n",
    "#converting a list into a set\n",
    "#list_to_set=set([1,2,3,4,5])\n",
    "#print(list_to_set)\n",
    "\n",
    "#Duplicate items in a set\n",
    "num_set={4,2,6,7,3,4,3,6,8,4,1,2,4,8,9}\n",
    "print(num_set)\n",
    "\n",
    "str_set={'ball','Ball','bat','bat','field','stumps','wickets'}\n",
    "print(str_set)"
   ]
  },
  {
   "cell_type": "markdown",
   "id": "fa6e67aa-b124-4062-b46b-f0fa03ab4859",
   "metadata": {},
   "source": [
    "### Add and Update set items -"
   ]
  },
  {
   "cell_type": "code",
   "execution_count": 177,
   "id": "192637a2-8084-415b-8bb3-32bd2fea39db",
   "metadata": {},
   "outputs": [
    {
     "name": "stdout",
     "output_type": "stream",
     "text": [
      "{0, 1, 288, 3, 4, 5, 7, 9, 12}\n",
      "{'mno', 'def', 'abc', 'gkl', 'ghi', 'xyz'}\n",
      "{2.2, 4.4, 5.5, 7.7, 88.99, 9.9, 9.0}\n",
      "{True, 'five', 23, 5, 'one', 22.43}\n"
     ]
    }
   ],
   "source": [
    "# The set is unordered so we cannot add or update by using the index number.\n",
    "\n",
    "# 1. Add items to a set - add()\n",
    "add_set1={1,3,7,5,9,3,3,0,12,3,4}\n",
    "add_set2={'abc','def','ghi','gkl','mno'}\n",
    "add_set3={2.2,4.4,7.7,9.9,5.5,2.2,5.5,9.0}\n",
    "add_set4={5,'five',22.43,'one',23,'five' }\n",
    "\n",
    "add_set1.add(288)\n",
    "add_set2.add('xyz')\n",
    "add_set3.add(88.99)\n",
    "add_set4.add(True)\n",
    "\n",
    "print(add_set1, add_set2, add_set3, add_set4,sep='\\n')\n"
   ]
  },
  {
   "cell_type": "code",
   "execution_count": 179,
   "id": "f80b006f-6ee9-489c-8e05-e1efa14116df",
   "metadata": {},
   "outputs": [
    {
     "name": "stdout",
     "output_type": "stream",
     "text": [
      "{0, 888, 777, 555, 444, 222, 111}\n",
      "{'Three', 'One', 'Two', 'Eleven', 'Five', 'Four', 'Ten'}\n",
      "{999.34, 777.66, 555.44, 111.345, 175.897, 222.11}\n",
      "{128, ' ', 'e', 'i', 't', 23, 'x', 666.77, 's', 'd', 45, 'seven', 'm', 'n', 'l'}\n",
      "{0, 1, ' ', 's', 'e', 'd', 'x', 'i', 'n', 111.345, 175.897, 't', 'm', 'Eleven', 888, 'l', 'Ten'}\n"
     ]
    }
   ],
   "source": [
    "# 2. update set - update()\n",
    "add_sett1={111,222,444,555,777,222,555}\n",
    "add_sett2={'One','Two','Three','Four','Five'}\n",
    "add_sett3={222.11,555.44,777.66,999.34,222.11}\n",
    "add_sett4={23,45,'seven',666.77,128 }\n",
    "add_sett5={1}\n",
    "\n",
    "update_1={888,000}\n",
    "update_2=['Ten','Eleven']\n",
    "update_3=(111.345,175.897)\n",
    "update_4=\"mixed elements\"\n",
    "\n",
    "add_sett1.update(update_1)\n",
    "add_sett2.update(update_2)\n",
    "add_sett3.update(update_3)\n",
    "add_sett4.update(update_4)\n",
    "add_sett5.update(update_1, update_2, update_3, update_4)\n",
    "\n",
    "print(add_sett1, add_sett2, add_sett3, add_sett4, add_sett5, sep='\\n')"
   ]
  },
  {
   "cell_type": "markdown",
   "id": "03ee4f06-7e90-408f-81a4-f74fa3dba419",
   "metadata": {},
   "source": [
    "### Removing an element from a set -"
   ]
  },
  {
   "cell_type": "code",
   "execution_count": 182,
   "id": "e31abb19-9612-4e3d-8a04-4f0f97f49705",
   "metadata": {},
   "outputs": [
    {
     "name": "stdout",
     "output_type": "stream",
     "text": [
      "{1, 2, 3, 4, 7, 8, 9}\n",
      "{'e', 'o', 'u', 'i'}\n",
      "{2.2, 3.3, 7.7}\n",
      "{False, 66.98, 21, 23, 'z'}\n",
      "{-8, -6, -5, -4}\n"
     ]
    }
   ],
   "source": [
    "# Methods to remove an element from a set.\n",
    "\n",
    "# 1. remove() - removes the specified value from the set.\n",
    "\n",
    "#Examples for remove() method\n",
    "positive_num={2,3,4,7,2,8,9,2,4,0,1}\n",
    "vowels={'a','e','i','o','u'}\n",
    "floats={2.2,3.3,5.5,3.3,7.7}\n",
    "mixed={23,21,'z',66.98,True,'z',False}\n",
    "negative_num={-5,-9,-8,-4,-6,-8}\n",
    "\n",
    "positive_num.remove(0)\n",
    "vowels.remove('a')\n",
    "floats.remove(5.5)\n",
    "mixed.remove(True)\n",
    "negative_num.remove(-9)\n",
    "\n",
    "print(positive_num,vowels,floats,mixed,negative_num,sep='\\n')"
   ]
  },
  {
   "cell_type": "code",
   "execution_count": 184,
   "id": "b31f4b6c-abcd-467c-a679-e01583670210",
   "metadata": {},
   "outputs": [
    {
     "ename": "KeyError",
     "evalue": "5",
     "output_type": "error",
     "traceback": [
      "\u001b[1;31m---------------------------------------------------------------------------\u001b[0m",
      "\u001b[1;31mKeyError\u001b[0m                                  Traceback (most recent call last)",
      "Cell \u001b[1;32mIn[184], line 2\u001b[0m\n\u001b[0;32m      1\u001b[0m \u001b[38;5;66;03m# If the specified value does not exist in the set, Throw an TypeError\u001b[39;00m\n\u001b[1;32m----> 2\u001b[0m positive_num\u001b[38;5;241m.\u001b[39mremove(\u001b[38;5;241m5\u001b[39m)\n\u001b[0;32m      3\u001b[0m \u001b[38;5;28mprint\u001b[39m(positive_num)\n",
      "\u001b[1;31mKeyError\u001b[0m: 5"
     ]
    }
   ],
   "source": [
    "# If the specified value does not exist in the set, Throw an TypeError\n",
    "positive_num.remove(5)\n",
    "print(positive_num)"
   ]
  },
  {
   "cell_type": "code",
   "execution_count": 186,
   "id": "56d4ffe4-0e54-4fcc-ad15-1f4b79a48392",
   "metadata": {},
   "outputs": [
    {
     "ename": "TypeError",
     "evalue": "set.remove() takes exactly one argument (0 given)",
     "output_type": "error",
     "traceback": [
      "\u001b[1;31m---------------------------------------------------------------------------\u001b[0m",
      "\u001b[1;31mTypeError\u001b[0m                                 Traceback (most recent call last)",
      "Cell \u001b[1;32mIn[186], line 2\u001b[0m\n\u001b[0;32m      1\u001b[0m \u001b[38;5;66;03m# If the value is not given in the parenthesis in remove() method, Throw an KeyError\u001b[39;00m\n\u001b[1;32m----> 2\u001b[0m positive_num\u001b[38;5;241m.\u001b[39mremove()\n\u001b[0;32m      3\u001b[0m \u001b[38;5;28mprint\u001b[39m(positive_num)\n",
      "\u001b[1;31mTypeError\u001b[0m: set.remove() takes exactly one argument (0 given)"
     ]
    }
   ],
   "source": [
    "# If the value is not given in the parenthesis in remove() method, Throw an KeyError\n",
    "positive_num.remove()\n",
    "print(positive_num)"
   ]
  },
  {
   "cell_type": "code",
   "execution_count": 188,
   "id": "f4ba6714-dc6e-430d-8491-d07f25265c92",
   "metadata": {},
   "outputs": [
    {
     "name": "stdout",
     "output_type": "stream",
     "text": [
      "{0, 1, 2, 3, 7, 8, 9}\n",
      "{'e', 'u', 'i', 'a'}\n",
      "{2.2, 5.5, 7.7}\n",
      "{True, 66.98, 21, 23, 'z'}\n",
      "{-9, -6, -5, -4}\n"
     ]
    }
   ],
   "source": [
    "# 2. discard() - removes a specified value from the set.\n",
    "\n",
    "#Examples for discard() method\n",
    "positive_num={2,3,4,7,2,8,9,2,4,0,1}\n",
    "vowels={'a','e','i','o','u'}\n",
    "floats={2.2,3.3,5.5,3.3,7.7}\n",
    "mixed={23,21,'z',66.98,True,'z',False}\n",
    "negative_num={-5,-9,-8,-4,-6,-8}\n",
    "\n",
    "positive_num.discard(4)\n",
    "vowels.discard('o')\n",
    "floats.discard(3.3)\n",
    "mixed.discard(False)\n",
    "negative_num.discard(-8)\n",
    "\n",
    "print(positive_num,vowels,floats,mixed,negative_num,sep='\\n')"
   ]
  },
  {
   "cell_type": "code",
   "execution_count": 190,
   "id": "125c838c-5f9c-4cc1-acdc-3131c207826c",
   "metadata": {},
   "outputs": [],
   "source": [
    "# Discard() does not Throw an error if the specified value does not exist in the set.\n",
    "vowels.discard('h')"
   ]
  },
  {
   "cell_type": "code",
   "execution_count": 192,
   "id": "581782f0-5c06-41c5-a5a7-384f5934a28b",
   "metadata": {},
   "outputs": [
    {
     "name": "stdout",
     "output_type": "stream",
     "text": [
      "{5, 6, 7}\n",
      "{-8, -6, -5, -4}\n",
      "{'e', 'a'}\n",
      "{3.3}\n",
      "{'z', 23}\n"
     ]
    }
   ],
   "source": [
    "# 3. pop() - removes a random item in the set.\n",
    "\n",
    "#Examples for pop() method\n",
    "positive_num={3,5,6,7}\n",
    "negative_num={-5,-9,-8,-4,-6,-8}\n",
    "vowels={'a','e','i'}\n",
    "floats={2.2,3.3,3.3}\n",
    "mixed={23,'z',False}\n",
    "\n",
    "positive_num.pop()\n",
    "vowels.pop()\n",
    "floats.pop()\n",
    "mixed.pop()\n",
    "negative_num.pop()\n",
    "\n",
    "print(positive_num,negative_num,vowels,floats,mixed,sep='\\n')"
   ]
  },
  {
   "cell_type": "code",
   "execution_count": 193,
   "id": "718d624f-4358-4d31-98c7-4f0f2983f0cc",
   "metadata": {},
   "outputs": [
    {
     "name": "stdout",
     "output_type": "stream",
     "text": [
      "set()\n",
      "set()\n",
      "set()\n",
      "set()\n",
      "set()\n"
     ]
    }
   ],
   "source": [
    "# 4. clear() - removes every item/element from the set.\n",
    "\n",
    "#Examples for clear() method\n",
    "positive_num={2,3,4,7,2,8,9,2,4,0,1}\n",
    "vowels={'a','e','i','o','u'}\n",
    "floats={2.2,3.3,5.5,3.3,7.7}\n",
    "mixed={23,21,'z',66.98,True,'z',False}\n",
    "negative_num={-5,-9,-8,-4,-6,-8}\n",
    "\n",
    "positive_num.clear()\n",
    "vowels.clear()\n",
    "floats.clear()\n",
    "mixed.clear()\n",
    "negative_num.clear()\n",
    "\n",
    "print(positive_num,vowels,floats,mixed,negative_num,sep='\\n')"
   ]
  },
  {
   "cell_type": "code",
   "execution_count": 194,
   "id": "c27073f5-80a3-498e-82fd-d965b0dc0c85",
   "metadata": {},
   "outputs": [],
   "source": [
    "# 5. del - deletes or remove entire set.\n",
    "\n",
    "full_set={120,'one twenty',True,33.45,False}\n",
    "del full_set"
   ]
  },
  {
   "cell_type": "code",
   "execution_count": 196,
   "id": "761296cb-dc9b-4514-9cfe-7a7dab746f50",
   "metadata": {},
   "outputs": [
    {
     "ename": "NameError",
     "evalue": "name 'full_set' is not defined",
     "output_type": "error",
     "traceback": [
      "\u001b[1;31m---------------------------------------------------------------------------\u001b[0m",
      "\u001b[1;31mNameError\u001b[0m                                 Traceback (most recent call last)",
      "Cell \u001b[1;32mIn[196], line 1\u001b[0m\n\u001b[1;32m----> 1\u001b[0m \u001b[38;5;28mprint\u001b[39m(full_set)\n",
      "\u001b[1;31mNameError\u001b[0m: name 'full_set' is not defined"
     ]
    }
   ],
   "source": [
    "print(full_set) # Throws an error, because the set is deleted completely."
   ]
  },
  {
   "cell_type": "markdown",
   "id": "a812fd6a-e95e-4f4c-ba3f-b85ce1257c39",
   "metadata": {},
   "source": [
    "### Set operations -"
   ]
  },
  {
   "cell_type": "code",
   "execution_count": 199,
   "id": "51fa2aaf-686a-480d-927c-65b358da402d",
   "metadata": {},
   "outputs": [
    {
     "name": "stdout",
     "output_type": "stream",
     "text": [
      "{1, 34, 3, 4, 5, 6, 7, 67, 9, 10}\n",
      "{34, 67, 2.4, 3.5, 6.6, 7.9, 8.5, 10}\n",
      "{2.4, 3.5, 4.7, 6.6, 7.9, 8.5, 8.0, 9.9}\n",
      "{'append', 4.7, 'bend', 'cent', 'dent', 8.0, 9.9}\n",
      "{'cent', 'dent', 'either', 'or', 'nor', 'neither', 'append', 'ever', 'bend'}\n",
      "{1, 3, 4, 5, 6, 7, 'cent', 9, 'dent', 'append', 'bend'} {2.4, 3.5, 6.6, 7.9, 8.5, 'either', 'or', 'nor', 'neither', 'ever'}\n",
      "{1, 34, 3, 4, 5, 6, 7, 67, 9, 10}\n",
      "{34, 67, 2.4, 3.5, 6.6, 7.9, 8.5, 10}\n",
      "{2.4, 3.5, 4.7, 6.6, 7.9, 8.5, 8.0, 9.9}\n",
      "{'append', 4.7, 'bend', 'cent', 'dent', 8.0, 9.9}\n",
      "{'cent', 'dent', 'either', 'or', 'nor', 'neither', 'append', 'ever', 'bend'}\n",
      "{1, 2.4, 3, 4, 5, 6, 7, 67, 9, 10, 3.5, 6.6, 7.9, 8.5, 8.0, 9.9, 'cent', 'ever', 'nor', 'bend', 4.7, 34, 'dent', 'either', 'neither', 'append', 'or'}\n"
     ]
    }
   ],
   "source": [
    "# 1. union() - combines elements from sets and removes duplicates. we can use the '|' symbol or 'union()' to perform union operation.\n",
    "\n",
    "#Examples for union() method\n",
    "A={1,4,7,9,3,4,5,6,4}\n",
    "B={10,34,67,10}\n",
    "C={6.6,7.9,2.4,3.5,6.6,8.5,3.5}\n",
    "D={9.9,4.7,4.7,9.9,4.7,8.0}\n",
    "E={'append','bend','cent','dent','bend'}\n",
    "F={'either','neither','nor','or','ever','either'}\n",
    "\n",
    "print(A|B,B|C,C|D,D|E,E|F,sep='\\n') # using '|' symbol\n",
    "print(A|E,C|F) # using '|' symbol\n",
    "\n",
    "print(A.union(B),B.union(C), C.union(D), D.union(E), E.union(F),sep='\\n') #  using 'union()' syntax\n",
    "print(A.union(B,C,D,E,F)) #  using 'union()' syntax"
   ]
  },
  {
   "cell_type": "code",
   "execution_count": 200,
   "id": "c41a6251-d331-44cb-9e81-ddaa1b4b9137",
   "metadata": {},
   "outputs": [
    {
     "name": "stdout",
     "output_type": "stream",
     "text": [
      "{1, 3, 4, 7, 9}\n",
      "set()\n",
      "{8.0, 9.9, 6.6}\n",
      "set()\n",
      "{'or', 'either', 'dent'}\n",
      "set()\n",
      "set()\n",
      "{1, 3, 4, 7, 9}\n",
      "set()\n",
      "{8.0, 9.9, 6.6}\n",
      "set()\n",
      "{'or', 'either', 'dent'}\n",
      "set()\n"
     ]
    }
   ],
   "source": [
    "# 2. intersection () - returns common elements from sets.we can use the '&' symbol or 'intersection()' to perform intersection operation.\n",
    "\n",
    "#Examples for intersection() method\n",
    "A1={1,7,9,3,5,6,4}\n",
    "B1={1,3,4,7,10,9}\n",
    "C1={7.6,7.9,2.4,9.9,6.6,8.0,3.5}\n",
    "D1={6.6,4.7,4.7,9.9,4.7,8.0}\n",
    "E1={'either','bend','cent','dent','or'}\n",
    "F1={'either','append','nor','or','dent','either'}\n",
    "\n",
    "print(A1&B1,B1&C1,C1&D1,D1&E1,E1&F1,sep='\\n') # using '&' symbol\n",
    "print(A1&E1,C1&F1,sep='\\n') # using '&' symbol\n",
    "\n",
    "print(A1.intersection(B1),B1.intersection(C1), C1.intersection(D1), D1.intersection(E1), E1.intersection(F1),sep='\\n') #  using 'intersection()' syntax\n",
    "print(A1.intersection(B1,C1,D1,E1,F1)) #  using 'intersection()' syntax"
   ]
  },
  {
   "cell_type": "code",
   "execution_count": 201,
   "id": "82702168-9e0e-4232-a11c-abb7e76dded7",
   "metadata": {},
   "outputs": [
    {
     "name": "stdout",
     "output_type": "stream",
     "text": [
      "{11, 34, 67, 22}\n",
      "{33, 45, 78, 23, 56, 57}\n",
      "{2.14, 7.19, 13.5, 16.6, 18.5}\n",
      "{18.0, 19.9, 14.7}\n",
      "{'banana', 'papaya', 'grapes'}\n",
      "{33, 78, 57}\n",
      "{2.14, 7.19, 13.5, 16.6, 18.5}\n",
      "{18.0, 19.9, 14.7}\n",
      "{'guava', 'banana', 'papaya', 'grapes', 'apple'}\n",
      "{'jack fruit', 'mango', 'guava', 'watermelon', 'apple', 'orange'}\n",
      "{11, 34, 67, 22}\n",
      "{33, 45, 78, 23, 56, 57}\n",
      "{2.14, 7.19, 13.5, 16.6, 18.5}\n",
      "{18.0, 19.9, 14.7}\n",
      "{'banana', 'papaya', 'grapes'}\n"
     ]
    }
   ],
   "source": [
    "# 3. difference() - returns elements that are in the first set not in the second set. we can use the '-' symbol or 'differnece()'.\n",
    "\n",
    "#Examples for difference() method\n",
    "A2={11,23,45,67,34,22,56,45}\n",
    "B2={23,33,56,45,78,57}\n",
    "C2={16.6,7.19,2.14,13.5,16.6,18.5,13.5}\n",
    "D2={19.9,14.7,14.7,19.9,14.7,18.0}\n",
    "E2={'apple','banana','apple','grapes','guava','papaya'}\n",
    "F2={'guava','apple','jack fruit','mango','watermelon','orange'}\n",
    "\n",
    "print(A2-B2,B2-C2,C2-D2,D2-E2,E2-F2,sep='\\n') # using '-' symbol\n",
    "print(B2-A2,C2-B2,D2-C2,E2-D2,F2-E,sep='\\n') # using '-' symbol\n",
    "\n",
    "print(A2.difference(B2),B2.difference(C2), C2.difference(D2), D2.difference(E2), E2.difference(F2),sep='\\n') #  using 'difference()' syntax"
   ]
  },
  {
   "cell_type": "code",
   "execution_count": 202,
   "id": "1847641a-5576-4e03-83d4-c31217f49e6a",
   "metadata": {},
   "outputs": [
    {
     "name": "stdout",
     "output_type": "stream",
     "text": [
      "{224, 226, 280, 250, 222, 223}\n",
      "{777.777, 333.333, 280, 221, 222.222, 225, 227, 555.555, 111.111, 888.888, 250}\n",
      "{0.0, 999.999, 777.777, 555.555, 333.333, 888.888, 666.666, 222.222}\n",
      "{0.0, 'jasmine', 'rose', 666.666, 999.999, 'lily', 111.111, 'iris', 'tulip'}\n",
      "{'bluebell', 'jasmine', 'rose', 'coneflower', 'lily', 'sunflower', 'lavender'}\n",
      "{'jasmine', 'rose', 221, 222, 223, 224, 225, 226, 227, 'lily', 'iris', 'tulip'}\n",
      "{'bluebell', 777.777, 333.333, 'coneflower', 222.222, 'sunflower', 555.555, 111.111, 'lavender', 888.888, 'iris', 'tulip'}\n",
      "{224, 226, 280, 250, 222, 223}\n",
      "{777.777, 333.333, 280, 221, 222.222, 225, 227, 555.555, 111.111, 888.888, 250}\n",
      "{0.0, 999.999, 777.777, 555.555, 333.333, 888.888, 666.666, 222.222}\n",
      "{0.0, 'jasmine', 'rose', 666.666, 999.999, 'lily', 111.111, 'iris', 'tulip'}\n",
      "{'bluebell', 'jasmine', 'rose', 'coneflower', 'lily', 'sunflower', 'lavender'}\n"
     ]
    }
   ],
   "source": [
    "# 4. symmetric_difference() - returns the set that contains all items from the both sets, but not the items that are present in the both sets.\n",
    "# we can use the '^' symbol or 'symmetric_difference()' to perform symmetric_difference operation.\n",
    "\n",
    "#Examples for symmetric_difference() method\n",
    "A3={221,224,223,225,222,221,225,226,227}\n",
    "B3={221,225,280,250,227,221}\n",
    "C3={111.111,222.222,555.555,777.777,888.888,333.333}\n",
    "D3={000.000,111.111,999.999,666.666}\n",
    "E3={'rose','jasmine','lily','tulip','iris'}\n",
    "F3={'sunflower','lavender','iris','bluebell','tulip','coneflower'}\n",
    "\n",
    "print(A3^B3,B3^C3,C3^D3,D3^E3,E3^F3,sep='\\n') # using '^' symbol\n",
    "print(A3^E3,C3^F3,sep='\\n') # using '^' symbol\n",
    "\n",
    "print(A3.symmetric_difference(B3),B3.symmetric_difference(C3), C3.symmetric_difference(D3), D3.symmetric_difference(E3), E3.symmetric_difference(F3),sep='\\n') #  using 'symmetric_difference()' syntax"
   ]
  },
  {
   "cell_type": "markdown",
   "id": "b13b37a0-625b-4802-85a3-021f14f6b3d5",
   "metadata": {},
   "source": [
    "### Other set methods -"
   ]
  },
  {
   "cell_type": "code",
   "execution_count": 204,
   "id": "31ceb5f6-5f2f-4078-a7e2-5952158bd836",
   "metadata": {},
   "outputs": [
    {
     "name": "stdout",
     "output_type": "stream",
     "text": [
      "{'City Union Bank', 'HDFC Bank', 'State Bank of India', 'ICICI Bank', 'Bank of Baroda', 'Kotak Mahindra'}\n",
      "{6000, 1780, 799, 22219, 9693, 8735}\n",
      "{10033, 1762, 2963, 1700, 62617, 20938}\n",
      "{2000, 100, 500}\n"
     ]
    }
   ],
   "source": [
    "# 1. copy() - copies the set\n",
    "\n",
    "#Examples for copy() method\n",
    "banks={'State Bank of India','Kotak Mahindra','City Union Bank','Bank of Baroda','HDFC Bank','ICICI Bank'}\n",
    "no_of_Branches={22219,1780,799,9693,8735,6000}\n",
    "no_of_atms={62617,2963,1762,10033,20938,1700}\n",
    "notes_in_atm={100,500,2000}\n",
    "\n",
    "banks_copy=banks.copy()\n",
    "no_of_Branches_copy=no_of_Branches.copy()\n",
    "no_of_atms_copy=no_of_atms.copy()\n",
    "notes_in_atm_copy=notes_in_atm.copy()\n",
    "\n",
    "print(banks_copy,no_of_Branches_copy,no_of_atms_copy,notes_in_atm_copy,sep='\\n')"
   ]
  },
  {
   "cell_type": "code",
   "execution_count": 206,
   "id": "b0e13995-c5a0-482b-8ab8-40b6f4d5525d",
   "metadata": {},
   "outputs": [
    {
     "name": "stdout",
     "output_type": "stream",
     "text": [
      "True\n",
      "False\n"
     ]
    }
   ],
   "source": [
    "# 2. isdisjoint() - returns True if none of the items are present in both sets, otherwise it returns False.\n",
    "\n",
    "#Examples for isdisjoint()\n",
    "vegetables1={'Tomato','potato','brinjal','carrot'}\n",
    "vegetables2={'Ladies Finger','Bottle Guard','Sour guard','Bitter Guard'}\n",
    "\n",
    "num={3,5,2,6,8,9}\n",
    "numm={1,0,7,4,2}\n",
    "\n",
    "print(vegetables1.isdisjoint(vegetables2))\n",
    "print(num.isdisjoint(numm))"
   ]
  },
  {
   "cell_type": "code",
   "execution_count": 211,
   "id": "96bd5752-2710-4ebe-9793-80c23111a99c",
   "metadata": {},
   "outputs": [
    {
     "name": "stdout",
     "output_type": "stream",
     "text": [
      "False\n",
      "True\n",
      "True\n",
      "True\n"
     ]
    }
   ],
   "source": [
    "# 3. issubset() - returns True if all items in the set exist in the specified set, otherwise it returns False. '<='\n",
    "\n",
    "#Examples for issunset() - method\n",
    "\n",
    "x1={2,3,5,7,8,9,1,0,2,5}\n",
    "x2={2,3,8,3,0}\n",
    "\n",
    "x3={1,3,5,7,9}\n",
    "x4={1,3,5,7,9} \n",
    "\n",
    "print(x1.issubset(x2)) ## x3 = x1 <= x2 we can use this syntax also for issubset\n",
    "print(x2.issubset(x1))\n",
    "\n",
    "print(x3.issubset(x4)) # checking issubset() if the both sets have same items\n",
    "print(x4.issubset(x3))"
   ]
  },
  {
   "cell_type": "code",
   "execution_count": 212,
   "id": "5095dc67-fba9-473a-a397-7012f2f5aa5b",
   "metadata": {},
   "outputs": [
    {
     "name": "stdout",
     "output_type": "stream",
     "text": [
      "True\n",
      "False\n",
      "True\n",
      "True\n"
     ]
    }
   ],
   "source": [
    "# 4. issuperset() - returns True if all the items in the specified set exist in the original set, otherwise it returns False. '>='\n",
    "\n",
    "#Examples for issuperset() - method\n",
    "y1={'a', 'b', 'c', 'd', 'e','f', 'g', 'h'}\n",
    "y2={'a','d','f','d'}\n",
    "\n",
    "y3={'x','y','z'}\n",
    "y4={'x','y','z'}\n",
    "\n",
    "print(y1.issuperset(y2)) ## y3 = y1 >= y2 we can use this syntax also for issuperset\n",
    "print(y2.issuperset(y1))\n",
    "\n",
    "print(y3.issubset(y4)) # checking issuperset() if the both sets have same items\n",
    "print(y4.issubset(y3))"
   ]
  },
  {
   "cell_type": "code",
   "execution_count": 214,
   "id": "502d6fa0-3880-468c-91e3-7396a179d143",
   "metadata": {},
   "outputs": [],
   "source": [
    "# Below examples may throw an Error. Because we are performing set operations on different datatypes"
   ]
  },
  {
   "cell_type": "code",
   "execution_count": 215,
   "id": "34ade321-6bf7-4f5c-a64c-d8462e421145",
   "metadata": {},
   "outputs": [
    {
     "ename": "TypeError",
     "evalue": "unsupported operand type(s) for |: 'list' and 'list'",
     "output_type": "error",
     "traceback": [
      "\u001b[1;31m---------------------------------------------------------------------------\u001b[0m",
      "\u001b[1;31mTypeError\u001b[0m                                 Traceback (most recent call last)",
      "Cell \u001b[1;32mIn[215], line 8\u001b[0m\n\u001b[0;32m      5\u001b[0m a1\u001b[38;5;241m=\u001b[39m[\u001b[38;5;124m'\u001b[39m\u001b[38;5;124mb\u001b[39m\u001b[38;5;124m'\u001b[39m, \u001b[38;5;124m'\u001b[39m\u001b[38;5;124mc\u001b[39m\u001b[38;5;124m'\u001b[39m, \u001b[38;5;124m'\u001b[39m\u001b[38;5;124md\u001b[39m\u001b[38;5;124m'\u001b[39m, \u001b[38;5;124m'\u001b[39m\u001b[38;5;124me\u001b[39m\u001b[38;5;124m'\u001b[39m, \u001b[38;5;124m'\u001b[39m\u001b[38;5;124mg\u001b[39m\u001b[38;5;124m'\u001b[39m, \u001b[38;5;124m'\u001b[39m\u001b[38;5;124mh\u001b[39m\u001b[38;5;124m'\u001b[39m] \u001b[38;5;66;03m# list\u001b[39;00m\n\u001b[0;32m      6\u001b[0m b1\u001b[38;5;241m=\u001b[39m[\u001b[38;5;124m'\u001b[39m\u001b[38;5;124ma\u001b[39m\u001b[38;5;124m'\u001b[39m,\u001b[38;5;124m'\u001b[39m\u001b[38;5;124md\u001b[39m\u001b[38;5;124m'\u001b[39m,\u001b[38;5;124m'\u001b[39m\u001b[38;5;124mf\u001b[39m\u001b[38;5;124m'\u001b[39m,\u001b[38;5;124m'\u001b[39m\u001b[38;5;124md\u001b[39m\u001b[38;5;124m'\u001b[39m]\n\u001b[1;32m----> 8\u001b[0m \u001b[38;5;28mprint\u001b[39m(a1\u001b[38;5;241m|\u001b[39mb1)\n",
      "\u001b[1;31mTypeError\u001b[0m: unsupported operand type(s) for |: 'list' and 'list'"
     ]
    }
   ],
   "source": [
    "# checking if the set operations are working on other datatypes\n",
    "\n",
    "#Examples for list\n",
    "\n",
    "a1=['b', 'c', 'd', 'e', 'g', 'h'] # list\n",
    "b1=['a','d','f','d']\n",
    "\n",
    "print(a1|b1)"
   ]
  },
  {
   "cell_type": "code",
   "execution_count": 251,
   "id": "347535f3-ee0b-4e88-9363-fc87514e38f2",
   "metadata": {},
   "outputs": [
    {
     "ename": "AttributeError",
     "evalue": "'tuple' object has no attribute 'intersection'",
     "output_type": "error",
     "traceback": [
      "\u001b[1;31m---------------------------------------------------------------------------\u001b[0m",
      "\u001b[1;31mAttributeError\u001b[0m                            Traceback (most recent call last)",
      "Cell \u001b[1;32mIn[251], line 1\u001b[0m\n\u001b[1;32m----> 1\u001b[0m \u001b[38;5;28mprint\u001b[39m(a1\u001b[38;5;241m.\u001b[39mintersection(b1))\n",
      "\u001b[1;31mAttributeError\u001b[0m: 'tuple' object has no attribute 'intersection'"
     ]
    }
   ],
   "source": [
    "print(a1.intersection(b1))"
   ]
  },
  {
   "cell_type": "code",
   "execution_count": 253,
   "id": "fbee6cb1-7c1b-4207-847c-3096cc7dd90c",
   "metadata": {},
   "outputs": [
    {
     "ename": "AttributeError",
     "evalue": "'tuple' object has no attribute 'difference'",
     "output_type": "error",
     "traceback": [
      "\u001b[1;31m---------------------------------------------------------------------------\u001b[0m",
      "\u001b[1;31mAttributeError\u001b[0m                            Traceback (most recent call last)",
      "Cell \u001b[1;32mIn[253], line 1\u001b[0m\n\u001b[1;32m----> 1\u001b[0m \u001b[38;5;28mprint\u001b[39m(a1\u001b[38;5;241m.\u001b[39mdifference(b1))\n",
      "\u001b[1;31mAttributeError\u001b[0m: 'tuple' object has no attribute 'difference'"
     ]
    }
   ],
   "source": [
    "print(a1.difference(b1))"
   ]
  },
  {
   "cell_type": "code",
   "execution_count": 255,
   "id": "120aba0c-54ba-43fb-8e51-224d778b41f8",
   "metadata": {},
   "outputs": [
    {
     "ename": "AttributeError",
     "evalue": "'tuple' object has no attribute 'symmetric_difference'",
     "output_type": "error",
     "traceback": [
      "\u001b[1;31m---------------------------------------------------------------------------\u001b[0m",
      "\u001b[1;31mAttributeError\u001b[0m                            Traceback (most recent call last)",
      "Cell \u001b[1;32mIn[255], line 1\u001b[0m\n\u001b[1;32m----> 1\u001b[0m \u001b[38;5;28mprint\u001b[39m(a1\u001b[38;5;241m.\u001b[39msymmetric_difference(b1))\n",
      "\u001b[1;31mAttributeError\u001b[0m: 'tuple' object has no attribute 'symmetric_difference'"
     ]
    }
   ],
   "source": [
    "print(a1.symmetric_difference(b1))"
   ]
  },
  {
   "cell_type": "code",
   "execution_count": 257,
   "id": "5fc66eeb-2b6c-4dba-bbe5-755ffcb828b1",
   "metadata": {},
   "outputs": [
    {
     "ename": "TypeError",
     "evalue": "unsupported operand type(s) for |: 'tuple' and 'tuple'",
     "output_type": "error",
     "traceback": [
      "\u001b[1;31m---------------------------------------------------------------------------\u001b[0m",
      "\u001b[1;31mTypeError\u001b[0m                                 Traceback (most recent call last)",
      "Cell \u001b[1;32mIn[257], line 6\u001b[0m\n\u001b[0;32m      3\u001b[0m a1\u001b[38;5;241m=\u001b[39m(\u001b[38;5;124m'\u001b[39m\u001b[38;5;124mb\u001b[39m\u001b[38;5;124m'\u001b[39m, \u001b[38;5;124m'\u001b[39m\u001b[38;5;124mc\u001b[39m\u001b[38;5;124m'\u001b[39m, \u001b[38;5;124m'\u001b[39m\u001b[38;5;124md\u001b[39m\u001b[38;5;124m'\u001b[39m, \u001b[38;5;124m'\u001b[39m\u001b[38;5;124me\u001b[39m\u001b[38;5;124m'\u001b[39m, \u001b[38;5;124m'\u001b[39m\u001b[38;5;124mg\u001b[39m\u001b[38;5;124m'\u001b[39m, \u001b[38;5;124m'\u001b[39m\u001b[38;5;124mh\u001b[39m\u001b[38;5;124m'\u001b[39m) \u001b[38;5;66;03m# Tuple\u001b[39;00m\n\u001b[0;32m      4\u001b[0m b1\u001b[38;5;241m=\u001b[39m(\u001b[38;5;124m'\u001b[39m\u001b[38;5;124ma\u001b[39m\u001b[38;5;124m'\u001b[39m,\u001b[38;5;124m'\u001b[39m\u001b[38;5;124md\u001b[39m\u001b[38;5;124m'\u001b[39m,\u001b[38;5;124m'\u001b[39m\u001b[38;5;124mf\u001b[39m\u001b[38;5;124m'\u001b[39m,\u001b[38;5;124m'\u001b[39m\u001b[38;5;124md\u001b[39m\u001b[38;5;124m'\u001b[39m)\n\u001b[1;32m----> 6\u001b[0m \u001b[38;5;28mprint\u001b[39m(a1\u001b[38;5;241m|\u001b[39mb1)\n",
      "\u001b[1;31mTypeError\u001b[0m: unsupported operand type(s) for |: 'tuple' and 'tuple'"
     ]
    }
   ],
   "source": [
    "#examples for tuple\n",
    "\n",
    "a1=('b', 'c', 'd', 'e', 'g', 'h') # Tuple\n",
    "b1=('a','d','f','d')\n",
    "\n",
    "print(a1|b1)"
   ]
  },
  {
   "cell_type": "code",
   "execution_count": 259,
   "id": "492f2d95-ec6a-4d5a-8217-47049d32aa53",
   "metadata": {},
   "outputs": [
    {
     "ename": "AttributeError",
     "evalue": "'tuple' object has no attribute 'intersection'",
     "output_type": "error",
     "traceback": [
      "\u001b[1;31m---------------------------------------------------------------------------\u001b[0m",
      "\u001b[1;31mAttributeError\u001b[0m                            Traceback (most recent call last)",
      "Cell \u001b[1;32mIn[259], line 1\u001b[0m\n\u001b[1;32m----> 1\u001b[0m \u001b[38;5;28mprint\u001b[39m(a1\u001b[38;5;241m.\u001b[39mintersection(b1))\n",
      "\u001b[1;31mAttributeError\u001b[0m: 'tuple' object has no attribute 'intersection'"
     ]
    }
   ],
   "source": [
    "print(a1.intersection(b1))"
   ]
  },
  {
   "cell_type": "code",
   "execution_count": 261,
   "id": "5f64f1a5-d828-4dab-a3e5-292fb0c02122",
   "metadata": {},
   "outputs": [
    {
     "ename": "AttributeError",
     "evalue": "'tuple' object has no attribute 'difference'",
     "output_type": "error",
     "traceback": [
      "\u001b[1;31m---------------------------------------------------------------------------\u001b[0m",
      "\u001b[1;31mAttributeError\u001b[0m                            Traceback (most recent call last)",
      "Cell \u001b[1;32mIn[261], line 1\u001b[0m\n\u001b[1;32m----> 1\u001b[0m \u001b[38;5;28mprint\u001b[39m(a1\u001b[38;5;241m.\u001b[39mdifference(b1))\n",
      "\u001b[1;31mAttributeError\u001b[0m: 'tuple' object has no attribute 'difference'"
     ]
    }
   ],
   "source": [
    "print(a1.difference(b1))"
   ]
  },
  {
   "cell_type": "code",
   "execution_count": 263,
   "id": "61bb9112-ae46-42f1-b23e-b8b84ee3f258",
   "metadata": {},
   "outputs": [
    {
     "ename": "AttributeError",
     "evalue": "'tuple' object has no attribute 'symmetric_difference'",
     "output_type": "error",
     "traceback": [
      "\u001b[1;31m---------------------------------------------------------------------------\u001b[0m",
      "\u001b[1;31mAttributeError\u001b[0m                            Traceback (most recent call last)",
      "Cell \u001b[1;32mIn[263], line 1\u001b[0m\n\u001b[1;32m----> 1\u001b[0m \u001b[38;5;28mprint\u001b[39m(a1\u001b[38;5;241m.\u001b[39msymmetric_difference(b1))\n",
      "\u001b[1;31mAttributeError\u001b[0m: 'tuple' object has no attribute 'symmetric_difference'"
     ]
    }
   ],
   "source": [
    "print(a1.symmetric_difference(b1))"
   ]
  },
  {
   "cell_type": "code",
   "execution_count": 265,
   "id": "e5af7c32-97cb-4dfd-9061-827c2dae1547",
   "metadata": {},
   "outputs": [
    {
     "name": "stdout",
     "output_type": "stream",
     "text": [
      "{'apple': 'red', 'guava': 'green', 'grape': 'green', 'Orange': 'orange'}\n"
     ]
    }
   ],
   "source": [
    "#Examples for dictionary\n",
    "\n",
    "fruits_colours_1 = {\n",
    "    \"apple\": 'red',\n",
    "    \"guava\": 'green',\n",
    "    \"grape\": 'green'\n",
    "}\n",
    "\n",
    "fruits_colours_2 = {\n",
    "    \"apple\": 'red',\n",
    "    \"Orange\": 'orange',\n",
    "    \"grape\": 'green'\n",
    "}\n",
    "\n",
    "fruit=fruits_colours_1|fruits_colours_2\n",
    "print(fruit)"
   ]
  },
  {
   "cell_type": "code",
   "execution_count": 267,
   "id": "171aa653-dd89-496e-8331-41d9ddbaf846",
   "metadata": {},
   "outputs": [
    {
     "ename": "AttributeError",
     "evalue": "'dict' object has no attribute 'intersection'",
     "output_type": "error",
     "traceback": [
      "\u001b[1;31m---------------------------------------------------------------------------\u001b[0m",
      "\u001b[1;31mAttributeError\u001b[0m                            Traceback (most recent call last)",
      "Cell \u001b[1;32mIn[267], line 1\u001b[0m\n\u001b[1;32m----> 1\u001b[0m fruit1\u001b[38;5;241m=\u001b[39mfruits_colours_1\u001b[38;5;241m.\u001b[39mintersection(fruits_colours_2)\n\u001b[0;32m      2\u001b[0m \u001b[38;5;28mprint\u001b[39m(fruit1)\n",
      "\u001b[1;31mAttributeError\u001b[0m: 'dict' object has no attribute 'intersection'"
     ]
    }
   ],
   "source": [
    "fruit1=fruits_colours_1.intersection(fruits_colours_2)\n",
    "print(fruit1)"
   ]
  },
  {
   "cell_type": "code",
   "execution_count": 269,
   "id": "cc3812df-c33f-4372-8421-db3477fa00bc",
   "metadata": {},
   "outputs": [
    {
     "ename": "TypeError",
     "evalue": "unsupported operand type(s) for -: 'dict' and 'dict'",
     "output_type": "error",
     "traceback": [
      "\u001b[1;31m---------------------------------------------------------------------------\u001b[0m",
      "\u001b[1;31mTypeError\u001b[0m                                 Traceback (most recent call last)",
      "Cell \u001b[1;32mIn[269], line 1\u001b[0m\n\u001b[1;32m----> 1\u001b[0m fruit2\u001b[38;5;241m=\u001b[39mfruits_colours_1\u001b[38;5;241m-\u001b[39mfruits_colours_2\n\u001b[0;32m      3\u001b[0m \u001b[38;5;28mprint\u001b[39m(fruit2)\n",
      "\u001b[1;31mTypeError\u001b[0m: unsupported operand type(s) for -: 'dict' and 'dict'"
     ]
    }
   ],
   "source": [
    "fruit2=fruits_colours_1-fruits_colours_2\n",
    "\n",
    "print(fruit2)"
   ]
  },
  {
   "cell_type": "code",
   "execution_count": 271,
   "id": "0f1e122f-c921-4437-b4a6-92ad07422331",
   "metadata": {},
   "outputs": [
    {
     "ename": "AttributeError",
     "evalue": "'dict' object has no attribute 'symmetric_difference'",
     "output_type": "error",
     "traceback": [
      "\u001b[1;31m---------------------------------------------------------------------------\u001b[0m",
      "\u001b[1;31mAttributeError\u001b[0m                            Traceback (most recent call last)",
      "Cell \u001b[1;32mIn[271], line 1\u001b[0m\n\u001b[1;32m----> 1\u001b[0m fruit3\u001b[38;5;241m=\u001b[39mfruits_colours_1\u001b[38;5;241m.\u001b[39msymmetric_difference(fruits_colours_2)\n\u001b[0;32m      3\u001b[0m \u001b[38;5;28mprint\u001b[39m(fruit3)\n",
      "\u001b[1;31mAttributeError\u001b[0m: 'dict' object has no attribute 'symmetric_difference'"
     ]
    }
   ],
   "source": [
    "fruit3=fruits_colours_1.symmetric_difference(fruits_colours_2)\n",
    "\n",
    "print(fruit3)"
   ]
  },
  {
   "cell_type": "code",
   "execution_count": 273,
   "id": "3cf694d2-355c-49ee-ac8e-0771b1db859a",
   "metadata": {},
   "outputs": [
    {
     "ename": "TypeError",
     "evalue": "unsupported operand type(s) for |: 'set' and 'tuple'",
     "output_type": "error",
     "traceback": [
      "\u001b[1;31m---------------------------------------------------------------------------\u001b[0m",
      "\u001b[1;31mTypeError\u001b[0m                                 Traceback (most recent call last)",
      "Cell \u001b[1;32mIn[273], line 6\u001b[0m\n\u001b[0;32m      3\u001b[0m x1\u001b[38;5;241m=\u001b[39m{\u001b[38;5;241m2\u001b[39m,\u001b[38;5;241m3\u001b[39m,\u001b[38;5;241m5\u001b[39m,\u001b[38;5;241m7\u001b[39m,\u001b[38;5;241m8\u001b[39m,\u001b[38;5;241m9\u001b[39m,\u001b[38;5;241m1\u001b[39m,\u001b[38;5;241m0\u001b[39m,\u001b[38;5;241m2\u001b[39m,\u001b[38;5;241m5\u001b[39m} \u001b[38;5;66;03m# set and tuple\u001b[39;00m\n\u001b[0;32m      4\u001b[0m x2\u001b[38;5;241m=\u001b[39m(\u001b[38;5;241m2\u001b[39m,\u001b[38;5;241m3\u001b[39m,\u001b[38;5;241m8\u001b[39m,\u001b[38;5;241m3\u001b[39m,\u001b[38;5;241m0\u001b[39m)\n\u001b[1;32m----> 6\u001b[0m \u001b[38;5;28mprint\u001b[39m(x1\u001b[38;5;241m|\u001b[39mx2)\n",
      "\u001b[1;31mTypeError\u001b[0m: unsupported operand type(s) for |: 'set' and 'tuple'"
     ]
    }
   ],
   "source": [
    "#Examples for two different datatypes\n",
    "\n",
    "x1={2,3,5,7,8,9,1,0,2,5} # set and tuple\n",
    "x2=(2,3,8,3,0)\n",
    "\n",
    "print(x1|x2)"
   ]
  },
  {
   "cell_type": "code",
   "execution_count": 275,
   "id": "950661f7-aff7-4c22-ba69-54ddaaacf501",
   "metadata": {},
   "outputs": [
    {
     "ename": "TypeError",
     "evalue": "unsupported operand type(s) for &: 'set' and 'tuple'",
     "output_type": "error",
     "traceback": [
      "\u001b[1;31m---------------------------------------------------------------------------\u001b[0m",
      "\u001b[1;31mTypeError\u001b[0m                                 Traceback (most recent call last)",
      "Cell \u001b[1;32mIn[275], line 4\u001b[0m\n\u001b[0;32m      1\u001b[0m x3\u001b[38;5;241m=\u001b[39m{\u001b[38;5;241m2\u001b[39m,\u001b[38;5;241m3\u001b[39m,\u001b[38;5;241m5\u001b[39m,\u001b[38;5;241m7\u001b[39m,\u001b[38;5;241m8\u001b[39m,\u001b[38;5;241m9\u001b[39m,\u001b[38;5;241m1\u001b[39m,\u001b[38;5;241m0\u001b[39m,\u001b[38;5;241m2\u001b[39m,\u001b[38;5;241m5\u001b[39m} \u001b[38;5;66;03m# set and list\u001b[39;00m\n\u001b[0;32m      2\u001b[0m x4\u001b[38;5;241m=\u001b[39m[\u001b[38;5;241m2\u001b[39m,\u001b[38;5;241m3\u001b[39m,\u001b[38;5;241m8\u001b[39m,\u001b[38;5;241m3\u001b[39m,\u001b[38;5;241m0\u001b[39m]\n\u001b[1;32m----> 4\u001b[0m \u001b[38;5;28mprint\u001b[39m(x1\u001b[38;5;241m&\u001b[39mx2)\n",
      "\u001b[1;31mTypeError\u001b[0m: unsupported operand type(s) for &: 'set' and 'tuple'"
     ]
    }
   ],
   "source": [
    "x3={2,3,5,7,8,9,1,0,2,5} # set and list\n",
    "x4=[2,3,8,3,0]\n",
    "\n",
    "print(x1&x2)"
   ]
  }
 ],
 "metadata": {
  "kernelspec": {
   "display_name": "Python 3 (ipykernel)",
   "language": "python",
   "name": "python3"
  },
  "language_info": {
   "codemirror_mode": {
    "name": "ipython",
    "version": 3
   },
   "file_extension": ".py",
   "mimetype": "text/x-python",
   "name": "python",
   "nbconvert_exporter": "python",
   "pygments_lexer": "ipython3",
   "version": "3.12.4"
  }
 },
 "nbformat": 4,
 "nbformat_minor": 5
}
