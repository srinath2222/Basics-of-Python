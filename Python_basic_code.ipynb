{
 "cells": [
  {
   "cell_type": "code",
   "execution_count": 29,
   "id": "ab83bd9a-f911-4b47-a5d1-cec5977c8e8f",
   "metadata": {},
   "outputs": [
    {
     "name": "stdout",
     "output_type": "stream",
     "text": [
      "Hello World\n"
     ]
    }
   ],
   "source": [
    "# First Program in python\n",
    "\n",
    "print(\"Hello World\") "
   ]
  },
  {
   "cell_type": "code",
   "execution_count": 43,
   "id": "6c14b1f6-3997-4355-bb05-7c0034a1fec0",
   "metadata": {},
   "outputs": [
    {
     "name": "stdout",
     "output_type": "stream",
     "text": [
      "python version: 3.12.4 | packaged by Anaconda, Inc. | (main, Jun 18 2024, 15:03:56) [MSC v.1929 64 bit (AMD64)]\n"
     ]
    }
   ],
   "source": [
    "# To print the current version of python \n",
    "\n",
    "import sys \n",
    "print(\"python version:\", sys.version)"
   ]
  },
  {
   "cell_type": "code",
   "execution_count": 45,
   "id": "22887bda-04fc-4192-87e8-4e6cb4360ea0",
   "metadata": {},
   "outputs": [
    {
     "name": "stdout",
     "output_type": "stream",
     "text": [
      "10\n"
     ]
    }
   ],
   "source": [
    "# Python Indentation (four spaces)\n",
    "\n",
    "i=10 \n",
    "if i>5:\n",
    "    print(i)"
   ]
  },
  {
   "cell_type": "code",
   "execution_count": 47,
   "id": "8b1830a3-bd8a-4043-9750-0af8164b5f78",
   "metadata": {},
   "outputs": [
    {
     "name": "stdout",
     "output_type": "stream",
     "text": [
      "HI BYE\n"
     ]
    }
   ],
   "source": [
    "# Python Comments (comments can be used to explain a code in between no.of line.compiler/interpreter ignores the comments)\n",
    "\n",
    "# This is a comment\n",
    "print(\"HI BYE\")"
   ]
  },
  {
   "cell_type": "code",
   "execution_count": 49,
   "id": "50661946-1864-4888-881b-e5a9fa59a8b5",
   "metadata": {},
   "outputs": [
    {
     "name": "stdout",
     "output_type": "stream",
     "text": [
      "['False', 'None', 'True', 'and', 'as', 'assert', 'async', 'await', 'break', 'class', 'continue', 'def', 'del', 'elif', 'else', 'except', 'finally', 'for', 'from', 'global', 'if', 'import', 'in', 'is', 'lambda', 'nonlocal', 'not', 'or', 'pass', 'raise', 'return', 'try', 'while', 'with', 'yield']\n"
     ]
    },
    {
     "data": {
      "text/plain": [
       "35"
      ]
     },
     "execution_count": 49,
     "metadata": {},
     "output_type": "execute_result"
    }
   ],
   "source": [
    "# Python Keywords\n",
    "\n",
    "import keyword\n",
    "python_keywordss=keyword.kwlist # gets the list of keyword of python\n",
    "print(python_keywordss) #prints's the list of keywords\n",
    "len(python_keywordss) #print's the length of keywords (no.of keywords)"
   ]
  },
  {
   "cell_type": "code",
   "execution_count": null,
   "id": "325488b4-c159-4173-952e-46d7b33283f9",
   "metadata": {},
   "outputs": [],
   "source": []
  }
 ],
 "metadata": {
  "kernelspec": {
   "display_name": "Python 3 (ipykernel)",
   "language": "python",
   "name": "python3"
  },
  "language_info": {
   "codemirror_mode": {
    "name": "ipython",
    "version": 3
   },
   "file_extension": ".py",
   "mimetype": "text/x-python",
   "name": "python",
   "nbconvert_exporter": "python",
   "pygments_lexer": "ipython3",
   "version": "3.12.4"
  }
 },
 "nbformat": 4,
 "nbformat_minor": 5
}
